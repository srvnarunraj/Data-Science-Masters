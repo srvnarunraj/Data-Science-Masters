{
 "cells": [
  {
   "cell_type": "markdown",
   "id": "c97bfc52-b1cc-4eaa-b9a7-8e1ab07a0b48",
   "metadata": {
    "tags": []
   },
   "source": [
    "## 1. Marks - Grade"
   ]
  },
  {
   "cell_type": "code",
   "execution_count": 6,
   "id": "de03a897-c17f-4e69-8517-73b8edddbffc",
   "metadata": {},
   "outputs": [
    {
     "name": "stdin",
     "output_type": "stream",
     "text": [
      "Enter your Percentage : 98\n"
     ]
    },
    {
     "name": "stdout",
     "output_type": "stream",
     "text": [
      " Grade A\n"
     ]
    }
   ],
   "source": [
    "percentage = int(input(\"Enter your Percentage :\"))\n",
    "if percentage > 90 and percentage <= 100:\n",
    "\tprint(' Grade A')\n",
    "elif percentage > 80 and percentage <=90:\n",
    "\tprint('Grade B ')\n",
    "elif percentage >= 60 and percentage <=80:\n",
    "\tprint('Grade C ')\n",
    "elif percentage < 60 and percentage > 0:\n",
    "\tprint('Grade D ')\n",
    "else:\n",
    "\tprint('Invalid')\n",
    "                       "
   ]
  },
  {
   "cell_type": "markdown",
   "id": "b14f8ecb-cd12-4648-ae15-6dfc625f615f",
   "metadata": {
    "tags": []
   },
   "source": [
    "## 2. Bike cost - Tax"
   ]
  },
  {
   "cell_type": "code",
   "execution_count": 10,
   "id": "885ef7a0-a72d-4499-a18b-ad76b04db10f",
   "metadata": {},
   "outputs": [
    {
     "name": "stdin",
     "output_type": "stream",
     "text": [
      "Enter the cost of the bike : 150000\n"
     ]
    },
    {
     "name": "stdout",
     "output_type": "stream",
     "text": [
      "Tax is 15% which is 22500.0\n"
     ]
    }
   ],
   "source": [
    "cost = int(input(\"Enter the cost of the bike :\"))\n",
    "if cost > 100000:\n",
    "    print(f\"Tax is 15% which is {cost * 15/100}\")\n",
    "elif cost > 50000 and cost <= 100000:\n",
    "\tprint(f\"Tax is 10% which is {cost * 10/100}\")\n",
    "elif cost <=50000:\n",
    "    print(f\"Tax is 5% which is {cost * 5/100 }\")\n",
    "else:\n",
    "    print(\"invalid\")"
   ]
  },
  {
   "cell_type": "markdown",
   "id": "0abf846a-89e9-4fd8-9afc-9fcc9076914b",
   "metadata": {
    "tags": []
   },
   "source": [
    "## 3. City - Monuments"
   ]
  },
  {
   "cell_type": "code",
   "execution_count": 12,
   "id": "9a78daa5-24b2-4b05-82f4-48d8fbf0df22",
   "metadata": {},
   "outputs": [
    {
     "name": "stdin",
     "output_type": "stream",
     "text": [
      "Enter the city :  Agra\n"
     ]
    },
    {
     "name": "stdout",
     "output_type": "stream",
     "text": [
      "Taj Mahal\n"
     ]
    }
   ],
   "source": [
    "city = input('Enter the city : ')\n",
    "answer = {'Delhi':'Redfort','Agra':'Taj Mahal','Jaipur':'JalMahal'}\n",
    "print(answer[city])"
   ]
  },
  {
   "cell_type": "markdown",
   "id": "02d63748-42dc-444f-8e07-340014e4b9f4",
   "metadata": {
    "tags": []
   },
   "source": [
    "## 4. No. of time Number Divisble by 3 below 10"
   ]
  },
  {
   "cell_type": "code",
   "execution_count": 16,
   "id": "7cb3a7a3-66f9-4776-8c36-1b08cbfeef94",
   "metadata": {},
   "outputs": [
    {
     "name": "stdin",
     "output_type": "stream",
     "text": [
      "Enter the number:  156\n"
     ]
    },
    {
     "name": "stdout",
     "output_type": "stream",
     "text": [
      "156 can be divided 3 times less than or eqals to 10\n"
     ]
    }
   ],
   "source": [
    "n = number = int(input(\"Enter the number: \"))\n",
    "count = 0\n",
    "while number > 10:\n",
    "    number /= 3\n",
    "    count += 1\n",
    "print(f\"{n} can be divided {count} times less than or eqals to 10\")"
   ]
  },
  {
   "cell_type": "markdown",
   "id": "a0802743-0baa-407d-bb58-e00647e92eab",
   "metadata": {
    "tags": []
   },
   "source": [
    "## 5. Why are Loops used in Python"
   ]
  },
  {
   "cell_type": "code",
   "execution_count": 30,
   "id": "e3a4bbac-2d41-4272-9686-718b428968bb",
   "metadata": {},
   "outputs": [
    {
     "name": "stdout",
     "output_type": "stream",
     "text": [
      "Loops are used in python to repeat certain block of code n No. of times\n",
      "1\n",
      "2\n",
      "3\n",
      "4\n",
      "5\n"
     ]
    }
   ],
   "source": [
    "print('Loops are used in python to repeat certain block of code n No. of times')\n",
    " # Example is : \n",
    "for i in range(1, 6):\n",
    "    print(i)"
   ]
  },
  {
   "cell_type": "markdown",
   "id": "53fbaa81-20f5-42ef-89e8-e5b08185475b",
   "metadata": {},
   "source": [
    "In the above code we didnt write print statement 5 times, instead used a loop to do it"
   ]
  },
  {
   "cell_type": "markdown",
   "id": "cbc15aac-4b6a-4e6c-8eb2-fcf7c85cf54b",
   "metadata": {
    "tags": []
   },
   "source": [
    "## 6. While Loop to 3 Patterns"
   ]
  },
  {
   "cell_type": "markdown",
   "id": "52b65f1e-17af-4979-a8d4-f3eebb54f46c",
   "metadata": {},
   "source": [
    "### Right Triangle"
   ]
  },
  {
   "cell_type": "code",
   "execution_count": 26,
   "id": "954d9f03-e863-4d23-b7d7-f1958aaa6564",
   "metadata": {},
   "outputs": [
    {
     "name": "stdin",
     "output_type": "stream",
     "text": [
      "Enter number of rows for right angle triangle:  5\n"
     ]
    },
    {
     "name": "stdout",
     "output_type": "stream",
     "text": [
      "* \n",
      "* * \n",
      "* * * \n",
      "* * * * \n",
      "* * * * * \n"
     ]
    }
   ],
   "source": [
    "rows = int(input(\"Enter number of rows for right angle triangle: \"))\n",
    "i = 1\n",
    "while i <= rows:\n",
    "    j = 1\n",
    "    while j <= i:\n",
    "        print(\"*\", end=\" \")\n",
    "        j += 1\n",
    "    print()\n",
    "    i += 1"
   ]
  },
  {
   "cell_type": "markdown",
   "id": "7189ddac-b2f6-4873-b3eb-15c8eca4f4c1",
   "metadata": {},
   "source": [
    "### Triangle"
   ]
  },
  {
   "cell_type": "code",
   "execution_count": 22,
   "id": "6266c25c-1a13-4cf8-b96b-96123ed99f58",
   "metadata": {},
   "outputs": [
    {
     "name": "stdin",
     "output_type": "stream",
     "text": [
      "Enter number of rows for normal triangle:  5\n"
     ]
    },
    {
     "name": "stdout",
     "output_type": "stream",
     "text": [
      "        * \n",
      "      * * * \n",
      "    * * * * * \n",
      "  * * * * * * * \n",
      "* * * * * * * * * \n"
     ]
    }
   ],
   "source": [
    "rows = int(input(\"Enter number of rows for normal triangle: \"))\n",
    "i = 1\n",
    "while i <= rows:\n",
    "    j = 1\n",
    "    while j <= rows - i:\n",
    "        print(\" \", end=\" \")\n",
    "        j += 1\n",
    "    k = 1\n",
    "    while k <= 2 * i - 1:\n",
    "        print(\"*\", end=\" \")\n",
    "        k += 1\n",
    "    print()\n",
    "    i += 1"
   ]
  },
  {
   "cell_type": "markdown",
   "id": "f5f91a2c-2af5-4d02-8532-87a546a338a1",
   "metadata": {},
   "source": [
    "### Square"
   ]
  },
  {
   "cell_type": "code",
   "execution_count": 24,
   "id": "ff3328ce-84ff-4929-8e6a-5d0297021bce",
   "metadata": {},
   "outputs": [
    {
     "name": "stdin",
     "output_type": "stream",
     "text": [
      "Enter number of rows for square:  5\n"
     ]
    },
    {
     "name": "stdout",
     "output_type": "stream",
     "text": [
      "* * * * * \n",
      "* * * * * \n",
      "* * * * * \n",
      "* * * * * \n",
      "* * * * * \n"
     ]
    }
   ],
   "source": [
    "rows = int(input(\"Enter number of rows for square: \"))\n",
    "i = 1\n",
    "while i <= rows:\n",
    "    j = 1\n",
    "    while j <= rows:\n",
    "        print(\"*\", end=\" \")\n",
    "        j += 1\n",
    "    print()\n",
    "    i += 1"
   ]
  },
  {
   "cell_type": "markdown",
   "id": "c98e3462-1ab4-43ce-b214-a3e346dbc6d4",
   "metadata": {
    "tags": []
   },
   "source": [
    "## 8. Reverse number from 10 - 1"
   ]
  },
  {
   "cell_type": "code",
   "execution_count": 29,
   "id": "11d9579a-affe-43c2-9535-b460b77e2cef",
   "metadata": {},
   "outputs": [
    {
     "name": "stdout",
     "output_type": "stream",
     "text": [
      "10\n",
      "9\n",
      "8\n",
      "7\n",
      "6\n",
      "5\n",
      "4\n",
      "3\n",
      "2\n",
      "1\n"
     ]
    }
   ],
   "source": [
    "i = 10\n",
    "while i!=0:\n",
    "    print(i)\n",
    "    i -=1"
   ]
  },
  {
   "cell_type": "code",
   "execution_count": null,
   "id": "34aa1765-fba7-4076-8730-8a7ca96a6615",
   "metadata": {},
   "outputs": [],
   "source": []
  }
 ],
 "metadata": {
  "kernelspec": {
   "display_name": "Python 3 (ipykernel)",
   "language": "python",
   "name": "python3"
  },
  "language_info": {
   "codemirror_mode": {
    "name": "ipython",
    "version": 3
   },
   "file_extension": ".py",
   "mimetype": "text/x-python",
   "name": "python",
   "nbconvert_exporter": "python",
   "pygments_lexer": "ipython3",
   "version": "3.10.8"
  }
 },
 "nbformat": 4,
 "nbformat_minor": 5
}
