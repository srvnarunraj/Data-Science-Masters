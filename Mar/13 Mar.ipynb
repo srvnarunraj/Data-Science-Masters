{
 "cells": [
  {
   "cell_type": "markdown",
   "id": "7039b29f-9483-4392-a160-0e08e6ad7999",
   "metadata": {},
   "source": [
    "### Q1. Explain the assumptions required to use ANOVA and provide examples of violations that could impact the validity of the results."
   ]
  },
  {
   "cell_type": "markdown",
   "id": "af06e430-60e7-44d6-ba85-0d34638dff7a",
   "metadata": {},
   "source": [
    "***ANOVA assumptions :***\n",
    "\n",
    "* The observations are independent and identically distributed.\n",
    "* The populations have equal variances.\n",
    "* The populations are normally distributed.\n",
    "    \n",
    "**Examples of violations that could impact the validity of ANOVA results are:**\n",
    "    \n",
    "* **Violation of independence:** if the observations are not independent, it can lead to inflated Type I error rates.\n",
    "* **Violation of equal variances:** unequal variances can lead to biased results and reduced power.\n",
    "* **Violation of normality:** if the populations are not normally distributed, it can lead to inaccurate p-values and confidence intervals."
   ]
  },
  {
   "cell_type": "markdown",
   "id": "92f46c1a-a6f6-4bc3-ab48-7c40f9cc7300",
   "metadata": {},
   "source": [
    "### Q2. What are the three types of ANOVA, and in what situations would each be used?"
   ]
  },
  {
   "cell_type": "markdown",
   "id": "d2282459-fbc2-4ad6-9446-9f810b547c0f",
   "metadata": {},
   "source": [
    " The three types of ANOVA are:\n",
    "1. One-way ANOVA: used to compare means across two or more groups when there is only one independent variable.\n",
    "2. Two-way ANOVA: used to analyze the effects of two independent variables on a dependent variable.\n",
    "3. Repeated measures ANOVA: used when the same subjects are measured multiple times under different conditions."
   ]
  },
  {
   "cell_type": "markdown",
   "id": "acc5311b-f9c0-4fc0-82f0-a016c777f9dc",
   "metadata": {},
   "source": [
    "### Q3. What is the partitioning of variance in ANOVA, and why is it important to understand this concept?"
   ]
  },
  {
   "cell_type": "markdown",
   "id": "02281677-7ab8-461b-a90f-a7aab226aad5",
   "metadata": {},
   "source": [
    "* The partitioning of variance in ANOVA involves dividing the total variance in the data into components that can be attributed to different sources, such as group differences, error, and interaction effects. \n",
    "\n",
    "* Understanding this concept is important because it helps to identify the sources of variation in the data and determine the extent to which group differences are responsible for the observed effects."
   ]
  },
  {
   "cell_type": "markdown",
   "id": "cde6e8f2-0ad2-47d8-8807-0c2fba6b35cc",
   "metadata": {},
   "source": [
    "### Q4. How would you calculate the total sum of squares (SST), explained sum of squares (SSE), and residual sum of squares (SSR) in a one-way ANOVA using Python?"
   ]
  },
  {
   "cell_type": "code",
   "execution_count": 2,
   "id": "3ac8e198-a33c-4373-a670-0388ff7ebbf2",
   "metadata": {},
   "outputs": [
    {
     "name": "stdout",
     "output_type": "stream",
     "text": [
      "SST = 303.3333333333333\n",
      "SSE = 186.66666666666663\n",
      "SSR = 20.740740740740737\n"
     ]
    }
   ],
   "source": [
    "import scipy.stats as stats\n",
    "import numpy as np\n",
    "\n",
    "group1 = [1, 2, 3, 4]\n",
    "group2 = [2, 4, 6, 8]\n",
    "group3 = [3, 6, 9, 12]\n",
    "\n",
    "f_stat, p_val = stats.f_oneway(group1, group2, group3)\n",
    "\n",
    "n = len(group1) + len(group2) + len(group3)\n",
    "df_total = n - 1\n",
    "df_groups = 3 - 1\n",
    "df_error = df_total - df_groups\n",
    "\n",
    "sst = sum(np.array(group1 + group2 + group3)**2) - (sum(group1)**2 + sum(group2)**2 + sum(group3)**2)/n\n",
    "sse = sst - (sum(np.array(group1))**2 + sum(np.array(group2))**2 + sum(np.array(group3))**2)/n\n",
    "ssr = sse / df_error\n",
    "\n",
    "print(\"SST =\", sst)\n",
    "print(\"SSE =\", sse)\n",
    "print(\"SSR =\", ssr)\n"
   ]
  },
  {
   "cell_type": "markdown",
   "id": "8a5b6abe-abf7-454e-9bcb-0b315b4ac236",
   "metadata": {},
   "source": [
    "### Q5. In a two-way ANOVA, how would you calculate the main effects and interaction effects using Python?"
   ]
  },
  {
   "cell_type": "code",
   "execution_count": 3,
   "id": "02f67daf-8572-4b46-949b-685f7f6dd815",
   "metadata": {},
   "outputs": [
    {
     "name": "stdout",
     "output_type": "stream",
     "text": [
      "            df        sum_sq       mean_sq    F  PR(>F)\n",
      "C(A)       2.0  1.600000e+01  8.000000e+00  0.0     NaN\n",
      "C(B)       1.0  1.500000e+00  1.500000e+00  0.0     NaN\n",
      "C(A):C(B)  2.0  1.232595e-30  6.162976e-31  0.0     NaN\n",
      "Residual   0.0  1.972152e-30           inf  NaN     NaN\n"
     ]
    },
    {
     "name": "stderr",
     "output_type": "stream",
     "text": [
      "/opt/conda/lib/python3.10/site-packages/statsmodels/stats/anova.py:138: RuntimeWarning: divide by zero encountered in double_scalars\n",
      "  (model.ssr / model.df_resid))\n"
     ]
    }
   ],
   "source": [
    "import statsmodels.api as sm\n",
    "from statsmodels.formula.api import ols\n",
    "import pandas as pd\n",
    "# Example data\n",
    "data = {'y': [1, 2, 3, 4, 5, 6], 'A': ['a1', 'a1', 'a2', 'a2', 'a3', 'a3'], 'B': ['b1', 'b2', 'b1', 'b2', 'b1', 'b2']}\n",
    "df = pd.DataFrame(data)\n",
    "\n",
    "# Fit the model\n",
    "model = ols('y ~ C(A) + C(B) + C(A):C(B)', data=df).fit()\n",
    "\n",
    "# Perform ANOVA and print results\n",
    "anova_table = sm.stats.anova_lm(model)\n",
    "print(anova_table)"
   ]
  },
  {
   "cell_type": "markdown",
   "id": "18ebed7a-4334-4511-98c4-9812cf86f353",
   "metadata": {},
   "source": [
    "### Q6. Suppose you conducted a one-way ANOVA and obtained an F-statistic of 5.23 and a p-value of 0.02. What can you conclude about the differences between the groups, and how would you interpret these results?"
   ]
  },
  {
   "cell_type": "markdown",
   "id": "37c5529f-1166-45e0-85f9-740e064a7418",
   "metadata": {},
   "source": [
    "With an F-statistic of 5.23 and a p-value of 0.02 in a one-way ANOVA, we can conclude that there are significant differences between at least two groups. This means that the null hypothesis, which states that there are no differences between the groups, is rejected. The p-value of 0.02 indicates that there is a 2% chance of observing such differences by chance alone. Therefore, we can reject the null hypothesis and conclude that there are significant differences between the groups. However, we cannot determine which specific groups are different from each other without further analysis."
   ]
  },
  {
   "cell_type": "markdown",
   "id": "62974e21-d258-4a4a-9863-3b03959b0434",
   "metadata": {},
   "source": [
    "### Q7. In a repeated measures ANOVA, how would you handle missing data, and what are the potential consequences of using different methods to handle missing data?"
   ]
  },
  {
   "cell_type": "markdown",
   "id": "ace6737a-a0e0-4e2a-aa91-bce2365e599b",
   "metadata": {},
   "source": [
    "* Handling missing data in a repeated measures ANOVA depends on the reason for the missing data. \n",
    "* If the data are missing completely at random, one option is to delete the missing data points.\n",
    "* Another option is to impute the missing values using methods such as mean imputation or regression imputation. \n",
    "* If the data are missing not at random, such as when missing data are related to the outcome variable or the independent variable, then the analysis may be biased if missing data are ignored.\n",
    "* One potential consequence of using different methods to handle missing data is that the results may differ, leading to different conclusions about the effects of the independent variable on the outcome variable."
   ]
  },
  {
   "cell_type": "markdown",
   "id": "f7f51b69-e03c-40d8-9ff2-6589ea16c464",
   "metadata": {},
   "source": [
    "### Q8. What are some common post-hoc tests used after ANOVA, and when would you use each one? Provide an example of a situation where a post-hoc test might be necessary.### Q9. A researcher wants to compare the mean weight loss of three diets: A, B, and C. They collect data from 50 participants who were randomly assigned to one of the diets. Conduct a one-way ANOVA using Python to determine if there are any significant differences between the mean weight loss of the three diets. Report the F-statistic and p-value, and interpret the results.\n"
   ]
  },
  {
   "cell_type": "markdown",
   "id": "fad4c6b8-aa35-48f4-a760-36775f681f7d",
   "metadata": {},
   "source": [
    "* Common post-hoc tests used after ANOVA include Tukey's Honestly Significant Difference (HSD), Bonferroni correction, and Scheffe's method. \n",
    "* Tukey's HSD is used when the sample sizes are equal, and it tests all possible pairwise differences between groups.\n",
    "* Bonferroni correction is a conservative method that adjusts the significance level for multiple comparisons.\n",
    "* Scheffe's method is more conservative than Tukey's HSD and is used when the sample sizes are unequal.\n",
    "* Post-hoc tests are necessary when the ANOVA indicates that there are significant differences between groups but does not identify which specific groups are different."
   ]
  },
  {
   "cell_type": "markdown",
   "id": "421698f5-d694-4f90-881b-72e57b9129bb",
   "metadata": {},
   "source": [
    "### Q9. A researcher wants to compare the mean weight loss of three diets: A, B, and C. They collect data from 50 participants who were randomly assigned to one of the diets. Conduct a one-way ANOVA using Python to determine if there are any significant differences between the mean weight loss of the three diets. Report the F-statistic and p-value, and interpret the results.\n"
   ]
  },
  {
   "cell_type": "code",
   "execution_count": 4,
   "id": "01e48a5d-235b-43cd-8ddf-35fbf3f65f6e",
   "metadata": {},
   "outputs": [
    {
     "name": "stdout",
     "output_type": "stream",
     "text": [
      "F-statistic:  7.038948850305019\n",
      "p-value:  0.0016138769339523271\n"
     ]
    }
   ],
   "source": [
    "from scipy.stats import f_oneway\n",
    "import numpy as np\n",
    "\n",
    "# Define the data for each diet\n",
    "diet_A = np.array([1.2, 1.5, 1.8, 2.1, 1.3, 1.6, 1.9, 2.2, 1.4, 1.7, 2.0, 2.3, 1.5, 1.8, 2.1, 2.4, 1.6, 1.9, 2.2, 2.5, 1.7, 2.0, 2.3, 2.6, 1.8])\n",
    "diet_B = np.array([1.4, 1.7, 2.0, 2.3, 1.5, 1.8, 2.1, 2.4, 1.6, 1.9, 2.2, 2.5, 1.7, 2.0, 2.3, 2.6, 1.8, 2.1, 2.4, 2.7, 1.9, 2.2, 2.5, 2.8, 2.0])\n",
    "diet_C = np.array([1.6, 1.9, 2.2, 2.5, 1.7, 2.0, 2.3, 2.6, 1.8, 2.1, 2.4, 2.7, 1.9, 2.2, 2.5, 2.8, 2.0, 2.3, 2.6, 2.9, 2.1, 2.4, 2.7, 3.0, 2.2])\n",
    "\n",
    "# Perform one-way ANOVA\n",
    "f_statistic, p_value = f_oneway(diet_A, diet_B, diet_C)\n",
    "\n",
    "# Print the results\n",
    "print(\"F-statistic: \", f_statistic)\n",
    "print(\"p-value: \", p_value)"
   ]
  },
  {
   "cell_type": "code",
   "execution_count": null,
   "id": "8a7ac7f4-8615-4df5-8a0c-abb069a8565c",
   "metadata": {},
   "outputs": [],
   "source": []
  },
  {
   "cell_type": "markdown",
   "id": "feab4610-9552-44e8-8d4f-0e2d814ec03d",
   "metadata": {},
   "source": [
    "### Q10. A company wants to know if there are any significant differences in the average time it takes to complete a task using three different software programs: Program A, Program B, and Program C. They randomly assign 30 employees to one of the programs and record the time it takes each employee to complete the task. Conduct a two-way ANOVA using Python to determine if there are any main effects or interaction effects between the software programs and employee experience level (novice vs.experienced). Report the F-statistics and p-values, and interpret the results."
   ]
  },
  {
   "cell_type": "code",
   "execution_count": 5,
   "id": "9bec4a90-c96b-4639-aa71-a161b32cb93d",
   "metadata": {},
   "outputs": [
    {
     "name": "stdout",
     "output_type": "stream",
     "text": [
      "                                           df      sum_sq   mean_sq         F  \\\n",
      "C(software_program)                       2.0    0.320333  0.160167  0.075818   \n",
      "C(experience_level)                       1.0    3.360667  3.360667  1.590834   \n",
      "C(software_program):C(experience_level)   2.0    2.336333  1.168167  0.552973   \n",
      "Residual                                 54.0  114.076000  2.112519       NaN   \n",
      "\n",
      "                                           PR(>F)  \n",
      "C(software_program)                      0.927084  \n",
      "C(experience_level)                      0.212629  \n",
      "C(software_program):C(experience_level)  0.578459  \n",
      "Residual                                      NaN  \n"
     ]
    }
   ],
   "source": [
    "import statsmodels.api as sm\n",
    "from statsmodels.formula.api import ols\n",
    "import pandas as pd\n",
    "\n",
    "# create a sample data frame with 3 software programs and 2 experience levels\n",
    "data = pd.DataFrame({\n",
    "    'software_program': ['A', 'B', 'C'] * 20,\n",
    "    'experience_level': ['novice', 'experienced'] * 30,\n",
    "    'time': [15.6, 12.7, 14.2, 13.3, 12.1,13.7, 14.5, 12.9, 13.8, 13.2,\n",
    "            15.6, 12.7, 14.2, 13.3, 12.1, 13.7, 14.5, 12.9, 13.8, 13.2,\n",
    "             15.1, 14.5, 13.9, 13.2, 15.8, 16.1, 15.2, 14.8, 16.4, 16.6,\n",
    "             11.9, 10.7, 11.5, 11.8, 11.2, 11.6, 12.3, 11.1, 12.4, 12.6,\n",
    "             13.7, 14.2, 13.3, 14.1, 14.5, 13.8, 14.6, 13.4, 15.1, 14.9,\n",
    "             15.1, 14.5, 13.9,13.7, 14.2, 13.3,15.2, 14.8, 16.4, 16.6\n",
    "            ]\n",
    "})\n",
    "\n",
    "# fit the ANOVA model with software_program and experience_level as factors\n",
    "model = ols('time ~ C(software_program) + C(experience_level) + C(software_program):C(experience_level)', data=data).fit()\n",
    "anova_results = sm.stats.anova_lm(model)\n",
    "\n",
    "print(anova_results)"
   ]
  },
  {
   "cell_type": "markdown",
   "id": "180160c4-489e-4d82-9279-9c92ee7bf6a0",
   "metadata": {},
   "source": [
    "### Q11. An educational researcher is interested in whether a new teaching method improves student test scores. They randomly assign 100 students to either the control group (traditional teaching method) or the experimental group (new teaching method) and administer a test at the end of the semester. Conduct a two-sample t-test using Python to determine if there are any significant differences in test scores between the two groups. If the results are significant, follow up with a post-hoc test to determine which group(s) differ significantly from each other."
   ]
  },
  {
   "cell_type": "code",
   "execution_count": 6,
   "id": "efd9120b-4bdf-43cc-9c06-b36c335d79b3",
   "metadata": {},
   "outputs": [
    {
     "name": "stdout",
     "output_type": "stream",
     "text": [
      "t-statistic:  -3.67625761123462\n",
      "p-value:  0.00038638058667233476\n"
     ]
    }
   ],
   "source": [
    "import numpy as np\n",
    "from scipy.stats import ttest_ind\n",
    "\n",
    "# Generate random data for the control and experimental groups\n",
    "control_scores = np.random.normal(loc=70, scale=10, size=50)\n",
    "experimental_scores = np.random.normal(loc=75, scale=10, size=50)\n",
    "\n",
    "# Compute the t-test\n",
    "t_statistic, p_value = ttest_ind(control_scores, experimental_scores)\n",
    "\n",
    "# Print the results\n",
    "print(\"t-statistic: \", t_statistic)\n",
    "print(\"p-value: \", p_value)"
   ]
  },
  {
   "cell_type": "code",
   "execution_count": null,
   "id": "ae5e6f21-ea32-4a00-8870-57c443f533e0",
   "metadata": {},
   "outputs": [],
   "source": []
  },
  {
   "cell_type": "markdown",
   "id": "ec6fac8c-b64b-4b85-a935-378f457a91d1",
   "metadata": {},
   "source": [
    "The pairwise_tukeyhsd() function takes in the combined scores and the group variable, as well as the significance level (0.05 in this case). It returns a table that shows which groups differ significantly from each other."
   ]
  },
  {
   "cell_type": "code",
   "execution_count": 7,
   "id": "bd371a08-a8d1-49c7-8b79-7441e0ebe064",
   "metadata": {},
   "outputs": [
    {
     "name": "stdout",
     "output_type": "stream",
     "text": [
      "   Multiple Comparison of Means - Tukey HSD, FWER=0.05    \n",
      "==========================================================\n",
      " group1    group2    meandiff p-adj  lower   upper  reject\n",
      "----------------------------------------------------------\n",
      "control experimental   6.9999 0.0004 3.2213 10.7785   True\n",
      "----------------------------------------------------------\n"
     ]
    }
   ],
   "source": [
    "from statsmodels.stats.multicomp import pairwise_tukeyhsd\n",
    "\n",
    "# Combine the scores for the two groups\n",
    "all_scores = np.concatenate([control_scores, experimental_scores])\n",
    "\n",
    "# Generate a group variable that indicates which group each score belongs to\n",
    "groups = np.array([\"control\"] * 50 + [\"experimental\"] * 50)\n",
    "\n",
    "# Perform Tukey's HSD test\n",
    "tukey_results = pairwise_tukeyhsd(all_scores, groups, 0.05)\n",
    "\n",
    "# Print the results\n",
    "print(tukey_results)\n"
   ]
  },
  {
   "cell_type": "markdown",
   "id": "4d60e70e-a14a-4777-8069-84bb206bfaa4",
   "metadata": {},
   "source": [
    "### Q12. A researcher wants to know if there are any significant differences in the average daily sales of three retail stores: Store A, Store B, and Store C. They randomly select 30 days and record the sales for each store on those days. Conduct a repeated measures ANOVA using Python to determine if there are any significant differences in sales between the three stores. If the results are significant, follow up with a post-hoc test to determine which store(s) differ significantly from each other."
   ]
  },
  {
   "cell_type": "code",
   "execution_count": 8,
   "id": "5005a4f3-6822-4578-8a10-2eded8d8635d",
   "metadata": {},
   "outputs": [
    {
     "name": "stdout",
     "output_type": "stream",
     "text": [
      "               sum_sq    df          F        PR(>F)\n",
      "Store     5169.946981   2.0  25.665314  1.734360e-09\n",
      "Residual  8762.514852  87.0        NaN           NaN\n"
     ]
    }
   ],
   "source": [
    "import pandas as pd\n",
    "import statsmodels.api as sm\n",
    "from statsmodels.formula.api import ols\n",
    "import numpy as np\n",
    "\n",
    "# Create a DataFrame with the sales data\n",
    "data = {'Store': ['A']*30 + ['B']*30 + ['C']*30,\n",
    "        'Sales': np.concatenate([np.random.normal(50, 10, 30), \n",
    "                                  np.random.normal(60, 10, 30), \n",
    "                                  np.random.normal(70, 10, 30)])}\n",
    "\n",
    "df = pd.DataFrame(data)\n",
    "\n",
    "# Fit the repeated measures ANOVA model\n",
    "model = ols('Sales ~ Store', data=df).fit()\n",
    "\n",
    "# Print the ANOVA table\n",
    "anova_table = sm.stats.anova_lm(model, typ=2)\n",
    "print(anova_table)"
   ]
  },
  {
   "cell_type": "code",
   "execution_count": null,
   "id": "17f063f4-b61f-41d0-920d-38cffe8ce150",
   "metadata": {},
   "outputs": [],
   "source": []
  },
  {
   "cell_type": "markdown",
   "id": "0919bee6-7c7f-4127-8610-82e66cd5bc01",
   "metadata": {},
   "source": [
    "In the above example, we created a DataFrame with the sales data for the three stores. You should replace this with your own data.\n",
    "\n",
    "If the p-value for the \"Store\" factor is less than 0.05 (assuming a significance level of 0.05), we can reject the null hypothesis and conclude that there is a significant difference in sales between the three stores.\n",
    "\n",
    "To follow up with a post-hoc test to determine which store(s) differ significantly from each other, you can use Tukey's HSD test. Here's how you can do it:"
   ]
  },
  {
   "cell_type": "code",
   "execution_count": 9,
   "id": "31901a4a-2dae-4bf0-ba75-bbd69c5ca860",
   "metadata": {},
   "outputs": [
    {
     "name": "stdout",
     "output_type": "stream",
     "text": [
      "Multiple Comparison of Means - Tukey HSD, FWER=0.05 \n",
      "====================================================\n",
      "group1 group2 meandiff p-adj   lower   upper  reject\n",
      "----------------------------------------------------\n",
      "     A      B  11.0459 0.0001  4.8671 17.2247   True\n",
      "     A      C  18.4453    0.0 12.2666 24.6241   True\n",
      "     B      C   7.3994 0.0147  1.2207 13.5782   True\n",
      "----------------------------------------------------\n"
     ]
    }
   ],
   "source": [
    "from statsmodels.stats.multicomp import pairwise_tukeyhsd\n",
    "\n",
    "# Perform Tukey's HSD test\n",
    "tukey_results = pairwise_tukeyhsd(df['Sales'], df['Store'], 0.05)\n",
    "\n",
    "# Print the results\n",
    "print(tukey_results)"
   ]
  },
  {
   "cell_type": "code",
   "execution_count": null,
   "id": "d2a93593-ee2d-42c4-a8c1-6a205a2b5de6",
   "metadata": {},
   "outputs": [],
   "source": []
  }
 ],
 "metadata": {
  "kernelspec": {
   "display_name": "Python 3 (ipykernel)",
   "language": "python",
   "name": "python3"
  },
  "language_info": {
   "codemirror_mode": {
    "name": "ipython",
    "version": 3
   },
   "file_extension": ".py",
   "mimetype": "text/x-python",
   "name": "python",
   "nbconvert_exporter": "python",
   "pygments_lexer": "ipython3",
   "version": "3.10.8"
  }
 },
 "nbformat": 4,
 "nbformat_minor": 5
}
