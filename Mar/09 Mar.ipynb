{
 "cells": [
  {
   "cell_type": "markdown",
   "id": "718277ea-fbf7-4fb4-94bf-15734355d2da",
   "metadata": {},
   "source": [
    "### Q1: What are the Probability Mass Function (PMF) and Probability Density Function (PDF)? Explain with an example."
   ]
  },
  {
   "cell_type": "markdown",
   "id": "907098c6-c4bb-4dca-87a8-ef8508815e5f",
   "metadata": {},
   "source": [
    "**Probability Mass Function :**\n",
    "* A Probability Mass Function (PMF) is a function that gives the probability of a discrete random variable taking a particular value.\n",
    "\n",
    "\t***Example :*** let's say we have a fair six-sided die. The PMF of this die would be:\n",
    "<pre>\n",
    " P(X = 1) = 1/6\n",
    " P(X = 2) = 1/6\n",
    " P(X = 3) = 1/6\n",
    " P(X = 4) = 1/6\n",
    " P(X = 5) = 1/6\n",
    " P(X = 6) = 1/6\n",
    "</pre>\n",
    "Here, X is the random variable representing the outcome of rolling the die, and the PMF gives the probability of each possible outcome."
   ]
  },
  {
   "cell_type": "markdown",
   "id": "943c7267-593f-4146-a847-f57d194977c3",
   "metadata": {},
   "source": [
    "**Probability Density Function :**\n",
    "* function that gives the probability density of a continuous random variable at each point in its domain\n",
    "\n",
    "***Example :***\n",
    "mean 0 and standard deviation 1. \n",
    "The PDF of this random variable would be:\n",
    "f(x) = (1/sqrt(2*pi)) * exp(-x^2/2)\n",
    "Here, the PDF gives the probability density of the random variable at each point x. However, the actual probability of the random variable taking a particular value is the area under the PDF curve between two points."
   ]
  },
  {
   "cell_type": "markdown",
   "id": "9a1602e5-d1f9-43fe-8e31-a285a87fe3b3",
   "metadata": {},
   "source": [
    "### Q2: What is Cumulative Density Function (CDF)? Explain with an example. Why CDF is used?"
   ]
  },
  {
   "cell_type": "markdown",
   "id": "d105d857-2d97-4551-9c8f-3996116fb297",
   "metadata": {},
   "source": [
    "**Cumulative Density Function (CDF) :**\n",
    "gives the probability that a random variable X is less than or equal to a specific value x. It is a function that maps any real value x to a probability between 0 and 1.\n",
    "\n",
    "The CDF of this die would be:\n",
    "F(x) = 0 for x < 1\n",
    "F(x) = 1/6 for 1 ≤ x < 2\n",
    "F(x) = 2/6 for 2 ≤ x < 3\n",
    "F(x) = 3/6 for 3 ≤ x < 4\n",
    "F(x) = 4/6 for 4 ≤ x < 5\n",
    "F(x) = 5/6 for 5 ≤ x < 6\n",
    "F(x) = 1 for x ≥ 6\n",
    "\n",
    "***Example :***\n",
    "Here, the CDF F(x) gives the probability that the die roll will be less than or equal to x. \n",
    "F(3) = 1+1+1/6, which means there is a 50% chance that the die roll will be less than or equal to 3.\n",
    "\n",
    "***Use Case :***\n",
    "Used to calculate probabilities of random variables taking on a range of values, as well as to calculate percentiles and to compare different probability distributions. They are also useful for identifying outliers and for testing hypotheses about the distribution of a random variable."
   ]
  },
  {
   "cell_type": "markdown",
   "id": "f9d87a5e-ba08-4ca3-a97d-dbb83098083a",
   "metadata": {},
   "source": [
    "### Q3: What are some examples of situations where the normal distribution might be used as a model? Explain how the parameters of the normal distribution relate to the shape of the distribution."
   ]
  },
  {
   "cell_type": "markdown",
   "id": "ea355170-9d7b-46ed-8106-0fadf914e7c9",
   "metadata": {},
   "source": [
    "**Normal distribution :** is a probability distribution that is commonly used as a model for many real-world situations where a continuous variable is measured. \n",
    "\n",
    "**Examples of situations :**\n",
    "1. Height and weight of individuals in a population\n",
    "2. Test scores in a large class of students\n",
    "\n",
    "**parameters:**\n",
    "1. mean (μ) :represents the center of the distribution\n",
    "2. standard deviation (σ) :  represents the spread or variability of the distribution.\n",
    "\n",
    "**Shape :**\n",
    "Shape of the normal distribution is bell-shaped, with the highest point of the curve at the mean. As the standard deviation increases, the curve becomes flatter and wider. "
   ]
  },
  {
   "cell_type": "markdown",
   "id": "190178a2-985b-4cd1-9dc0-46d88f8b7b29",
   "metadata": {},
   "source": [
    "### Q4: Explain the importance of Normal Distribution. Give a few real-life examples of Normal Distribution."
   ]
  },
  {
   "cell_type": "markdown",
   "id": "f150b046-5298-4439-aefc-215c12c91472",
   "metadata": {},
   "source": [
    "**Importance :**\n",
    "The normal distribution is one of the most important and widely used probability distributions in statistics and data science. Its importance lies in its mathematical properties, which allow it to be used as a model for a wide range of natural and social phenomena. \n",
    "\n",
    "**Real World Examples :**\n",
    "1. Heights and weights of people: The distribution of heights and weights of individuals in a population tends to follow a normal distribution.\n",
    "\n",
    "2. IQ scores: IQ scores tend to follow a normal distribution with a mean of 100 and a standard deviation of 15.\n",
    "\n",
    "3. Test scores: The distribution of test scores in a large class of students tends to follow a normal distribution.\n",
    "\n",
    "4. Body temperature: The distribution of body temperature in healthy individuals tends to follow a normal distribution with a mean of 98.6°F and a standard deviation of 0.5°F.\n",
    "\n",
    "5. Financial returns: Financial returns on stocks or portfolios of stocks tend to follow a normal distribution, which makes it possible to estimate the probability of positive or negative returns over a given period of time."
   ]
  },
  {
   "cell_type": "markdown",
   "id": "7219eaa3-4b09-4eb3-aa28-71837826db3a",
   "metadata": {},
   "source": [
    "### Q5: What is Bernaulli Distribution? Give an Example. What is the difference between Bernoulli Distribution and Binomial Distribution?"
   ]
  },
  {
   "cell_type": "markdown",
   "id": "639f1c87-6145-43be-8473-bedf17ee022d",
   "metadata": {},
   "source": [
    "**Bernoulli Distribution :** The Bernoulli distribution is a probability distribution that models the outcomes of a single experiment that can result in either success or failure.\n",
    "\n",
    "**Example :** flipping a coin, where heads may be considered a success (1) and tails a failure (0). \n",
    "\n",
    "**Difference :** Bernoulli distribution models a single trial with only two possible outcomes, while the binomial distribution models multiple trials with the same probability of success (p) and a fixed number of trials (n)."
   ]
  },
  {
   "cell_type": "markdown",
   "id": "90de4597-e9aa-4b50-a33f-3c79b54e1022",
   "metadata": {},
   "source": [
    "### Q6: Consider a dataset with a mean of 50 and a standard deviation of 10.\n",
    "If we assume that the dataset is normally distributed, what is the probability that a randomly selected observation will be greater\n",
    "than 60? Use the appropriate formula and show your calculations."
   ]
  },
  {
   "cell_type": "markdown",
   "id": "ae8ba70d-4fb1-4306-8d05-f5c03d3d9585",
   "metadata": {},
   "source": [
    "<pre>\n",
    "Given,\n",
    "\tμ = 50,\n",
    "    σ = 10,\n",
    "\n",
    "    z = (x - μ) / σ\n",
    "\t\n",
    "    z = (60 - 50) / 10 = 1\n",
    "    \n",
    "    AUC for 1 is 0.15687\n",
    "    so the probability is 15%\n",
    "</pre>"
   ]
  },
  {
   "cell_type": "code",
   "execution_count": null,
   "id": "16969406-c189-42bd-84f0-7566ba5f62a6",
   "metadata": {},
   "outputs": [],
   "source": []
  },
  {
   "cell_type": "markdown",
   "id": "9dabad73-9b08-42ab-9ba5-ae0dd554af57",
   "metadata": {},
   "source": [
    "### Q7: Explain uniform Distribution with an example."
   ]
  },
  {
   "cell_type": "markdown",
   "id": "495995da-eed3-4b94-bcbb-edeef71c31c8",
   "metadata": {},
   "source": [
    "**Uniform distribution :** probability distribution where all possible outcomes have an equal chance of occurring\n",
    "\n",
    "**Example :** An example of uniform distribution is rolling a fair six-sided die, where each of the six possible outcomes has an equal probability of occurring, which is 1/6 or approximately 0.1667.\n"
   ]
  },
  {
   "cell_type": "markdown",
   "id": "fbb8c58c-becf-4e98-96e8-5f00194abe87",
   "metadata": {},
   "source": [
    "### Q8: What is the z score? State the importance of the z score."
   ]
  },
  {
   "cell_type": "markdown",
   "id": "ce26078d-ec33-49d0-b03e-71a480a5e4fd",
   "metadata": {},
   "source": [
    "* The z-score, also known as the standard score, is a measure of how many standard deviations an observed value (x) is from the mean (μ) of a distribution. \n",
    "\n",
    "\tIt is calculated using the formula:\n",
    "    z = (x - μ) / σ\n",
    "\n",
    "**Importance :** allows us to compare values from different distributions on a standardized scale. By converting an observed value to a z-score, we can determine how many standard deviations it is away from the mean of its distribution. This allows us to make meaningful comparisons across different distributions and different units of measurement.\n"
   ]
  },
  {
   "cell_type": "markdown",
   "id": "f5235def-df96-4a5c-a272-d9dc1836cbe7",
   "metadata": {},
   "source": [
    "### Q9: What is Central Limit Theorem? State the significance of the Central Limit Theorem."
   ]
  },
  {
   "cell_type": "markdown",
   "id": "8c534e44-e632-4c84-9de7-48efa7fb514e",
   "metadata": {},
   "source": [
    "**The Central Limit Theorem :**  Fundamental theorem in probability theory and statistics that describes the behavior of the means of a large number of independent, identically distributed random variables.\n",
    "\n",
    "**Significance :**  It allows us to make statements about the population mean based on a sample mean, and to estimate confidence intervals and test hypotheses with a high degree of accuracy. "
   ]
  },
  {
   "cell_type": "markdown",
   "id": "fa759f4a-b68a-456f-8d49-2312d1caa0a5",
   "metadata": {},
   "source": [
    "### Q10: State the assumptions of the Central Limit Theorem."
   ]
  },
  {
   "cell_type": "markdown",
   "id": "7153862a-186e-4b51-a74b-e3762d66cf08",
   "metadata": {},
   "source": [
    "**The Central Limit Theorem (CLT)** is a powerful result in probability theory that describes the behavior of sample means. However, it is based on several assumptions. These assumptions are:\n",
    "\n",
    "**Independence:** The observations in the sample must be independent of each other. This means that the value of one observation should not depend on the value of another observation in the sample.\n",
    "\n",
    "**Identically Distributed:** The observations must be drawn from the same population and have the same underlying distribution. This means that the population mean and standard deviation are the same for each observation.\n",
    "\n",
    "**Sample Size:** The sample size must be sufficiently large. Although there is no strict cutoff, a commonly used guideline is that the sample size should be greater than or equal to 30.\n",
    "\n",
    "These assumptions ensure that the sample means are normally distributed, which is the key result of the CLT. Violating any of these assumptions can lead to incorrect results, so it is important to check them before applying the CLT to a dataset."
   ]
  },
  {
   "cell_type": "code",
   "execution_count": null,
   "id": "0fb2279b-da13-4245-8897-555b90f53402",
   "metadata": {},
   "outputs": [],
   "source": []
  }
 ],
 "metadata": {
  "kernelspec": {
   "display_name": "Python 3 (ipykernel)",
   "language": "python",
   "name": "python3"
  },
  "language_info": {
   "codemirror_mode": {
    "name": "ipython",
    "version": 3
   },
   "file_extension": ".py",
   "mimetype": "text/x-python",
   "name": "python",
   "nbconvert_exporter": "python",
   "pygments_lexer": "ipython3",
   "version": "3.10.8"
  }
 },
 "nbformat": 4,
 "nbformat_minor": 5
}
