{
 "cells": [
  {
   "cell_type": "markdown",
   "id": "2e77cf71-746b-461e-95c4-8fa087f4c9e9",
   "metadata": {},
   "source": [
    "# Flight Price: "
   ]
  },
  {
   "cell_type": "markdown",
   "id": "fc2fa6ae-1707-4612-b235-e81568f46ee3",
   "metadata": {},
   "source": [
    "### Q1. Load the flight price dataset and examine its dimensions. How many rows and columns does the  dataset have? "
   ]
  },
  {
   "cell_type": "code",
   "execution_count": null,
   "id": "792213b4-e3e6-45cf-8890-a946a5b27ec1",
   "metadata": {},
   "outputs": [],
   "source": [
    "import pandas as pd\n",
    "\n",
    "# load the dataset\n",
    "df = pd.read_csv('flight_price.csv')\n",
    "\n",
    "# examine the dimensions\n",
    "print('Number of rows: ', df.shape[0])\n",
    "print('Number of columns: ', df.shape[1])"
   ]
  },
  {
   "cell_type": "markdown",
   "id": "feab4d11-9a74-4326-8d39-339f3db576e8",
   "metadata": {},
   "source": [
    "### Q2. What is the distribution of flight prices in the dataset? Create a histogram to visualize the  distribution. "
   ]
  },
  {
   "cell_type": "code",
   "execution_count": null,
   "id": "5cd8d388-74ce-447b-8335-ee7353360ec2",
   "metadata": {},
   "outputs": [],
   "source": [
    "import matplotlib.pyplot as plt\n",
    "\n",
    "# create a histogram\n",
    "plt.hist(df['Price'], bins=50)\n",
    "plt.xlabel('Price')\n",
    "plt.ylabel('Count')\n",
    "plt.show()"
   ]
  },
  {
   "cell_type": "markdown",
   "id": "587b5ba0-4096-401b-b681-1069a7c4171b",
   "metadata": {},
   "source": [
    "### Q3. What is the range of prices in the dataset? What is the minimum and maximum price? "
   ]
  },
  {
   "cell_type": "code",
   "execution_count": null,
   "id": "90f0cafa-212b-4ecb-b06e-bdeef8c10e10",
   "metadata": {},
   "outputs": [],
   "source": [
    "# calculate the range of prices\n",
    "price_range = df['Price'].max() - df['Price'].min()\n",
    "print('Price range: ', price_range)\n",
    "\n",
    "# calculate the minimum and maximum prices\n",
    "min_price = df['Price'].min()\n",
    "max_price = df['Price'].max()\n",
    "print('Minimum price: ', min_price)\n",
    "print('Maximum price: ', max_price)"
   ]
  },
  {
   "cell_type": "markdown",
   "id": "e79b5d05-d315-491a-b2e3-6706abda53db",
   "metadata": {},
   "source": [
    "### Q4. How does the price of flights vary by airline? Create a boxplot to compare the prices of different  airlines. "
   ]
  },
  {
   "cell_type": "code",
   "execution_count": null,
   "id": "1997c434-1427-4033-a562-6fc3b66b0200",
   "metadata": {},
   "outputs": [],
   "source": [
    "import seaborn as sns\n",
    "\n",
    "# create a boxplot\n",
    "sns.boxplot(x='Airline', y='Price', data=df)\n",
    "plt.xticks(rotation=90)\n",
    "plt.show()"
   ]
  },
  {
   "cell_type": "markdown",
   "id": "2f0e3b2e-e5ed-4c26-a666-18e298b67ec9",
   "metadata": {},
   "source": [
    "### Q5. Are there any outliers in the dataset? Identify any potential outliers using a boxplot and describe how  they may impact your analysis. "
   ]
  },
  {
   "cell_type": "markdown",
   "id": "53312742-e8a8-4654-8b85-d7c6044c1bb6",
   "metadata": {},
   "source": [
    "To identify any potential outliers in the dataset, we can use the same boxplot as in Q4. Outliers are points that are located outside the whiskers of the boxplot. In this case, we can see that there are some potential outliers in the dataset, especially for airlines like Jet Airways, Jet Airways Business, and Air India. These outliers may impact our analysis by skewing the results, so we need to be cautious when interpreting our findings."
   ]
  },
  {
   "cell_type": "markdown",
   "id": "7fd3e786-9231-4a6e-bcdc-b96147a8205c",
   "metadata": {},
   "source": [
    "### Q6. You are working for a travel agency, and your boss has asked you to analyze the Flight Price dataset  to identify the peak travel season. What features would you analyze to identify the peak season, and how  would you present your findings to your boss? "
   ]
  },
  {
   "cell_type": "markdown",
   "id": "f27fbe49-f464-48d7-bbd8-8c78d17c802a",
   "metadata": {},
   "source": [
    "To identify the peak travel season, we can analyze the dataset using features such as Date of Journey, Departure Time, Arrival Time, and Duration of the flight. We can group the data by month or season and calculate the average flight price for each group. The peak travel season would be the time when the average flight price is highest. We can present our findings to our boss using a line graph or bar chart that shows the average flight price by month or season."
   ]
  },
  {
   "cell_type": "markdown",
   "id": "1df439c3-89b4-4642-92cb-d202f66a4a9f",
   "metadata": {},
   "source": [
    "### Q7. You are a data analyst for a flight booking website, and you have been asked to analyze the Flight  Price dataset to identify any trends in flight prices. What features would you analyze to identify these  trends, and what visualizations would you use to present your findings to your team? "
   ]
  },
  {
   "cell_type": "markdown",
   "id": "161ac15b-643a-48b6-a15d-0265ab3bbcab",
   "metadata": {},
   "source": [
    " You are a data analyst for a flight booking website, and you have been asked to analyze the Flight Price dataset to identify any trends in flight prices. What features would you analyze to identify these trends, and what visualizations would you use to present your findings to your team?\n",
    "\n",
    "To identify trends in flight prices, I would first explore the dataset using descriptive statistics and visualizations. I would start by analyzing the distribution of flight prices, as well as the range of prices and the average price per airline. I would also look for any patterns in prices over time, such as seasonality or trends over the years.\n",
    "\n",
    "Some of the features that I would analyze to identify trends in flight prices include:\n",
    "\n",
    "    Airline: I would compare the prices of different airlines to see if there are any significant differences in pricing strategies.\n",
    "    Route: I would look for patterns in prices based on the route of the flight, such as flights to popular destinations being more expensive.\n",
    "    Time of year: I would analyze the prices over time to identify any seasonality or trends based on the time of year.\n",
    "    Time of day: I would look for any patterns in prices based on the time of day, such as flights during peak hours being more expensive.\n",
    "    Duration of flight: I would analyze the prices based on the duration of the flight to see if there are any significant differences in pricing based on flight length.\n",
    "\n",
    "To present my findings to the team, I would use visualizations such as line charts, bar charts, and heatmaps to help highlight any patterns or trends that I found. I would also provide a detailed report explaining my methodology and any insights that I uncovered, along with recommendations for how the company could potentially adjust their pricing strategies based on the findings"
   ]
  },
  {
   "cell_type": "markdown",
   "id": "674a4e85-efe7-4276-b298-12bb31f8eb77",
   "metadata": {},
   "source": [
    "### Q8. You are a data scientist working for an airline company, and you have been asked to analyze the  Flight Price dataset to identify the factors that affect flight prices. What features would you analyze to  identify these factors, and how would you present your findings to the management team? \n"
   ]
  },
  {
   "cell_type": "markdown",
   "id": "2d533da1-99bb-461e-b481-2e39ff1955b1",
   "metadata": {},
   "source": [
    "You are a data scientist working for an airline company, and you have been asked to analyze the Flight Price dataset to identify the factors that affect flight prices. What features would you analyze to identify these factors, and how would you present your findings to the management team?\n",
    "\n",
    "To identify the factors that affect flight prices, I would perform a multivariate analysis, using various regression models such as linear regression, logistic regression or decision tree models.\n",
    "\n",
    "Some of the features that I would analyze to identify the factors that affect flight prices include:\n",
    "\n",
    "    Airline: I would compare the prices of different airlines to see if there are any significant differences in pricing strategies.\n",
    "    Route: I would analyze the prices based on the route of the flight, to identify if flight prices are affected by distance, duration and layovers.\n",
    "    Time of year: I would analyze the prices over time to identify any seasonality or trends based on the time of year.\n",
    "    Time of day: I would look for any patterns in prices based on the time of day, such as flights during peak hours being more expensive.\n",
    "    Duration of flight: I would analyze the prices based on the duration of the flight to see if there are any significant differences in pricing based on flight length.\n",
    "    The type of aircraft: I would analyze the prices based on the type of aircraft to identify if certain aircraft types are associated with higher ticket prices.\n",
    "\n",
    "To present my findings to the management team, I would create an interactive dashboard or report using visualizations such as scatter plots and heatmaps to highlight the relationships between different variables and flight prices. I would also provide a detailed report explaining my methodology and any insights that I uncovered, along with recommendations for how the company could potentially adjust their pricing strategies based on the findings"
   ]
  },
  {
   "cell_type": "markdown",
   "id": "698e9fad-6021-4ccc-94f7-35d7fd16f98c",
   "metadata": {},
   "source": [
    "# Google Playstore:"
   ]
  },
  {
   "cell_type": "markdown",
   "id": "c9fbb5b3-7976-418e-85ac-a33123afdfee",
   "metadata": {},
   "source": [
    "### Q9. Load the Google Playstore dataset and examine its dimensions. How many rows and columns does  the dataset have? "
   ]
  },
  {
   "cell_type": "code",
   "execution_count": 2,
   "id": "de056d8e-a862-44e5-9056-5203efa1a316",
   "metadata": {},
   "outputs": [
    {
     "data": {
      "text/plain": [
       "(10841, 13)"
      ]
     },
     "execution_count": 2,
     "metadata": {},
     "output_type": "execute_result"
    }
   ],
   "source": [
    "import pandas as pd\n",
    "df=pd.read_csv('https://raw.githubusercontent.com/krishnaik06/playstore-Dataset/main/googleplaystore.csv')\n",
    "df.shape"
   ]
  },
  {
   "cell_type": "markdown",
   "id": "6b85110a-fb98-42bb-a1ba-15827f4c1e7d",
   "metadata": {},
   "source": [
    "### Q10. How does the rating of apps vary by category? Create a boxplot to compare the ratings of different  app categories. "
   ]
  },
  {
   "cell_type": "code",
   "execution_count": 3,
   "id": "60eb02de-d62f-43c0-86db-ebc615f6440d",
   "metadata": {},
   "outputs": [
    {
     "data": {
      "text/plain": [
       "<AxesSubplot: xlabel='Category', ylabel='Rating'>"
      ]
     },
     "execution_count": 3,
     "metadata": {},
     "output_type": "execute_result"
    },
    {
     "data": {
      "image/png": "[encoded data removed]",
      "text/plain": [
       "<Figure size 640x480 with 1 Axes>"
      ]
     },
     "metadata": {},
     "output_type": "display_data"
    }
   ],
   "source": [
    "import seaborn as sns\n",
    "\n",
    "sns.boxplot(x='Category', y='Rating', data=df)"
   ]
  },
  {
   "cell_type": "markdown",
   "id": "7300cb33-a28a-4bf4-81ce-4206853d1446",
   "metadata": {},
   "source": [
    "### Q11. Are there any missing values in the dataset? Identify any missing values and describe how they may  impact your analysis. "
   ]
  },
  {
   "cell_type": "code",
   "execution_count": 4,
   "id": "30d495f2-6491-4d6d-b7ea-5f7e09bbfd88",
   "metadata": {},
   "outputs": [
    {
     "name": "stdout",
     "output_type": "stream",
     "text": [
      "App                  0\n",
      "Category             0\n",
      "Rating            1474\n",
      "Reviews              0\n",
      "Size                 0\n",
      "Installs             0\n",
      "Type                 1\n",
      "Price                0\n",
      "Content Rating       1\n",
      "Genres               0\n",
      "Last Updated         0\n",
      "Current Ver          8\n",
      "Android Ver          3\n",
      "dtype: int64\n"
     ]
    }
   ],
   "source": [
    "print(df.isnull().sum())"
   ]
  },
  {
   "cell_type": "markdown",
   "id": "45330ff5-98eb-4c5b-b446-6adccd959588",
   "metadata": {},
   "source": [
    "### Q12. What is the relationship between the size of an app and its rating? Create a scatter plot to visualize  the relationship. "
   ]
  },
  {
   "cell_type": "code",
   "execution_count": 5,
   "id": "c1a45198-c579-45b2-b8e2-edb6ce9d11c4",
   "metadata": {},
   "outputs": [
    {
     "data": {
      "text/plain": [
       "Text(0, 0.5, 'Rating')"
      ]
     },
     "execution_count": 5,
     "metadata": {},
     "output_type": "execute_result"
    },
    {
     "data": {
      "image/png": "[encoded data removed]",
      "text/plain": [
       "<Figure size 640x480 with 1 Axes>"
      ]
     },
     "metadata": {},
     "output_type": "display_data"
    }
   ],
   "source": [
    "import matplotlib.pyplot as plt\n",
    "\n",
    "plt.scatter(df['Size'], df['Rating'])\n",
    "plt.xlabel('Size')\n",
    "plt.ylabel('Rating')\n"
   ]
  },
  {
   "cell_type": "markdown",
   "id": "333c286e-24bd-45d4-bf7e-1aaac05b5ab6",
   "metadata": {},
   "source": [
    "### Q13. How does the type of app affect its price? Create a bar chart to compare average prices by app type. "
   ]
  },
  {
   "cell_type": "code",
   "execution_count": null,
   "id": "222e2c73-275e-42bc-ad56-d1e653d9f3fb",
   "metadata": {},
   "outputs": [],
   "source": [
    "import matplotlib.pyplot as plt\n",
    "\n",
    "prices_by_type = df.groupby('Type')['Price'].mean()\n",
    "plt.bar(prices_by_type.index, prices_by_type.values)\n",
    "plt.xlabel('Type')\n",
    "plt.ylabel('Price')"
   ]
  },
  {
   "cell_type": "markdown",
   "id": "4406b8d2-3461-497a-9245-b7a60ad245a4",
   "metadata": {},
   "source": [
    "### Q14. What are the top 10 most popular apps in the dataset? Create a frequency table to identify the apps  with the highest number of installs. "
   ]
  },
  {
   "cell_type": "code",
   "execution_count": 7,
   "id": "00d562a3-eb72-4bef-bae4-21d77cc1a54f",
   "metadata": {},
   "outputs": [
    {
     "name": "stdout",
     "output_type": "stream",
     "text": [
      "1,000,000+     1579\n",
      "10,000,000+    1252\n",
      "100,000+       1169\n",
      "10,000+        1054\n",
      "1,000+          907\n",
      "5,000,000+      752\n",
      "100+            719\n",
      "500,000+        539\n",
      "50,000+         479\n",
      "5,000+          477\n",
      "Name: Installs, dtype: int64\n"
     ]
    }
   ],
   "source": [
    "freq_table = df['Installs'].value_counts()\n",
    "top_10_apps = freq_table[:10]\n",
    "print(top_10_apps)"
   ]
  },
  {
   "cell_type": "markdown",
   "id": "65181be6-a311-4f5d-a054-73df93b4567f",
   "metadata": {
    "tags": []
   },
   "source": [
    "### Q15. A company wants to launch a new app on the Google Playstore and has asked you to analyze the  Google Playstore dataset to identify the most popular app categories. How would you approach this  task, and what features would you analyze to make recommendations to the company? "
   ]
  },
  {
   "cell_type": "code",
   "execution_count": null,
   "id": "aa2f5483-4dbf-43a6-8de3-408db86706ae",
   "metadata": {},
   "outputs": [],
   "source": [
    "import matplotlib.pyplot as plt\n",
    "\n",
    "installs_by_category = df.groupby('Category')['Installs'].sum()\n",
    "plt.bar(installs_by_category.index, installs_by_category.values)\n",
    "plt.xticks(rotation=90)\n",
    "plt.xlabel('Category')\n",
    "plt.ylabel('Number of Installs')"
   ]
  },
  {
   "cell_type": "markdown",
   "id": "881aa045-d158-4105-b58e-a1aeae20c91b",
   "metadata": {},
   "source": [
    "# Data Science Masters "
   ]
  },
  {
   "cell_type": "markdown",
   "id": "18323d8e-176c-4f8c-be2f-ed8b79c8fc03",
   "metadata": {},
   "source": [
    "### Q16. A mobile app development company wants to analyze the Google Playstore dataset to identify the  most successful app developers. What features would you analyze to make recommendations to the  company, and what data visualizations would you use to present your findings? "
   ]
  },
  {
   "cell_type": "markdown",
   "id": "914a4c50-224f-4e37-b999-2742ae10f41a",
   "metadata": {},
   "source": [
    " A mobile app development company wants to analyze the Google Playstore dataset to identify the most successful app developers. What features would you analyze to make recommendations to the company, and what data visualizations would you use to present your findings?\n",
    "\n",
    "To identify the most successful app developers, we can analyze the following features:\n",
    "\n",
    "    Number of apps developed: We can identify the developers who have developed the most number of apps as they are more experienced and likely to have a better understanding of the market.\n",
    "    Average rating of apps: We can analyze the average rating of apps developed by each developer to identify the ones who develop high-quality apps.\n",
    "    Number of installs: We can look at the number of installs for each app developed by the developer to see which developers have a higher number of app installs, indicating their popularity.\n",
    "    Category of apps: We can analyze the categories of apps developed by each developer to identify which categories are the most successful.\n",
    "\n",
    "We can use various data visualizations to present our findings, including:\n",
    "\n",
    "    Bar chart: A bar chart can be used to show the number of apps developed by each developer, making it easy to compare the number of apps developed by different developers.\n",
    "    Scatter plot: A scatter plot can be used to show the relationship between the average rating of apps and the number of installs for each developer, making it easy to identify developers who develop high-quality apps that are popular.\n",
    "    Box plot: A box plot can be used to compare the average rating of apps developed by each developer, making it easy to identify the developers who develop high-quality apps.\n",
    "    Stacked bar chart: A stacked bar chart can be used to show the distribution of app categories developed by each developer, making it easy to identify which categories are the most successful for each developer.\n",
    "\n",
    "By analyzing these features and using appropriate data visualizations, we can identify the most successful app developers and make recommendations to the mobile app development company based on our findings."
   ]
  },
  {
   "cell_type": "markdown",
   "id": "2ab23175-5aec-46dc-b34d-af847a42d4f0",
   "metadata": {},
   "source": [
    "### Q17. A marketing research firm wants to analyze the Google Playstore dataset to identify the best time to  launch a new app. What features would you analyze to make recommendations to the company, and  what data visualizations would you use to present your findings? \n",
    "Note:- You can use Flight Price and Google Playstore Dataset as per the discussion in lecture.\n"
   ]
  },
  {
   "cell_type": "markdown",
   "id": "74db1107-0a66-4ae1-8a83-405ab0f071c3",
   "metadata": {},
   "source": [
    " To identify the best time to launch a new app from the Google Playstore dataset, the following features can be analyzed:\n",
    "\n",
    "    Installations: The number of installations for each app can be analyzed to identify the most popular time for app installs. The data can be grouped by the day, week, or month to identify the trends and patterns.\n",
    "    Ratings: The ratings of the apps can also be analyzed to identify any correlation between app ratings and the time of installation.\n",
    "    Reviews: The number of reviews can also be analyzed to identify the most popular time for users to leave reviews.\n",
    "\n",
    "To present the findings, the following visualizations can be used:\n",
    "\n",
    "    Line chart: A line chart can be used to plot the number of app installs over time, grouped by the day, week, or month. This will help to identify any trends or patterns in the data and show the best time for app installs.\n",
    "    Bar chart: A bar chart can be used to compare the ratings of apps over time. The data can be grouped by the day, week, or month to show any correlation between app ratings and the time of installation.\n",
    "    Scatter plot: A scatter plot can be used to visualize the relationship between the number of reviews and the time of installation. This will help to identify the most popular time for users to leave reviews.\n",
    "\n",
    "By analyzing the data and presenting the findings using these visualizations, the marketing research firm can make informed recommendations to the company on the best time to launch a new app on the Google Playstore"
   ]
  },
  {
   "cell_type": "code",
   "execution_count": null,
   "id": "83e5c0de-e706-44bf-9bca-14eb3428edc1",
   "metadata": {},
   "outputs": [],
   "source": []
  }
 ],
 "metadata": {
  "kernelspec": {
   "display_name": "Python 3 (ipykernel)",
   "language": "python",
   "name": "python3"
  },
  "language_info": {
   "codemirror_mode": {
    "name": "ipython",
    "version": 3
   },
   "file_extension": ".py",
   "mimetype": "text/x-python",
   "name": "python",
   "nbconvert_exporter": "python",
   "pygments_lexer": "ipython3",
   "version": "3.10.8"
  }
 },
 "nbformat": 4,
 "nbformat_minor": 5
}
