{
 "cells": [
  {
   "cell_type": "markdown",
   "id": "ccb4ae7a-63e7-4b9b-bc49-45d37bbeae24",
   "metadata": {},
   "source": [
    "### Q1. What is the Probability density function?"
   ]
  },
  {
   "cell_type": "markdown",
   "id": "c974a40b-2694-4f09-b63d-46d304f60fd4",
   "metadata": {},
   "source": [
    "The probability density function (PDF) is a function that describes the likelihood of a random variable taking a particular value or range of values in a continuous distribution. The area under the curve of the PDF between two values gives the probability that the variable falls within that range."
   ]
  },
  {
   "cell_type": "markdown",
   "id": "c3f92f55-bb48-48bc-8da4-1bba283ac04a",
   "metadata": {},
   "source": [
    "### Q2. What are the types of Probability distribution?\n"
   ]
  },
  {
   "cell_type": "markdown",
   "id": "a2a655be-dfb5-4a2f-aeed-92319bc994f8",
   "metadata": {},
   "source": [
    "The main types of probability distributions are:\n",
    "\n",
    "* **Discrete distributions:** these describe the probability of discrete outcomes, such as the number of heads obtained from flipping a coin a certain number of times (binomial distribution) or the number of cars that pass through a certain intersection in a day (Poisson distribution).\n",
    "* **Continuous distributions:** these describe the probability of continuous outcomes, such as the height or weight of a population (normal distribution) or the time it takes for a machine to break down (exponential distribution)."
   ]
  },
  {
   "cell_type": "markdown",
   "id": "e7fe671a-164a-416c-9e4d-c43a34dea460",
   "metadata": {},
   "source": [
    "### Q3. Write a Python function to calculate the probability density function of a normal distribution with given mean and standard deviation at a given point.\n"
   ]
  },
  {
   "cell_type": "code",
   "execution_count": 1,
   "id": "9edbed5f-369d-4e39-924d-1e64d9747550",
   "metadata": {},
   "outputs": [],
   "source": [
    "import math\n",
    "\n",
    "def pdf(x, mean, std_dev):\n",
    "    exponent = -((x - mean) ** 2) / (2 * std_dev ** 2)\n",
    "    coefficient = 1 / (std_dev * math.sqrt(2 * math.pi))\n",
    "    pdf = coefficient * math.exp(exponent)\n",
    "    return pdf"
   ]
  },
  {
   "cell_type": "code",
   "execution_count": 2,
   "id": "eb28bd0f-5368-477f-8ea9-28ff33058023",
   "metadata": {},
   "outputs": [
    {
     "name": "stdout",
     "output_type": "stream",
     "text": [
      "0.3520653267642995\n"
     ]
    }
   ],
   "source": [
    "mean = 0\n",
    "std_dev = 1\n",
    "x = 0.5\n",
    "print(pdf(x, mean, std_dev))"
   ]
  },
  {
   "cell_type": "code",
   "execution_count": 3,
   "id": "ec206cd2-c253-458e-9328-36f5de0ab00c",
   "metadata": {},
   "outputs": [],
   "source": [
    "from scipy.stats import norm\n",
    "\n",
    "def mypdf(x, mean, std_dev):\n",
    "    return norm.pdf(x, loc=mean, scale=std_dev)"
   ]
  },
  {
   "cell_type": "code",
   "execution_count": 4,
   "id": "e44f0956-13d2-41a3-9df8-2ed05f78aa41",
   "metadata": {},
   "outputs": [
    {
     "name": "stdout",
     "output_type": "stream",
     "text": [
      "0.3520653267642995\n"
     ]
    }
   ],
   "source": [
    "print(pdf(0.5, 0, 1))"
   ]
  },
  {
   "cell_type": "code",
   "execution_count": null,
   "id": "42024244-28ff-4d03-b03b-0aa89ca7ff52",
   "metadata": {},
   "outputs": [],
   "source": []
  },
  {
   "cell_type": "markdown",
   "id": "2521c1de-2265-4877-9d29-bc1c54b1944a",
   "metadata": {},
   "source": [
    "### Q4. What are the properties of Binomial distribution? Give two examples of events where binomial distribution can be applied.\n"
   ]
  },
  {
   "cell_type": "markdown",
   "id": "4b7220e6-d476-4a9d-bb04-2d4e33aac79c",
   "metadata": {},
   "source": [
    "The properties of a binomial distribution are:\n",
    "\n",
    "* There are a fixed number of trials, denoted by n.\n",
    "* Each trial has only two possible outcomes, success or failure.\n",
    "* The probability of success is denoted by p and is constant for each trial.\n",
    "* The trials are independent.\n",
    "* Two examples of events where binomial distribution can be applied are:\n",
    "* The number of people in a group who prefer a particular brand of soda, when a random sample of people are asked.\n",
    "* The number of defective products in a batch of items produced in a factory."
   ]
  },
  {
   "cell_type": "markdown",
   "id": "9e617d0c-e1fc-4558-a854-8e58771bd73c",
   "metadata": {},
   "source": [
    "### Q5. Generate a random sample of size 1000 from a binomial distribution with probability of success 0.4 and plot a histogram of the results using matplotlib.\n"
   ]
  },
  {
   "cell_type": "code",
   "execution_count": 5,
   "id": "e6cb31cb-87d8-43e1-bfdc-412764c93849",
   "metadata": {},
   "outputs": [
    {
     "data": {
      "image/png": "[encoded data removed]",
      "text/plain": [
       "<Figure size 640x480 with 1 Axes>"
      ]
     },
     "metadata": {},
     "output_type": "display_data"
    }
   ],
   "source": [
    "import matplotlib.pyplot as plt\n",
    "import numpy as np\n",
    "\n",
    "n = 100\n",
    "p = 0.4\n",
    "\n",
    "sample = np.random.binomial(n, p, size=1000)\n",
    "\n",
    "plt.hist(sample, bins=range(n+1), density=True, alpha=0.8)\n",
    "plt.xlabel('Number of successes')\n",
    "plt.ylabel('Probability')\n",
    "plt.title('Histogram of binomial distribution with n=100, p=0.4')\n",
    "plt.show()"
   ]
  },
  {
   "cell_type": "markdown",
   "id": "90c602ad-b233-46aa-acf9-ed7d3aa82cf6",
   "metadata": {},
   "source": [
    "### Q6. Write a Python function to calculate the cumulative distribution function of a Poisson distribution with given mean at a given point.\n"
   ]
  },
  {
   "cell_type": "code",
   "execution_count": 6,
   "id": "a926818d-bb03-4fed-8baa-c91dd87b7007",
   "metadata": {},
   "outputs": [
    {
     "name": "stdout",
     "output_type": "stream",
     "text": [
      "0.2650259152973617\n"
     ]
    }
   ],
   "source": [
    "import math\n",
    "\n",
    "def poisson_cdf(x, mean):\n",
    "    cdf = 0\n",
    "    for i in range(x+1):\n",
    "        cdf += math.exp(-mean) * mean**i / math.factorial(i)\n",
    "    return cdf\n",
    "mean = 5\n",
    "x = 3\n",
    "cdf = poisson_cdf(x, mean)\n",
    "print(cdf)"
   ]
  },
  {
   "cell_type": "markdown",
   "id": "a65af632-73cf-4960-8086-1f0e6551d7cd",
   "metadata": {},
   "source": [
    "### Q7. How Binomial distribution different from Poisson distribution?\n"
   ]
  },
  {
   "cell_type": "markdown",
   "id": "839d6b48-bdec-4df0-b984-7be4f9ec9c45",
   "metadata": {},
   "source": [
    "The main differences between binomial and Poisson distributions are:\n",
    "\n",
    "Binomial distributions model the probability of a fixed number of successes in a fixed number of independent trials, while Poisson distributions model the probability of a certain number of events occurring in a fixed amount of time or space.\n",
    "Binomial distributions have a fixed probability of success for each trial, while Poisson distributions have a fixed average rate of occurrence.\n",
    "Binomial distributions can only be used for discrete outcomes, while Poisson distributions can be used for both discrete and continuous outcomes."
   ]
  },
  {
   "cell_type": "markdown",
   "id": "ecef2755-89f1-438b-82bc-98ce0a14cff6",
   "metadata": {},
   "source": [
    "### Q8. Generate a random sample of size 1000 from a Poisson distribution with mean 5 and calculate the sample mean and variance.\n"
   ]
  },
  {
   "cell_type": "code",
   "execution_count": 7,
   "id": "6c33f88a-94aa-43fc-9ed2-4c9c016e211c",
   "metadata": {},
   "outputs": [
    {
     "name": "stdout",
     "output_type": "stream",
     "text": [
      "Sample mean: 5.119\n",
      "Sample variance: 5.032839000000001\n"
     ]
    }
   ],
   "source": [
    "import numpy as np\n",
    "sample = np.random.poisson(lam=5, size=1000)\n",
    "mean = np.mean(sample)\n",
    "variance = np.var(sample)\n",
    "\n",
    "print(\"Sample mean:\", mean)\n",
    "print(\"Sample variance:\", variance)"
   ]
  },
  {
   "cell_type": "markdown",
   "id": "7eec3f83-e371-4314-a14a-3ba0807798e4",
   "metadata": {},
   "source": [
    "### Q9. How mean and variance are related in Binomial distribution and Poisson distribution?\n"
   ]
  },
  {
   "cell_type": "markdown",
   "id": "45539a06-0cde-4744-9c8d-d684cb125a0b",
   "metadata": {},
   "source": [
    "**Binomial Distribution :**\n",
    "* mean and variance are related to the number of trials and the probability of success.\n",
    "* If you have n trials and the probability of success for each trial is p\n",
    ">* Mean = n * p\n",
    ">* Variance = n * p * (1 - p)\n",
    "\t* if you increase the number of trials or increase the probability of success, both the mean and the variance will increase.\n",
    "    \n",
    "**Poission Distribution :**\n",
    "* the variance is equal to the mean, regardless of the shape of the distribution."
   ]
  },
  {
   "cell_type": "markdown",
   "id": "1c70dae5-b9de-4398-9c0d-36b7ee73af4f",
   "metadata": {},
   "source": [
    "### Q10. In normal distribution with respect to mean position, where does the least frequent data appear?"
   ]
  },
  {
   "cell_type": "markdown",
   "id": "8cfe6276-d7da-4f76-a39e-3e2449292135",
   "metadata": {},
   "source": [
    "***In a normal distribution, the least frequent data appears in the tails of the distribution, which are the regions that are farthest away from the mean. This is because the probability density function of a normal distribution is highest at the mean and decreases symmetrically as you move away from the mean in either direction. Therefore, data points that are very far away from the mean (i.e., in the tails of the distribution) have a very low probability density and are less likely to occur.***"
   ]
  },
  {
   "cell_type": "code",
   "execution_count": null,
   "id": "cddb8e00-4c43-4507-ac0c-181091dc5ae2",
   "metadata": {},
   "outputs": [],
   "source": []
  }
 ],
 "metadata": {
  "kernelspec": {
   "display_name": "Python 3 (ipykernel)",
   "language": "python",
   "name": "python3"
  },
  "language_info": {
   "codemirror_mode": {
    "name": "ipython",
    "version": 3
   },
   "file_extension": ".py",
   "mimetype": "text/x-python",
   "name": "python",
   "nbconvert_exporter": "python",
   "pygments_lexer": "ipython3",
   "version": "3.10.8"
  }
 },
 "nbformat": 4,
 "nbformat_minor": 5
}
