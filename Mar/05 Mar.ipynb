{
  "nbformat": 4,
  "nbformat_minor": 0,
  "metadata": {
    "colab": {
      "provenance": []
    },
    "kernelspec": {
      "name": "python3",
      "display_name": "Python 3"
    },
    "language_info": {
      "name": "python"
    }
  },
  "cells": [
    {
      "cell_type": "markdown",
      "source": [
        "Q1. How can you create a Bokeh plot using Python code?\n"
      ],
      "metadata": {
        "id": "bYbeWY71zbdF"
      }
    },
    {
      "cell_type": "code",
      "source": [
        "from bokeh.plotting import figure, show\n",
        "\n",
        "x = [1, 2, 3, 4, 5]\n",
        "y = [6, 7, 2, 4, 5]\n",
        "\n",
        "p = figure(title=\"Simple line example\", x_axis_label=\"x\", y_axis_label=\"y\")\n",
        "\n",
        "p.line(x, y)\n",
        "\n",
        "show(p)"
      ],
      "metadata": {
        "id": "PRCC_z8izryg"
      },
      "execution_count": 2,
      "outputs": []
    },
    {
      "cell_type": "markdown",
      "source": [
        "Q2. What are glyphs in Bokeh, and how can you add them to a Bokeh plot? Explain with an example.\n"
      ],
      "metadata": {
        "id": "1kJ3t8rMzbfE"
      }
    },
    {
      "cell_type": "markdown",
      "source": [
        " Glyphs are visual shapes that represent your data on a Bokeh plot3. They can be basic shapes like circles or squares or more complex ones like bars or wedges. You can add glyphs to a Bokeh plot by using methods of the plot object that correspond to different glyph types"
      ],
      "metadata": {
        "id": "SB9QVisGz8cM"
      }
    },
    {
      "cell_type": "code",
      "source": [
        "from bokeh.plotting import figure, show\n",
        "\n",
        "x = [1, 2, 3]\n",
        "y = [4 ,5 ,6]\n",
        "\n",
        "p = figure(title=\"Scatter example\")\n",
        "\n",
        "p.circle(x=x[:2], y=y[:2], size=20)\n",
        "p.square(x=x[1:], y=y[1:], size=20)\n",
        "\n",
        "show(p)"
      ],
      "metadata": {
        "id": "0m94Cv0zzsL4"
      },
      "execution_count": 3,
      "outputs": []
    },
    {
      "cell_type": "markdown",
      "source": [
        "Q3. How can you customize the appearance of a Bokeh plot, including the axes, title, and legend?\n"
      ],
      "metadata": {
        "id": "a-RthJ9Ezbg1"
      }
    },
    {
      "cell_type": "code",
      "source": [
        "from bokeh.plotting import figure , show\n",
        "\n",
        "x = [1 ,2 ,3]\n",
        "y = [4 ,5 ,6]\n",
        "\n",
        "p = figure(title=\"Customized example\")\n",
        "\n",
        "# Change title text and alignment\n",
        "p.title.text = \"New title\"\n",
        "p.title.align = \"center\"\n",
        "\n",
        "# Change x-axis label and orientation\n",
        "p.xaxis.axis_label = \"New x-axis label\"\n",
        "p.xaxis.major_label_orientation = \"vertical\"\n",
        "\n",
        "# Change legend location and font size\n",
        "p.legend.location = \"top_left\"\n",
        "p.legend.label_text_font_size = \"12pt\"\n",
        "\n",
        "# Add glyphs with legend labels\n",
        "p.circle(x=x[:2], y=y[:2], size=20 , legend_label=\"Circle\")\n",
        "p.square(x=x[1:], y=y[1:], size=20 , legend_label=\"Square\")\n",
        "\n",
        "show(p)"
      ],
      "metadata": {
        "id": "8U8cl7AszslA"
      },
      "execution_count": 4,
      "outputs": []
    },
    {
      "cell_type": "markdown",
      "source": [
        "Q4. What is a Bokeh server, and how can you use it to create interactive plots that can be updated in\n",
        "real time?\n"
      ],
      "metadata": {
        "id": "KuBFKvuFzbis"
      }
    },
    {
      "cell_type": "code",
      "source": [
        "from bokeh.io import curdoc # current document for callbacks\n",
        "from bokeh.layouts import column # layout for arranging widgets and plots\n",
        "from bokeh.models import Slider # widget for user input\n",
        "from bokeh.plotting import figure # for creating plots\n",
        "\n",
        "# Create a slider widget for changing frequency\n",
        "slider = Slider(start=0.1 , end=10 , value=1 , step=0.01 , title=\"Frequency\")\n",
        "\n",
        "# Create a sine wave plot with initial frequency\n",
        "x = [0.01 * i for i in range(1000)]\n",
        "y =[slider.value * i for i in x"
      ],
      "metadata": {
        "id": "DWyRcL8dztEA"
      },
      "execution_count": null,
      "outputs": []
    },
    {
      "cell_type": "markdown",
      "source": [
        "Q5. How can you embed a Bokeh plot into a web page or dashboard using Flask or Django? **bold text**"
      ],
      "metadata": {
        "id": "BUh5iPI5zbmQ"
      }
    },
    {
      "cell_type": "code",
      "source": [],
      "metadata": {
        "id": "dK8Oz25LztbE"
      },
      "execution_count": null,
      "outputs": []
    },
    {
      "cell_type": "markdown",
      "source": [
        "Using bokeh.embed.components function to generate a script and a div tag that can be inserted into your HTML template. This method works for standalone plots that do not require a Bokeh server1.\n",
        "Using bokeh.embed.server_document function to generate a script tag that can be inserted into your HTML template. This method works for plots that run on a Bokeh server and need interactivity or streaming data23.\n",
        "Using bokeh.embed.server_session function to generate a script tag that can be inserted into your HTML template. This method works for plots that run on a Bokeh server and need session-specific customization."
      ],
      "metadata": {
        "id": "io7n1h_80oDE"
      }
    },
    {
      "cell_type": "code",
      "source": [],
      "metadata": {
        "id": "KfrbWJcK0ppm"
      },
      "execution_count": null,
      "outputs": []
    }
  ]
}