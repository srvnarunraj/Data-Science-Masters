{
 "cells": [
  {
   "cell_type": "markdown",
   "id": "d30291d2-b56d-45fb-98e1-9a4307806e28",
   "metadata": {},
   "source": [
    "### Q1. What is data encoding? How is it useful in data science?"
   ]
  },
  {
   "cell_type": "markdown",
   "id": "281a866d-8eac-429b-b86b-e7604c2eaf11",
   "metadata": {},
   "source": [
    "Data encoding is the process of transforming categorical data into numerical data that can be used by machine learning algorithms. It is useful in data science because many machine learning algorithms require numerical data as input. Data encoding also enables us to analyze and visualize categorical data more easily"
   ]
  },
  {
   "cell_type": "markdown",
   "id": "13870c28-4720-4b09-827e-1d5ca266c5fd",
   "metadata": {},
   "source": [
    "### Q2. What is nominal encoding? Provide an example of how you would use it in a real-world scenario."
   ]
  },
  {
   "cell_type": "markdown",
   "id": "24750b9a-7224-4f10-80c2-db7b49bab7f9",
   "metadata": {},
   "source": [
    "Nominal encoding is a type of data encoding where each unique category is assigned a unique integer value. For example, if we have a dataset with a \"color\" column containing the categories \"red\", \"green\", and \"blue\", we could assign the values 1, 2, and 3 to each category, respectively. Nominal encoding is useful when there is no intrinsic ordering to the categories, and when the number of categories is relatively small."
   ]
  },
  {
   "cell_type": "markdown",
   "id": "6ef3de89-bb74-45bf-8d09-2ff79d7effb0",
   "metadata": {},
   "source": [
    "### Q3. In what situations is nominal encoding preferred over one-hot encoding? Provide a practical example."
   ]
  },
  {
   "cell_type": "markdown",
   "id": "e0e55698-aaed-4fd3-a295-3b7cacfdf511",
   "metadata": {},
   "source": [
    " Nominal encoding is preferred over one-hot encoding when the number of categories is relatively small and when there is no intrinsic ordering to the categories. For example, if we have a dataset with a \"continent\" column containing the categories \"North America\", \"South America\", \"Europe\", \"Asia\", and \"Africa\", we could use nominal encoding to assign each category a unique integer value. One-hot encoding would be less practical in this case because it would create a large number of new columns."
   ]
  },
  {
   "cell_type": "markdown",
   "id": "aabfe0dd-2b30-49af-b8c5-15b988849470",
   "metadata": {},
   "source": [
    "### Q4. Suppose you have a dataset containing categorical data with 5 unique values. Which encoding technique would you use to transform this data into a format suitable for machine learning algorithms?\n",
    "Explain why you made this choice."
   ]
  },
  {
   "cell_type": "markdown",
   "id": "b8ffe098-5ea6-47bf-bfdc-4c1243b38410",
   "metadata": {},
   "source": [
    "if we have a dataset containing categorical data with 5 unique values, we could use nominal encoding to transform this data into a format suitable for machine learning algorithms. Nominal encoding is appropriate when the number of categories is relatively small, and there is no intrinsic ordering to the categories."
   ]
  },
  {
   "cell_type": "markdown",
   "id": "40176c70-33af-4174-8ba9-1beea1f08d5e",
   "metadata": {},
   "source": [
    "### Q5. In a machine learning project, you have a dataset with 1000 rows and 5 columns. \n",
    "Two of the columns\n",
    "are categorical, and the remaining three columns are numerical. If you were to use nominal encoding to\n",
    "transform the categorical data, how many new columns would be created? Show your calculations."
   ]
  },
  {
   "cell_type": "markdown",
   "id": "f32b2f1b-7385-409f-86f3-620e80c8948b",
   "metadata": {},
   "source": [
    "If we were to use nominal encoding to transform the categorical data in a dataset with 1000 rows and 5 columns, two of which are categorical, we would create two new columns with integer values representing the categories. The total number of columns would remain the same, as the three numerical columns would not be affected."
   ]
  },
  {
   "cell_type": "markdown",
   "id": "5ce3001c-57fa-46aa-be28-7401383fa8ba",
   "metadata": {},
   "source": [
    "### Q6. You are working with a dataset containing information about different types of animals, including their species, habitat, and diet.\n",
    "Which encoding technique would you use to transform the categorical data into a format suitable for machine learning algorithms? Justify your answer."
   ]
  },
  {
   "cell_type": "markdown",
   "id": "1899206f-7e8a-4f60-a7c5-876b553ee723",
   "metadata": {},
   "source": [
    "For a dataset containing information about different types of animals, including their species, habitat, and diet, we could use one-hot encoding to transform the categorical data into a format suitable for machine learning algorithms. One-hot encoding is appropriate when the number of categories is relatively large, and there is no intrinsic ordering to the categories. In this case, each unique category in the \"species\", \"habitat\", and \"diet\" columns would be assigned a unique column, and a value of 1 or 0 would be used to indicate whether each animal belongs to that category or not."
   ]
  },
  {
   "cell_type": "markdown",
   "id": "2b94cdba-1eb8-445c-a9d5-dd1c7bd139fc",
   "metadata": {},
   "source": [
    "### Q7.You are working on a project that involves predicting customer churn for a telecommunications company.\n",
    "You have a dataset with 5 features, including the customer's gender, age, contract type,\n",
    "monthly charges, and tenure. Which encoding technique(s) would you use to transform the categorical\n",
    "data into numerical data? Provide a step-by-step explanation of how you would implement the encoding."
   ]
  },
  {
   "cell_type": "code",
   "execution_count": null,
   "id": "07ba166f-e6ef-46cf-b18d-9c80d24d4a40",
   "metadata": {},
   "outputs": [],
   "source": []
  }
 ],
 "metadata": {
  "kernelspec": {
   "display_name": "Python 3 (ipykernel)",
   "language": "python",
   "name": "python3"
  },
  "language_info": {
   "codemirror_mode": {
    "name": "ipython",
    "version": 3
   },
   "file_extension": ".py",
   "mimetype": "text/x-python",
   "name": "python",
   "nbconvert_exporter": "python",
   "pygments_lexer": "ipython3",
   "version": "3.10.8"
  }
 },
 "nbformat": 4,
 "nbformat_minor": 5
}
