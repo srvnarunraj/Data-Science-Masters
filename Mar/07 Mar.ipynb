{
 "cells": [
  {
   "cell_type": "markdown",
   "id": "069c7022-4ef1-4c62-8148-36106fe32c8a",
   "metadata": {},
   "source": [
    "### Q1. What are the three measures of central tendency?"
   ]
  },
  {
   "cell_type": "markdown",
   "id": "248f9e15-8809-4c3e-b8fe-ebc394b6c2cf",
   "metadata": {},
   "source": [
    "The three measures of central tendency are mean, median, and mode."
   ]
  },
  {
   "cell_type": "markdown",
   "id": "ecb96b11-103c-42e5-aa5d-1a051ea1920d",
   "metadata": {},
   "source": [
    "### Q2. What is the difference between the mean, median, and mode? How are they used to measure the central tendency of a dataset?\n"
   ]
  },
  {
   "cell_type": "markdown",
   "id": "d5baa6d7-fcf5-4404-bc31-309724df2a8b",
   "metadata": {},
   "source": [
    "* Mean is the average value of a dataset, calculated by adding up all the values and dividing by the number of values. \n",
    "\n",
    "* Median is the middle value of a dataset when it is arranged in order, such that half of the values are above and half are below.\n",
    "\n",
    "* Mode is the value that appears most frequently in a dataset. \n",
    "\n",
    "These measures are used to determine where the center of the data is located, and to provide a single value that represents the typical or average value of the dataset."
   ]
  },
  {
   "cell_type": "markdown",
   "id": "89f8d7be-dd99-4886-8898-5f6ba1b0e4aa",
   "metadata": {},
   "source": [
    "### Q3. Measure the three measures of central tendency for the given height data:\n",
    "[178,177,176,177,178.2,178,175,179,180,175,178.9,176.2,177,172.5,178,176.5]\n"
   ]
  },
  {
   "cell_type": "markdown",
   "id": "c3ceb4d4-4b31-4961-a9b9-a13992e6aac5",
   "metadata": {},
   "source": [
    "* mean is 177.9\n",
    "* median is 177.5\n",
    "* mode is 178."
   ]
  },
  {
   "cell_type": "markdown",
   "id": "b4300182-a840-45e3-8dc7-0a06aeaec2ec",
   "metadata": {},
   "source": [
    "### Q4. Find the standard deviation for the given data:\n",
    "[178,177,176,177,178.2,178,175,179,180,175,178.9,176.2,177,172.5,178,176.5]\n"
   ]
  },
  {
   "cell_type": "markdown",
   "id": "0d3e7cde-5495-4bcf-801c-b960beca3444",
   "metadata": {},
   "source": [
    "The standard deviation for the given data is approximately 1.990."
   ]
  },
  {
   "cell_type": "markdown",
   "id": "226ce4c7-5db9-4101-920b-61d60b0687f1",
   "metadata": {},
   "source": [
    "### Q5. How are measures of dispersion such as range, variance, and standard deviation used to describe the spread of a dataset? Provide an example.\n"
   ]
  },
  {
   "cell_type": "markdown",
   "id": "182f3927-6728-4dbb-8cfa-2ab97c615a4d",
   "metadata": {},
   "source": [
    "* **Range** is the difference between the maximum and minimum values in the dataset, and gives an idea of how much variation there is in the data\n",
    "\n",
    "* **Variance and standard deviation**  are measures of how spread out the data is around the mean, with higher values indicating more variation. \n",
    "* **Example :** if two datasets have the same mean but different standard deviations, the one with the higher standard deviation has more variability in the data."
   ]
  },
  {
   "cell_type": "markdown",
   "id": "6c059e82-9908-4da1-a0fa-7a31c5e03324",
   "metadata": {},
   "source": [
    "### Q6. What is a Venn diagram?\n"
   ]
  },
  {
   "cell_type": "markdown",
   "id": "d70d1611-138b-46c1-b3c6-7a6f0a5abe0c",
   "metadata": {},
   "source": [
    "A Venn diagram is a graphical representation of set theory that shows the relationship between different sets and their overlaps. It consists of circles or other shapes that represent the sets, with the area of the shape proportional to the size of the set, and the overlapping area showing the elements that belong to both sets."
   ]
  },
  {
   "cell_type": "markdown",
   "id": "5b330df6-a8d0-45aa-a24c-936bf010f74f",
   "metadata": {},
   "source": [
    "### Q7. For the two given sets A = (2,3,4,5,6,7) & B = (0,2,6,8,10). Find:\n",
    "<pre>\n",
    "(i) A B\n",
    "(ii) A ⋃ B\n",
    "</pre>\n"
   ]
  },
  {
   "cell_type": "markdown",
   "id": "f8d4746f-3c0f-4f3a-aa1f-32a9dc5daf36",
   "metadata": {},
   "source": [
    "<pre>\n",
    "(i) A ∩ B = {2, 6}\n",
    "(ii) A ⋃ B = {0, 2, 3, 4, 5, 6, 7, 8, 10}\n",
    "</pre>"
   ]
  },
  {
   "cell_type": "markdown",
   "id": "b755a62f-c461-4394-ad37-800b483ba5e4",
   "metadata": {},
   "source": [
    "### Q8. What do you understand about skewness in data?\n"
   ]
  },
  {
   "cell_type": "markdown",
   "id": "94cec043-c1f2-4a10-a780-e626661b9384",
   "metadata": {},
   "source": [
    " Skewness in data refers to the degree of distribution of Data. \n",
    " * A dataset can be either positively skewed (with a tail to the right)\n",
    " * Negatively skewed (with a tail to the left)"
   ]
  },
  {
   "cell_type": "markdown",
   "id": "ef582f16-4123-431d-932e-caea084784b1",
   "metadata": {},
   "source": [
    "### Q9. If a data is right skewed then what will be the position of median with respect to mean?\n"
   ]
  },
  {
   "cell_type": "markdown",
   "id": "1171f7f7-fe0d-49ac-9969-3e1cc50aa101",
   "metadata": {},
   "source": [
    "* If a data is right skewed, then the position of median with respect to mean will be less than the mean. \n",
    "* This is because in a right-skewed distribution, the tail of the distribution is towards the right, meaning that there are more values in the lower range of the distribution. As a result, the mean is pulled towards the right, making it higher than the median."
   ]
  },
  {
   "cell_type": "markdown",
   "id": "63ebd562-e2ec-42c3-ba77-5b46470cb358",
   "metadata": {
    "tags": []
   },
   "source": [
    "### Q10. Explain the difference between covariance and correlation. How are these measures used in statistical analysis?\n"
   ]
  },
  {
   "cell_type": "markdown",
   "id": "45a0a541-ca87-42d6-9110-dc106dcfe61c",
   "metadata": {},
   "source": [
    "* Covariance and correlation are measures of the relationship between two variables. \n",
    "* Covariance measures the degree to which two variables vary together, while correlation measures the strength and direction of the linear relationship between the two variables. \n",
    "* Covariance can be positive or negative, while correlation ranges from -1 (perfect negative correlation) to 1 (perfect positive correlation).\n",
    "* These measures are used to determine the strength and nature of the relationship between two variables, and to make predictions or decisions based on that relationship."
   ]
  },
  {
   "cell_type": "markdown",
   "id": "47c7eac6-2ac6-482f-bbed-554b45e9a114",
   "metadata": {},
   "source": [
    "### Q11. What is the formula for calculating the sample mean? Provide an example calculation for a dataset.\n"
   ]
  },
  {
   "cell_type": "markdown",
   "id": "781305e8-d5cd-452d-9741-f3edb1289876",
   "metadata": {},
   "source": [
    "The formula for calculating the sample mean is:\n",
    "\n",
    "mean = (sum of values) / (number of values)\n",
    "\n",
    "For example, if the dataset is [5, 7, 2, 6, 4], then the mean would be:\n",
    "\n",
    "mean = (5 + 7 + 2 + 6 + 4) / 5 = 4.8"
   ]
  },
  {
   "cell_type": "markdown",
   "id": "e42105e2-890c-44f2-8b9f-9ea45daa64f8",
   "metadata": {},
   "source": [
    "### Q12. For a normal distribution data what is the relationship between its measure of central tendency?\n"
   ]
  },
  {
   "cell_type": "markdown",
   "id": "d186d32f-315a-4b67-ab01-9a4c839dac7b",
   "metadata": {},
   "source": [
    "For a normal distribution data, the mean, median, and mode are all equal."
   ]
  },
  {
   "cell_type": "markdown",
   "id": "ce0fd62f-14d0-4709-a495-7873004fe0ec",
   "metadata": {},
   "source": [
    "### Q13. How is covariance different from correlation?\n"
   ]
  },
  {
   "cell_type": "markdown",
   "id": "8914006d-0120-47e9-8425-326efe02e78b",
   "metadata": {},
   "source": [
    "* Covariance measures the degree to which two variables vary together, while correlation measures the strength and direction of the linear relationship between the two variables. \n",
    "* Covariance is affected by the scale of the variables, while correlation is not. Correlation provides a standardized"
   ]
  },
  {
   "cell_type": "markdown",
   "id": "5f97f929-8e9a-4da8-8503-008963b218a9",
   "metadata": {},
   "source": [
    "### Q14. How do outliers affect measures of central tendency and dispersion? Provide an example."
   ]
  },
  {
   "cell_type": "markdown",
   "id": "7aa1516b-ac3b-417a-8cd1-cad924825ec1",
   "metadata": {},
   "source": [
    "* Outliers are extreme values in a dataset that are significantly different from the other values. \n",
    "* If a dataset has outliers, the mean can be skewed in the direction of the outliers, making it a less reliable measure of central tendency\n",
    "* Similarly, outliers can increase the range, variance, and standard deviation, making these measures less representative of the data as a whole. \n",
    "\n",
    "* For example, if a dataset of test scores has an outlier of 100 when the other scores are in the 70-80 range, the mean will be significantly higher than the typical score, and the standard deviation will be inflated due to the extreme value. As a result, it may be necessary to identify and remove outliers from a dataset in order to obtain more accurate measures of central tendency and dispersion."
   ]
  },
  {
   "cell_type": "code",
   "execution_count": null,
   "id": "b8eccb2c-b2de-4842-83ac-aee2e4a1a99d",
   "metadata": {},
   "outputs": [],
   "source": []
  }
 ],
 "metadata": {
  "kernelspec": {
   "display_name": "Python 3 (ipykernel)",
   "language": "python",
   "name": "python3"
  },
  "language_info": {
   "codemirror_mode": {
    "name": "ipython",
    "version": 3
   },
   "file_extension": ".py",
   "mimetype": "text/x-python",
   "name": "python",
   "nbconvert_exporter": "python",
   "pygments_lexer": "ipython3",
   "version": "3.10.8"
  }
 },
 "nbformat": 4,
 "nbformat_minor": 5
}
