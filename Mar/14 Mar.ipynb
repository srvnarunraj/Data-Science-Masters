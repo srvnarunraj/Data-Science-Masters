{
 "cells": [
  {
   "cell_type": "markdown",
   "id": "8420a7f6-8048-4ee3-824c-fd29e9be6dbf",
   "metadata": {},
   "source": [
    "### Q1. Write a Python function that takes in two arrays of data and calculates the F-value for a variance ratio test. The function should return the F-value and the corresponding p-value for the test."
   ]
  },
  {
   "cell_type": "code",
   "execution_count": 1,
   "id": "e746aa54-f61f-4b36-814b-b00a52f85fe9",
   "metadata": {},
   "outputs": [],
   "source": [
    "import numpy as np\n",
    "from scipy.stats import f\n",
    "\n",
    "def f_test(x, y):\n",
    "    n_x = len(x)\n",
    "    n_y = len(y)\n",
    "    var_x = np.var(x, ddof=1)\n",
    "    var_y = np.var(y, ddof=1)\n",
    "    \n",
    "    if var_x > var_y:\n",
    "        f_value = var_x / var_y\n",
    "        dfn = n_x - 1\n",
    "        dfd = n_y - 1\n",
    "    else:\n",
    "        f_value = var_y / var_x\n",
    "        dfn = n_y - 1\n",
    "        dfd = n_x - 1\n",
    "        \n",
    "    p_value = f.sf(f_value, dfn, dfd) * 2\n",
    "    \n",
    "    return f_value, p_value"
   ]
  },
  {
   "cell_type": "markdown",
   "id": "9de5ac1d-536a-404d-8fde-61a70b9025a5",
   "metadata": {},
   "source": [
    "### Q2. Given a significance level of 0.05 and the degrees of freedom for the numerator and denominator of an F-distribution, write a Python function that returns the critical F-value for a two-tailed test."
   ]
  },
  {
   "cell_type": "code",
   "execution_count": 2,
   "id": "f170e33c-2f19-4291-9fb9-1198baeb0bca",
   "metadata": {},
   "outputs": [],
   "source": [
    "from scipy.stats import f\n",
    "\n",
    "def critical_f(num_df, denom_df):\n",
    "    alpha = 0.05\n",
    "    return f.ppf(alpha/2, num_df, denom_df), f.ppf(1-alpha/2, num_df, denom_df)\n"
   ]
  },
  {
   "cell_type": "markdown",
   "id": "ea501a8c-edaf-476f-bcfb-542500ecc06a",
   "metadata": {},
   "source": [
    "The ppf() function in scipy.stats.f calculates the inverse cumulative distribution function (CDF) of the F-distribution, which gives the value at which the specified percentage of the distribution is below that value. In this case, we want to find the critical values that enclose 95% of the distribution."
   ]
  },
  {
   "cell_type": "markdown",
   "id": "91bca4bf-608d-46bb-9738-8ac7209a0e3d",
   "metadata": {},
   "source": [
    "### Q3. Write a Python program that generates random samples from two normal distributions with known variances and uses an F-test to determine if the variances are equal. The program should output the F-value, degrees of freedom, and p-value for the test."
   ]
  },
  {
   "cell_type": "code",
   "execution_count": 3,
   "id": "f30d23a8-b6dd-4210-84c1-d33a139dbf3d",
   "metadata": {},
   "outputs": [
    {
     "name": "stdout",
     "output_type": "stream",
     "text": [
      "F-value: 1.128193255216913\n",
      "Degrees of freedom: 29 29\n",
      "p-value: 0.747537072174733\n"
     ]
    }
   ],
   "source": [
    "import numpy as np\n",
    "from scipy.stats import f\n",
    "\n",
    "# Parameters for the normal distributions\n",
    "mu1, mu2 = 0, 0\n",
    "var1, var2 = 10, 10\n",
    "n1, n2 = 30, 30  # Sample sizes\n",
    "\n",
    "# Generate random samples from the normal distributions\n",
    "sample1 = np.random.normal(mu1, np.sqrt(var1), n1)\n",
    "sample2 = np.random.normal(mu2, np.sqrt(var2), n2)\n",
    "\n",
    "# Calculate the F-value and p-value for the F-test\n",
    "f_value, p_value = f_test(sample1, sample2)\n",
    "\n",
    "print(\"F-value:\", f_value)\n",
    "print(\"Degrees of freedom:\", len(sample1)-1, len(sample2)-1)\n",
    "print(\"p-value:\", p_value)"
   ]
  },
  {
   "cell_type": "markdown",
   "id": "f93cbf81-83c6-4fba-b243-6565dfb9bba9",
   "metadata": {},
   "source": [
    "### Q4.The variances of two populations are known to be 10 and 15. A sample of 12 observations is taken from each population. Conduct an F-test at the 5% significance level to determine if the variances are significantly different."
   ]
  },
  {
   "cell_type": "markdown",
   "id": "0899a253-a4dc-4d8d-80a1-dd6dd9861c86",
   "metadata": {},
   "source": [
    "To conduct an F-test to determine if the variances of two populations are significantly different, we need to calculate the F-statistic and compare it to the critical value from the F-distribution. Here are the steps to perform the F-test:\n",
    "\n",
    "    State the null and alternative hypotheses:\n",
    "        Null hypothesis: The variances of the two populations are equal.\n",
    "        Alternative hypothesis: The variances of the two populations are significantly different.\n",
    "\n",
    "    Determine the significance level and degrees of freedom:\n",
    "        Significance level: 5%\n",
    "        Degrees of freedom for the numerator (dfn): sample size of population 1 minus 1 = 11\n",
    "        Degrees of freedom for the denominator (dfd): sample size of population 2 minus 1 = 11\n",
    "\n",
    "    Calculate the F-statistic:\n",
    "        F = variance of population 1 / variance of population 2 = 10 / 15 = 0.67\n",
    "\n",
    "    Find the critical value from the F-distribution table:\n",
    "        From the F-distribution table with dfn=11 and dfd=11 at 5% significance level, the critical value is 2.75.\n",
    "\n",
    "    Compare the F-statistic with the critical value:\n",
    "        Since 0.67 < 2.75, the F-statistic does not exceed the critical value.\n",
    "\n",
    "    Make a decision and interpret the results:\n",
    "        Since the F-statistic is not greater than the critical value, we fail to reject the null hypothesis. Therefore, we can conclude that there is no significant difference between the variances of the two populations at the 5% significance leve"
   ]
  },
  {
   "cell_type": "markdown",
   "id": "5bbfa61d-dc55-4b1e-a4ed-c639ede7c547",
   "metadata": {},
   "source": [
    "### Q5. A manufacturer claims that the variance of the diameter of a certain product is 0.005. A sample of 25 products is taken, and the sample variance is found to be 0.006. Conduct an F-test at the 1% significance level to determine if the claim is justified.\n"
   ]
  },
  {
   "cell_type": "markdown",
   "id": "7993b5c2-19b1-44a8-8632-119ade8258f0",
   "metadata": {},
   "source": [
    "State the null and alternative hypotheses:\n",
    "\n",
    "    Null hypothesis: The population variance of the diameter of the product is equal to 0.005.\n",
    "    Alternative hypothesis: The population variance of the diameter of the product is greater than 0.005.\n",
    "\n",
    "Determine the significance level and degrees of freedom:\n",
    "\n",
    "    Significance level: 1%\n",
    "    Degrees of freedom for the numerator (dfn): sample size minus 1 = 24\n",
    "    Degrees of freedom for the denominator (dfd): since we are testing against a specific value, we use the total sample size minus 1 = 24\n",
    "\n",
    "Calculate the F-statistic:\n",
    "\n",
    "    F = sample variance / population variance = 0.006 / 0.005 = 1.2\n",
    "\n",
    "Find the critical value from the F-distribution table:\n",
    "\n",
    "    From the F-distribution table with dfn=24 and dfd=24 at 1% significance level, the critical value is 2.96.\n",
    "\n",
    "Compare the F-statistic with the critical value:\n",
    "\n",
    "    Since 1.2 < 2.96, the F-statistic does not exceed the critical value.\n",
    "\n",
    "Make a decision and interpret the results:\n",
    "\n",
    "    Since the F-statistic is not greater than the critical value, we fail to reject the null hypothesis. Therefore, we can conclude that the population variance of the diameter of the product is not significantly greater than 0.005 at the 1% significance level. In other words, there is no evidence to suggest that the manufacturer's claim is unjustified"
   ]
  },
  {
   "cell_type": "markdown",
   "id": "8ce16776-dc2f-4843-a723-50b2541262e8",
   "metadata": {},
   "source": [
    "### Q6. Write a Python function that takes in the degrees of freedom for the numerator and denominator of an F-distribution and calculates the mean and variance of the distribution. The function should return the mean and variance as a tuple."
   ]
  },
  {
   "cell_type": "code",
   "execution_count": 4,
   "id": "8b53a1c2-bb08-4f75-8140-e26255d709e9",
   "metadata": {},
   "outputs": [
    {
     "name": "stdout",
     "output_type": "stream",
     "text": [
      "Mean: 1.1111111111111112\n",
      "Variance: 0.43209876543209874\n"
     ]
    }
   ],
   "source": [
    "import numpy as np\n",
    "\n",
    "def f_dist_mean_var(df1, df2):   \n",
    "    mean = df2 / (df2 - 2)\n",
    "    var = (2 * (df2**2) * (df1 + df2 - 2)) / (df1 * (df2 - 2)**2 * (df2 - 4))\n",
    "    \n",
    "    return mean, var\n",
    "\n",
    "mean, var = f_dist_mean_var(10, 20)\n",
    "print(\"Mean:\", mean)\n",
    "print(\"Variance:\", var)"
   ]
  },
  {
   "cell_type": "markdown",
   "id": "bb274a5e-4af2-4fe7-8712-c1632b2e149f",
   "metadata": {},
   "source": [
    "### Q7. A random sample of 10 measurements is taken from a normal population with unknown variance. The sample variance is found to be 25. Another random sample of 15 measurements is taken from another normal population with unknown variance, and the sample variance is found to be 20. Conduct an F-test at the 10% significance level to determine if the variances are significantly different."
   ]
  },
  {
   "cell_type": "code",
   "execution_count": 5,
   "id": "0648fdd9-a1e5-4dee-93a7-bcd5f6252da2",
   "metadata": {},
   "outputs": [
    {
     "name": "stdout",
     "output_type": "stream",
     "text": [
      "Fail to reject null hypothesis. Variances are equal.\n",
      "F-value: 1.25\n",
      "Degrees of freedom: 9 14\n",
      "p-value: 0.6832194382585954\n"
     ]
    }
   ],
   "source": [
    "import numpy as np\n",
    "from scipy.stats import f\n",
    "\n",
    "s1 = 25\n",
    "s2 = 20\n",
    "n1 = 10\n",
    "n2 = 15\n",
    "df1 = n1 - 1\n",
    "df2 = n2 - 1\n",
    "F = s1/s2\n",
    "p_value = 2 * (1 - f.cdf(F, df1, df2))\n",
    "alpha = 0.10\n",
    "if p_value < alpha:\n",
    "    print(\"Reject null hypothesis. Variances are not equal.\")\n",
    "else:\n",
    "    print(\"Fail to reject null hypothesis. Variances are equal.\")\n",
    "    \n",
    "print(\"F-value:\", F)\n",
    "print(\"Degrees of freedom:\", df1, df2)\n",
    "print(\"p-value:\", p_value)\n"
   ]
  },
  {
   "cell_type": "markdown",
   "id": "71ed8d3f-430a-4136-b5bc-6680884239f3",
   "metadata": {},
   "source": [
    "### Q8. The following data represent the waiting times in minutes at two different restaurants on a Saturday night: Restaurant A: 24, 25, 28, 23, 22, 20, 27; Restaurant B: 31, 33, 35, 30, 32, 36. Conduct an F-test at the 5% significance level to determine if the variances are significantly different."
   ]
  },
  {
   "cell_type": "markdown",
   "id": "b53cd77e-766f-4f5b-a06b-0ade1390f041",
   "metadata": {},
   "source": [
    "* Null hypothesis: The variances of waiting times at the two restaurants are equal.\n",
    "\n",
    "* Alternative hypothesis: The variances of waiting times at the two restaurants are not equal.\n",
    "\n",
    "\n",
    "    Restaurant A: n1 = 7, s1^2 = 8.2857\n",
    "    \n",
    "    Restaurant B: n2 = 6, s2^2 = 6.6667\n",
    "\n",
    "    Calculate the F-value using the formula: F = s1^2 / s2^2\n",
    "    \n",
    "    F = 8.2857 / 6.6667 = 1.2428\n",
    "\n",
    "    Calculate the critical F-value using the significance level and degrees of freedom:\n",
    "\n",
    "    Significance level = 0.05\n",
    "    \n",
    "    Degrees of freedom for numerator = n1 - 1 = 6\n",
    "    \n",
    "    Degrees of freedom for denominator = n2 - 1 = 5\n",
    "    \n",
    "    Critical F-value = finv(0.025, 6, 5) = 5.1433, where finv() is the inverse of the F-distribution.\n",
    "\n",
    "    Compare the F-value and critical F-value:\n",
    "    \n",
    "    F-value = 1.2428\n",
    "    \n",
    "    Critical F-value = 5.1433\n",
    "    \n",
    "    Since the F-value is less than the critical F-value, we fail to reject the null hypothesis.\n",
    "\n",
    "    Interpret the results:\n",
    "    \n",
    "    There is not enough evidence to conclude that the variances of waiting times at the two restaurants are significantly different at the 5%   \n",
    "    significance level.\n",
    "\n",
    "Therefore, we can conclude that there is not enough evidence to suggest that the variance of waiting times at Restaurant A is significantly different from the variance of waiting times at Restaurant B at the 5% significance level."
   ]
  },
  {
   "cell_type": "markdown",
   "id": "11dbf9ea-04f7-40d6-839b-1ae4f18daf69",
   "metadata": {},
   "source": [
    "### Q9. The following data represent the test scores of two groups of students: \n",
    "    Group A: 80, 85, 90, 92, 87, 83;\n",
    "    Group B: 75, 78, 82, 79, 81, 84. Conduct an F-test at the 1% significance level to determine if the variances are significantly different."
   ]
  },
  {
   "cell_type": "code",
   "execution_count": 6,
   "id": "cc20968d-41d3-4d23-a148-4d728c7ff013",
   "metadata": {},
   "outputs": [
    {
     "name": "stdout",
     "output_type": "stream",
     "text": [
      "Fail to reject null hypothesis: variances are not significantly different.\n"
     ]
    }
   ],
   "source": [
    "import numpy as np\n",
    "from scipy.stats import f\n",
    "\n",
    "group_a = np.array([80, 85, 90, 92, 87, 83])\n",
    "group_b = np.array([75, 78, 82, 79, 81, 84])\n",
    "\n",
    "var_a = np.var(group_a, ddof=1)\n",
    "var_b = np.var(group_b, ddof=1)\n",
    "\n",
    "f_value = var_a / var_b\n",
    "\n",
    "# degrees of freedom for the F-test\n",
    "dfn = len(group_a) - 1\n",
    "dfd = len(group_b) - 1\n",
    "\n",
    "# calculate the critical F-value at the 1% significance level\n",
    "alpha = 0.01\n",
    "f_crit = f.ppf(q=1-alpha, dfn=dfn, dfd=dfd)\n",
    "\n",
    "# compare the calculated F-value with the critical F-value\n",
    "if f_value > f_crit:\n",
    "    print(\"Reject null hypothesis: variances are significantly different.\")\n",
    "else:\n",
    "    print(\"Fail to reject null hypothesis: variances are not significantly different.\")\n"
   ]
  },
  {
   "cell_type": "code",
   "execution_count": null,
   "id": "e9de7708-dbaf-48e8-85d1-ac155d2d3b07",
   "metadata": {},
   "outputs": [],
   "source": []
  }
 ],
 "metadata": {
  "kernelspec": {
   "display_name": "Python 3 (ipykernel)",
   "language": "python",
   "name": "python3"
  },
  "language_info": {
   "codemirror_mode": {
    "name": "ipython",
    "version": 3
   },
   "file_extension": ".py",
   "mimetype": "text/x-python",
   "name": "python",
   "nbconvert_exporter": "python",
   "pygments_lexer": "ipython3",
   "version": "3.10.8"
  }
 },
 "nbformat": 4,
 "nbformat_minor": 5
}
