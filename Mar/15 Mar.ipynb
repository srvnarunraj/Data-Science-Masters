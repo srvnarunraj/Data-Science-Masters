{
 "cells": [
  {
   "cell_type": "markdown",
   "id": "ca96bc0e-8f3e-4169-8633-fd55c9adec24",
   "metadata": {},
   "source": [
    "### Q1- Explain the following with an example: \n",
    "\ti) Artificial Intelligence \n",
    "\tii) Machine Learning, \n",
    "\tiii) Deep Learning "
   ]
  },
  {
   "cell_type": "markdown",
   "id": "3acdc0dd-f570-4131-a962-3ac4ec91758f",
   "metadata": {},
   "source": [
    "**i) Artificial Intelligence (AI) :** refers to the development of computer systems that can perform tasks that typically require human intelligence. It involves the use of algorithms and statistical models to simulate human intelligence. For example, a self-driving car that can recognize traffic lights, other vehicles, and pedestrians is an example of AI.\n",
    "\n",
    "**ii) Machine Learning (ML) :** is a subset of AI that involves the use of algorithms and statistical models to enable computer systems to learn and improve from experience without being explicitly programmed. For example, a spam filter that learns to identify spam emails by analyzing patterns in the content is an example of ML.\n",
    "\n",
    "**iii) Deep Learning (DL) :** is a subset of ML that involves the use of artificial neural networks with multiple layers to enable computer systems to learn and improve from experience. For example, a facial recognition system that learns to identify people by analyzing patterns in facial features is an example of DL."
   ]
  },
  {
   "cell_type": "markdown",
   "id": "b7af15a6-4868-427e-9d0b-dd4fe9f280fc",
   "metadata": {},
   "source": [
    "### Q2- What is supervised learning? List some examples of supervised learning.\n"
   ]
  },
  {
   "cell_type": "markdown",
   "id": "dc25cf98-7878-4cb6-a26f-4304ed551ea7",
   "metadata": {},
   "source": [
    "***Supervised learning***  is a type of ML where the computer system is trained on labeled data, which means the input data is already categorized. The goal is for the system to learn the underlying relationship between the input data and the corresponding output.\n",
    "\n",
    "***Examples*** of supervised learning include image classification, speech recognition, and fraud detection."
   ]
  },
  {
   "cell_type": "markdown",
   "id": "85554217-a8a7-44a7-894e-c5c2ecfa10de",
   "metadata": {},
   "source": [
    "### Q3- What is unsupervised learning? List some examples of unsupervised learning. \n"
   ]
  },
  {
   "cell_type": "markdown",
   "id": "26caf203-188c-445c-990f-1877a9e74adf",
   "metadata": {},
   "source": [
    "***Unsupervised learning*** is a type of ML where the computer system is trained on unlabeled data, which means the input data is not categorized. The goal is for the system to identify patterns and relationships in the input data without any prior knowledge of what the output should be.\n",
    "\n",
    "***Examples*** of unsupervised learning include clustering, anomaly detection, and dimensionality reduction."
   ]
  },
  {
   "cell_type": "markdown",
   "id": "bb266878-2d00-4e54-b871-08db21b01a09",
   "metadata": {},
   "source": [
    "### Q4- What is the difference between AI, ML, DL, and DS?\n"
   ]
  },
  {
   "cell_type": "markdown",
   "id": "fc990d22-4a23-4131-be7a-90ef4e942747",
   "metadata": {},
   "source": [
    "* AI is the broadest term that refers to the development of computer systems that can perform tasks that typically require human intelligence.\n",
    "\n",
    "* ML is a subset of AI that involves the use of algorithms and statistical models to enable computer systems to learn and improve from experience.\n",
    "\n",
    "* DL is a subset of ML that involves the use of artificial neural networks with multiple layers to enable computer systems to learn and improve from experience. DS stands for Data Science, which is a field that involves the use of statistical and computational methods to extract insights from data."
   ]
  },
  {
   "cell_type": "markdown",
   "id": "37614a7e-702f-4db9-a92f-34b1696c240c",
   "metadata": {},
   "source": [
    "### Q5- What are the main differences between supervised, unsupervised, and semi-supervised learning? \n"
   ]
  },
  {
   "cell_type": "markdown",
   "id": "6b010d17-dc0b-4fbe-82a7-30fff0a7dc75",
   "metadata": {},
   "source": [
    "* **Labeled Data** :  Supervised learning requires labeled data, while unsupervised learning does not. Semi-supervised learning falls in between, as it uses both labeled and unlabeled data.\n",
    "*  Supervised learning aims to learn the underlying relationship between the input data and the corresponding output, while unsupervised learning aims to identify patterns and relationships in the input data without any prior knowledge of what the output should be.\n",
    "* Supervised learning is typically used for classification and regression tasks, while unsupervised learning is typically used for clustering and anomaly detection tasks."
   ]
  },
  {
   "cell_type": "markdown",
   "id": "9566bbbe-3793-421f-bb25-0e713a08879a",
   "metadata": {},
   "source": [
    "### Q6- What is train, test and validation split? Explain the importance of each term. \n"
   ]
  },
  {
   "cell_type": "markdown",
   "id": "6cfe722d-71f9-4855-8ad0-545c6b9e250b",
   "metadata": {},
   "source": [
    "* Training set: used to train the model\n",
    "* Validation set: used to tune the hyperparameters of the model\n",
    "* Test set: used to evaluate the performance of the model on unseen data\n",
    "\n",
    "***The importance of each term is:***\n",
    "\n",
    "* ***Training set:*** it is used to train the model, and it should be representative of the data that the model will encounter in real-world scenarios.\n",
    "* ***Validation set:*** it is used to tune the hyperparameters of the model, which are parameters that are not learned from the data, but rather set by the user. The hyperparameters can significantly affect the performance of the model, and tuning them using the validation set can improve the model's performance.\n",
    "* ***Test set:*** it is used to evaluate the performance of the model on unseen data. It is crucial to use a test set that is representative of the data that the model will encounter in real-world scenarios"
   ]
  },
  {
   "cell_type": "markdown",
   "id": "c0000752-9181-46ce-9e8a-3ba1a1243b3d",
   "metadata": {},
   "source": [
    "### Q7- How can unsupervised learning be used in anomaly detection?\n"
   ]
  },
  {
   "cell_type": "markdown",
   "id": "88fd015a-1337-43a8-b956-e9e2d3ac54b5",
   "metadata": {},
   "source": [
    "Unsupervised learning can be used in anomaly detection by discovering atypical data points within a dataset. These anomalies can raise awareness around faulty equipment, human error, or breaches in security."
   ]
  },
  {
   "cell_type": "markdown",
   "id": "1a0a1056-261b-4e52-acae-09548ea9a78d",
   "metadata": {},
   "source": [
    "### Q8- List down some commonly used supervised learning algorithms and unsupervised learning algorithms."
   ]
  },
  {
   "cell_type": "markdown",
   "id": "9d927d00-61e7-4f61-bea4-39e28b13de49",
   "metadata": {},
   "source": [
    "* Linear regression for regression problems\n",
    "* Random forest for classification and regression problems\n",
    "* Support vector machines for classification problems.\n",
    "\n",
    "***Some commonly used unsupervised learning algorithms are:***\n",
    "\n",
    "* Clustering\n",
    "* Anomaly detection\n",
    "* Neural networks"
   ]
  },
  {
   "cell_type": "code",
   "execution_count": null,
   "id": "e4aed0f0-8d72-45e0-af24-67ae71fd5a64",
   "metadata": {},
   "outputs": [],
   "source": []
  }
 ],
 "metadata": {
  "kernelspec": {
   "display_name": "Python 3 (ipykernel)",
   "language": "python",
   "name": "python3"
  },
  "language_info": {
   "codemirror_mode": {
    "name": "ipython",
    "version": 3
   },
   "file_extension": ".py",
   "mimetype": "text/x-python",
   "name": "python",
   "nbconvert_exporter": "python",
   "pygments_lexer": "ipython3",
   "version": "3.10.8"
  }
 },
 "nbformat": 4,
 "nbformat_minor": 5
}
