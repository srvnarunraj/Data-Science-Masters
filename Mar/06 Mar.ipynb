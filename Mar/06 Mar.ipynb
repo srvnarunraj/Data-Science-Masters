{
 "cells": [
  {
   "cell_type": "markdown",
   "id": "9de6ce35-ff47-4c60-ac57-3c9dead0d2e0",
   "metadata": {},
   "source": [
    "### Q1. What is Statistics? "
   ]
  },
  {
   "cell_type": "markdown",
   "id": "9803084e-6783-45d3-b6f1-cad6183703cd",
   "metadata": {},
   "source": [
    "Statistics is a science of collecting Organizing & Analysing Data.It involves using statistical methods to make inferences and draw conclusions from data."
   ]
  },
  {
   "cell_type": "markdown",
   "id": "a1ca7709-5652-4581-b9f5-013530d58783",
   "metadata": {},
   "source": [
    "### Q2. Define the different types of statistics and give an example of when each type might be used. \n"
   ]
  },
  {
   "cell_type": "markdown",
   "id": "6c880dcd-f1eb-42e7-b01e-2ecc7b60b9e8",
   "metadata": {},
   "source": [
    "**Descriptive statistics :** \n",
    "* involve summarizing and describing the main features of a dataset, such as its central tendency and variability. \n",
    "* Descriptive statistics are often used to provide a summary of data for a research paper or report.\n",
    "\n",
    "**Inferential statistics** \n",
    "* involve making inferences about a population based on a sample of data. This involves using statistical techniques to estimate population parameters such as means, variances, or proportions. \n",
    "* Inferential statistics are often used to test hypotheses or make predictions about a population based on sample data.\n",
    "**Eg :** Exit-Poll"
   ]
  },
  {
   "cell_type": "markdown",
   "id": "e5f5f340-465b-4ac8-b6db-1906f34f34c4",
   "metadata": {},
   "source": [
    "### Q3.  What are the different types of data and how do they differ from each other? Provide an example of  each type of data. \n"
   ]
  },
  {
   "cell_type": "markdown",
   "id": "fbf29b63-02c9-48cc-af79-ef514e48c6fd",
   "metadata": {},
   "source": [
    "**Nominal data:** Nominal data is data that consists of categories with no inherent order. Examples include gender (male/female)\n",
    "\n",
    "**Ordinal data:** Ordinal data is data that consists of categories with an order or ranking. Examples include letter grades (A, B, C, D, F), or levels of satisfaction (very satisfied, somewhat satisfied, neutral, somewhat dissatisfied, very dissatisfied).\n",
    "\n",
    "**Interval data:** Interval data is data that has a consistent unit of measurement but no true zero point. Examples include temperature measured in Celsius or Fahrenheit, or dates measured in years.\n",
    "\n",
    "**Ratio data:** Ratio data is data that has a consistent unit of measurement and a true zero point. Examples include weight, height, or length."
   ]
  },
  {
   "cell_type": "markdown",
   "id": "63e2ce9d-910d-4b60-9a04-e06e747cf765",
   "metadata": {},
   "source": [
    "### Q4. Categorise the following datasets with respect to quantitative and qualitative data types: \n",
    "<pre>\n",
    "(i) Grading in exam: A+, A, B+, B, C+, C, D, E \n",
    "(ii) Colour of mangoes: yellow, green, orange, red \n",
    "(iii) Height data of a class: [178.9, 179, 179.5, 176, 177.2, 178.3, 175.8,...] \n",
    "(iv) Number of mangoes exported by a farm: [500, 600, 478, 672, …] \n",
    "</pre>\n"
   ]
  },
  {
   "cell_type": "markdown",
   "id": "abb5b6ca-89a6-433f-b0eb-46096a442af6",
   "metadata": {},
   "source": [
    "<pre>\n",
    "(i) Grading in exam: Ordinal data\n",
    "(ii) Colour of mangoes: Nominal data\n",
    "(iii) Height data of a class: Continous\n",
    "(iv) Number of mangoes exported by a farm: Discrete\n",
    "</pre>"
   ]
  },
  {
   "cell_type": "markdown",
   "id": "9854735a-818b-4d30-8b2a-b1430938cae1",
   "metadata": {},
   "source": [
    "### Q5. Explain the concept of levels of measurement and give an example of a variable for each level. \n"
   ]
  },
  {
   "cell_type": "markdown",
   "id": "2723d3f9-ba02-453b-b116-3fd062de46d2",
   "metadata": {},
   "source": [
    "The levels of measurement refer to the different ways in which data can be measured. There are four levels of measurement: nominal, ordinal, interval, and ratio.\n",
    "\n",
    "**Nominal level of measurement:** Data at the nominal level are categorical, and there is no  order or ranking among the categories. An example of a nominal variable is gender.\n",
    "\n",
    "**Ordinal level of measurement:** Data at the ordinal level are categorical, but there is an  order or ranking among the categories. An example of an ordinal variable is education level.\n",
    "\n",
    "**Interval level of measurement:** Data at the interval level are measured on a scale with equal intervals, but there is no true zero point. An example of an interval variable is temperature measured in Celsius or Fahrenheit.\n",
    "\n",
    "**Ratio level of measurement:** Data at the ratio level are measured on a scale with equal intervals and a true zero point. An example of a ratio variable is weight."
   ]
  },
  {
   "cell_type": "markdown",
   "id": "f039df94-2712-4667-9a2a-b80f3a350913",
   "metadata": {},
   "source": [
    "### Q6. Why is it important to understand the level of measurement when analyzing data? Provide an  example to illustrate your answer. \n"
   ]
  },
  {
   "cell_type": "markdown",
   "id": "a0855bdb-c763-403f-82bc-5cef7d2a29b0",
   "metadata": {},
   "source": [
    "Understanding the level of measurement is important when analyzing data because it determines which statistical methods are appropriate to use. For example, a ratio variable can be analyzed using methods such as mean, standard deviation, and correlation, while an ordinal variable can only be analyzed using methods such as median, mode, or frequency distributions.\n",
    "\n",
    "An example of this can be seen in medical research, where patient satisfaction scores are often measured on an ordinal scale. If the researchers incorrectly assume that the data is at the interval level, they may use inappropriate statistical methods, leading to incorrect conclusions about the data."
   ]
  },
  {
   "cell_type": "markdown",
   "id": "a87d0212-ad55-403c-8417-0667c6c838f2",
   "metadata": {},
   "source": [
    "### Q7. How nominal data type is different from ordinal data type. \n"
   ]
  },
  {
   "cell_type": "markdown",
   "id": "c7fd6387-9a0a-461e-860b-fd8055f5fab4",
   "metadata": {},
   "source": [
    "Nominal data is categorical and cannot be ranked, whereas ordinal data can be ranked or ordered. For example, gender is nominal data because male and female are categories that do not have a natural ranking, while letter grades (A, B, C, D, F) are ordinal data because they have a natural order from highest to lowest."
   ]
  },
  {
   "cell_type": "markdown",
   "id": "21d675da-f91c-4136-a1d3-0ce68b7ccb5e",
   "metadata": {},
   "source": [
    "### Q8. Which type of plot can be used to display data in terms of range? \n"
   ]
  },
  {
   "cell_type": "markdown",
   "id": "a2d79fc3-2e6e-46d8-94b8-b6007011eb2b",
   "metadata": {},
   "source": [
    "A box plot can be used to display data in terms of range. A box plot provides a visual representation of the distribution of a dataset, including the minimum and maximum values, the median, and the interquartile range."
   ]
  },
  {
   "cell_type": "markdown",
   "id": "7a882955-84ad-42e9-af53-db5baf143d7d",
   "metadata": {},
   "source": [
    "### Q9. Describe the difference between descriptive and inferential statistics. Give an example of each  type of statistics and explain how they are used. \n"
   ]
  },
  {
   "cell_type": "markdown",
   "id": "2a21035f-6859-4da2-b979-0e286937ed5a",
   "metadata": {},
   "source": [
    "**Descriptive statistics :** involve summarizing and describing the main features of a dataset, such as its central tendency and variability. Descriptive statistics are used to provide a summary of data, such as calculating the mean, median, mode, or standard deviation of a dataset.\n",
    "\n",
    "**Inferential statistics ::** involve making inferences about a population based on a sample of data. This involves using statistical techniques to estimate population parameters such as means, variances, or proportions.\n",
    "\n",
    "**For example** a researcher might use descriptive statistics to calculate the mean and standard deviation of a dataset, while using inferential statistics to test whether there is a significant difference between two groups in the population."
   ]
  },
  {
   "cell_type": "markdown",
   "id": "20aceb6c-535b-40ce-bf0d-3c0e0b5abe35",
   "metadata": {},
   "source": [
    "### Q10. What are some common measures of central tendency and variability used in statistics? Explain  how each measure can be used to describe a dataset. \n"
   ]
  },
  {
   "cell_type": "markdown",
   "id": "6f0359e1-1316-4dc8-83fa-a15655144840",
   "metadata": {},
   "source": [
    "**Measures of central tendency** include the mean, median, and mode. The mean is the arithmetic average of a dataset, the median is the middle value of a dataset, and the mode is the most frequently occurring value in a dataset. These measures can be used to describe the typical value or central location of a dataset.\n",
    "\n",
    "**Measures of variability** include the range, variance, and standard deviation. The range is the difference between the maximum and minimum values in a dataset, while the variance and standard deviation measure the spread of the data around the mean. These measures can be used to describe how spread out or dispersed the data is in a dataset."
   ]
  },
  {
   "cell_type": "code",
   "execution_count": null,
   "id": "ad0299f2-7743-481f-9f6a-3fa5ed4c7a26",
   "metadata": {},
   "outputs": [],
   "source": []
  },
  {
   "cell_type": "code",
   "execution_count": null,
   "id": "1263873b-c019-4827-93a6-3b65e0f03654",
   "metadata": {},
   "outputs": [],
   "source": []
  }
 ],
 "metadata": {
  "kernelspec": {
   "display_name": "Python 3 (ipykernel)",
   "language": "python",
   "name": "python3"
  },
  "language_info": {
   "codemirror_mode": {
    "name": "ipython",
    "version": 3
   },
   "file_extension": ".py",
   "mimetype": "text/x-python",
   "name": "python",
   "nbconvert_exporter": "python",
   "pygments_lexer": "ipython3",
   "version": "3.10.8"
  }
 },
 "nbformat": 4,
 "nbformat_minor": 5
}
