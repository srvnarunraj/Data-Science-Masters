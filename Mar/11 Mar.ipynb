{
 "cells": [
  {
   "cell_type": "markdown",
   "id": "e2c874e2-185c-4a7f-951a-d511232ee79f",
   "metadata": {},
   "source": [
    "### Q1: What is the difference between a t-test and a z-test? Provide an example scenario where you would use each type of test."
   ]
  },
  {
   "cell_type": "markdown",
   "id": "8a6023fb-c626-463a-990a-149f9cf24c73",
   "metadata": {},
   "source": [
    "***The main difference between a t-test and a z-test is the way the standard deviation is estimated :***\n",
    "* z-test the population standard deviation is known, while in a t-test, it is estimated from the sample data.\n",
    "\n",
    "* **Example :** z-test would be appropriate is when the population standard deviation is known, and we want to test the hypothesis that the sample mean is significantly different from the population mean. \n",
    "\n",
    "* **Example :** if we want to test whether the average height of a sample of 100 people is significantly different from the known population height of 170 cm, we can use a z-test.\n",
    "\n",
    "* t-test is used when the population standard deviation is unknown, and we estimate it from the sample data.\n",
    "\n",
    "* **Example :** t-test would be appropriate is when we want to test the hypothesis that the sample mean is significantly different from the population mean, but the population standard deviation is unknown. \n",
    "\n",
    "* **Example :** if we want to test whether the average score of a sample of 50 students on a math test is significantly different from the population mean score, but we don't know the population standard deviation, we can use a t-test."
   ]
  },
  {
   "cell_type": "markdown",
   "id": "7de62d42-32d3-435b-961c-938a369efa00",
   "metadata": {},
   "source": [
    "### Q2: Differentiate between one-tailed and two-tailed tests."
   ]
  },
  {
   "cell_type": "markdown",
   "id": "bdf05c03-9921-4bd4-a476-ad0d73255423",
   "metadata": {},
   "source": [
    "* one-tailed test is a statistical test where the alternative hypothesis is directional, and we are interested in one side of the distribution. \n",
    "    * For example, we might be interested in testing whether a new drug has a positive effect on a disease, and we only care about the direction of the effect (i.e., we are not interested in whether the drug has a negative effect). \n",
    "* two-tailed test is a statistical test where the alternative hypothesis is non-directional, and we are interested in both sides of the distribution.\n",
    "    * For example, we might be interested in testing whether a new drug has any effect on a disease, regardless of whether the effect is positive or negative."
   ]
  },
  {
   "cell_type": "markdown",
   "id": "6b020f2c-d73e-4cb7-ab33-6a8847168527",
   "metadata": {},
   "source": [
    "### Q3: Explain the concept of Type 1 and Type 2 errors in hypothesis testing. Provide an example scenario for each type of error."
   ]
  },
  {
   "cell_type": "markdown",
   "id": "ac84203d-0e74-4e48-b61d-aedfe35a2448",
   "metadata": {},
   "source": [
    "* Type 1 error occurs when we reject the null hypothesis when it is true. This means that we conclude that there is a significant effect or difference when there is not.\n",
    "* Type 2 error occurs when we fail to reject the null hypothesis when it is false. This means that we conclude that there is no significant effect or difference when there is.\n",
    "\n",
    "* For example we want to test the hypothesis that a new drug is effective in treating a disease.\n",
    "    * Type 1 error would occur if we conclude that the drug is effective when it is not, leading to patients taking the drug unnecessarily. \n",
    "    * Type 2 error would occur if we fail to conclude that the drug is effective when it is, leading to patients not receiving the treatment they need."
   ]
  },
  {
   "cell_type": "markdown",
   "id": "f875f09b-2042-43c4-ac22-f96b0e3fb747",
   "metadata": {},
   "source": [
    "### Q4: Explain Bayes's theorem with an example."
   ]
  },
  {
   "cell_type": "markdown",
   "id": "628d9b9e-c84a-4534-b262-86fb6bc36497",
   "metadata": {},
   "source": [
    "* Bayes's theorem is a mathematical formula that describes the probability of an event based on prior knowledge of conditions that might be related to the event. \n",
    "* The formula is P(A|B) = P(B|A) * P(A) / P(B), \n",
    "    * where P(A|B) is the probability of A given B\n",
    "    * P(B|A) is the probability of B given A\n",
    "    * P(A) is the prior probability of A\n",
    "    * P(B) is the prior probability of B."
   ]
  },
  {
   "cell_type": "markdown",
   "id": "53654021-a0d8-4102-936b-2a3095356601",
   "metadata": {},
   "source": [
    "### Q5: What is a confidence interval? How to calculate the confidence interval, explain with an example."
   ]
  },
  {
   "cell_type": "markdown",
   "id": "5356dcd6-d0f5-495d-8387-48a499dcaaec",
   "metadata": {},
   "source": [
    "*  A confidence interval is a range of values that is likely to contain the true value of a population parameter, such as the mean or proportion. It is often used to estimate the level of uncertainty associated with a sample statistic, based on the sampling distribution and a specified level of confidence.\n",
    "\n",
    "* To calculate a confidence interval, we first need to determine the appropriate level of confidence, typically expressed as a percentage. For example, a 95% confidence level means that if you were to take many random samples from the population and construct a confidence interval for each sample, about 95% of those intervals would contain the true population parameter.\n",
    "\n",
    "* Next, you need to calculate the sample statistic, such as the sample mean or proportion. Then, using the sample size and the population standard deviation (if known) or the sample standard deviation (if not), you can calculate the standard error of the mean or proportion.\n",
    "\n",
    "* Finally, you can calculate the confidence interval by adding and subtracting the margin of error from the sample statistic. The margin of error is determined by multiplying the standard error by a value from the appropriate distribution, such as the t-distribution or the normal distribution, based on the sample size and the specified level of confidence.\n",
    "\n",
    "* For example, suppose you want to estimate the mean weight of all male college students in the United States with 95% confidence, and you obtain a random sample of 100 male college students with a mean weight of 170 pounds and a standard deviation of 10 pounds. Using a t-distribution with 99 degrees of freedom (since n-1=99), the margin of error at a 95% confidence level is approximately 1.984. Thus, the 95% confidence interval for the true population mean weight is:\n",
    "\n",
    "        170 ± 1.984 × (10/√100) = 170 ± 1.984\n",
    "\n",
    "        which gives a range of (168.02, 171.98). This means that we are 95% confident that the true mean weight of all male college students in the United States lies within this interval."
   ]
  },
  {
   "cell_type": "markdown",
   "id": "98395a53-eb93-48cc-ada6-3d16c1c29e05",
   "metadata": {},
   "source": [
    "### Q6. Use Bayes' Theorem to calculate the probability of an event occurring given prior knowledge of the event's probability and new evidence. Provide a sample problem and solution."
   ]
  },
  {
   "cell_type": "markdown",
   "id": "11432871-8526-46f0-a8b0-d57cd4cf799f",
   "metadata": {},
   "source": [
    "* Bayes' Theorem is a mathematical formula that describes how to update the probability of an event occurring based on new evidence or information. It involves calculating the probability of the event given the prior probability (or prior belief) and the likelihood of the evidence, as well as the probabilities of any other relevant events.\n",
    "\n",
    "        The formula for Bayes' Theorem is:\n",
    "\n",
    "        P(A|B) = P(B|A) × P(A) / P(B)\n",
    "\n",
    "        where P(A|B) is the probability of event A occurring given that event B has occurred, P(B|A) is the probability of event B occurring given that event A has occurred, P(A) is the prior probability of event A, and P(B) is the probability of event B.\n",
    "\n",
    "* **Example :** suppose that a certain disease affects 1% of the population. A diagnostic test for the disease is known to have a false positive rate of 5% and a false negative rate of 1%. If a person tests positive for the disease, what is the probability that they actually have the disease?\n",
    "\n",
    "        Using Bayes Theorem, we can calculate the probability of having the disease given a positive test result as follows:\n",
    "\n",
    "        P(disease|positive test) = P(positive test|disease) × P(disease) / P(positive test)\n",
    "\n",
    "        where P(positive test|disease) is the sensitivity of the test (1-false negative rate), which is 99%, and P(disease) is the prior probability of having the disease, which is 1%. The denominator P(positive test) can be calculated using the law of total probability:\n",
    "\n",
    "        P(positive test) = P(positive test|disease) × P"
   ]
  },
  {
   "cell_type": "markdown",
   "id": "fd9123a8-f8d9-4ae8-8e5d-6d28e55c33b5",
   "metadata": {},
   "source": [
    "### Q7. Calculate the 95% confidence interval for a sample of data with a mean of 50 and a standard deviation of 5. Interpret the results."
   ]
  },
  {
   "cell_type": "markdown",
   "id": "f2f7725b-9829-48a1-9ea1-d592f9c365a8",
   "metadata": {},
   "source": [
    "The 95% confidence interval for a sample of data with a mean of 50 and a standard deviation of 5 can be calculated as:\n",
    "\n",
    "Margin of Error = z*(standard deviation/sqrt(sample size)) = 1.96*(5/sqrt(sample size))\n",
    "\n",
    "If we assume a sample size of 100, then the margin of error would be:\n",
    "\n",
    "Margin of Error = 1.96*(5/sqrt(100)) = 0.98\n",
    "\n",
    "So the 95% confidence interval would be:\n",
    "\n",
    "50 +/- 0.98\n",
    "\n",
    "Or, the interval would be (49.02, 50.98)\n",
    "\n",
    "Interpretation: We can be 95% confident that the true population mean lies between 49.02 and 50.98."
   ]
  },
  {
   "cell_type": "markdown",
   "id": "3db36aee-0d42-43ff-8628-2bfdad3d4f4a",
   "metadata": {},
   "source": [
    "### Q8. What is the margin of error in a confidence interval? How does sample size affect the margin of error? Provide an example of a scenario where a larger sample size would result in a smaller margin of error."
   ]
  },
  {
   "cell_type": "markdown",
   "id": "f797f7bd-1daa-46c7-8055-a0cd0446897c",
   "metadata": {},
   "source": [
    " The margin of error in a confidence interval is a measure of the uncertainty in the estimate due to the sample size. It represents the maximum distance that the sample estimate is expected to be from the true population parameter. The margin of error decreases as the sample size increases, because larger sample sizes provide more information about the population.\n",
    "\n",
    "For example, let's say a political poll is conducted to estimate the proportion of voters who support a particular candidate. If the poll uses a sample size of 1000, the margin of error might be +/- 3%. However, if the poll uses a sample size of 10,000, the margin of error might be only +/- 1%. In general, larger sample sizes lead to smaller margins of error."
   ]
  },
  {
   "cell_type": "markdown",
   "id": "a94b0f1b-87fe-4595-a056-816941cbf6d8",
   "metadata": {},
   "source": [
    "### Q9. Calculate the z-score for a data point with a value of 75, a population mean of 70, and a population standard deviation of 5. Interpret the results."
   ]
  },
  {
   "cell_type": "markdown",
   "id": "ce85d914-7944-4d47-b3a3-d9245ef36feb",
   "metadata": {},
   "source": [
    "The z-score for a data point with a value of 75, a population mean of 70, and a population standard deviation of 5 can be calculated as:\n",
    "\n",
    "z = (x - mu)/sigma = (75 - 70)/5 = 1\n",
    "\n",
    "Interpretation: The data point is one standard deviation above the population mean."
   ]
  },
  {
   "cell_type": "markdown",
   "id": "92cbfdce-6e6a-49fb-850b-815134828e75",
   "metadata": {},
   "source": [
    "### Q10. In a study of the effectiveness of a new weight loss drug, a sample of 50 participants lost an average of 6 pounds with a standard deviation of 2.5 pounds. Conduct a hypothesis test to determine if the drug is significantly effective at a 95% confidence level using a t-test."
   ]
  },
  {
   "cell_type": "markdown",
   "id": "30c1719a-03be-4303-ab21-e6a9a0965998",
   "metadata": {},
   "source": [
    " To conduct a hypothesis test to determine if the weight loss drug is significantly effective at a 95% confidence level using a t-test, we can follow these steps:\n",
    "\n",
    "Step 1: State the null and alternative hypotheses.\n",
    "Null hypothesis (H0): The weight loss drug is not significantly effective (mean weight loss is <= 0).\n",
    "Alternative hypothesis (Ha): The weight loss drug is significantly effective (mean weight loss is > 0).\n",
    "\n",
    "Step 2: Determine the level of significance (alpha) and the degrees of freedom.\n",
    "Since we are using a 95% confidence level, alpha = 0.05. The degrees of freedom are (n-1) = 49.\n",
    "\n",
    "Step 3: Calculate the t-statistic.\n",
    "t = (xbar - mu)/(s/sqrt(n)) = (6 - 0)/(2.5/sqrt(50)) = 12.65\n",
    "\n",
    "Step 4: Determine the critical value.\n",
    "The critical value for a one-tailed t-test with 49 degrees of freedom at a 0.05 level of significance is 1.676.\n",
    "\n",
    "Step 5: Compare the t-statistic to the critical value.\n",
    "Since 12.65 > 1.676, we reject the null hypothesis.\n",
    "\n",
    "Step 6: State the conclusion.\n",
    "We can conclude that the weight loss drug is significantly effective at a 95% confidence level."
   ]
  },
  {
   "cell_type": "markdown",
   "id": "464ceb42-bc36-4369-a8c8-ff4425bcdc35",
   "metadata": {},
   "source": [
    "### Q11. In a survey of 500 people, 65% reported being satisfied with their current job. Calculate the 95% confidence interval for the true proportion of people who are satisfied with their job."
   ]
  },
  {
   "cell_type": "markdown",
   "id": "eb63a4bb-6533-4e00-a86b-0f969bc95313",
   "metadata": {},
   "source": [
    "The sample proportion is p = 0.65\n",
    "\n",
    "The sample size is n = 500\n",
    "\n",
    "The level of confidence is 95%, so alpha = 0.05 and the critical value is z* = 1.96 (from the standard normal distribution table)\n",
    "\n",
    "The margin of error (E) can be calculated using the formula:\n",
    "E = z* * sqrt(p*(1-p)/n)\n",
    "\n",
    "E = 1.96 * sqrt(0.65*0.35/500) ≈ 0.046\n",
    "\n",
    "The 95% confidence interval can be calculated as:\n",
    "p ± E\n",
    "= 0.65 ± 0.046\n",
    "= (0.604, 0.696)\n",
    "\n",
    "Interpretation:\n",
    "We can be 95% confident that the true proportion of people who are satisfied with their job lies between 60.4% and 69.6%. This means that if we repeated this survey many times, 95% of the intervals we calculate would contain the true population proportion"
   ]
  },
  {
   "cell_type": "markdown",
   "id": "1cd72055-9dbd-45b1-bd43-8b01980d8f21",
   "metadata": {},
   "source": [
    "### Q12. A researcher is testing the effectiveness of two different teaching methods on student performance. Sample A has a mean score of 85 with a standard deviation of 6, while sample B has a mean score of 82 with a standard deviation of 5. Conduct a hypothesis test to determine if the two teaching methods have a significant difference in student performance using a t-test with a significance level of 0.01."
   ]
  },
  {
   "cell_type": "markdown",
   "id": "0abbd0de-69a8-4ca9-ba68-8828e7120094",
   "metadata": {},
   "source": [
    "To conduct a hypothesis test to determine if the two teaching methods have a significant difference in student performance using a t-test with a significance level of 0.01, we can use the following steps:\n",
    "\n",
    "Step 1: State the null and alternative hypotheses:\n",
    "\n",
    "H0: μA - μB = 0 (There is no significant difference in student performance between the two teaching methods)\n",
    "Ha: μA - μB ≠ 0 (There is a significant difference in student performance between the two teaching methods)\n",
    "\n",
    "Step 2: Determine the appropriate test statistic and significance level. Since the sample sizes are small and the population standard deviations are unknown, we can use a two-sample t-test with unequal variances and a significance level of 0.01.\n",
    "\n",
    "Step 3: Calculate the t-statistic using the formula:\n",
    "\n",
    "t = (x̄A - x̄B) / sqrt(s^2A/nA + s^2B/nB)\n",
    "\n",
    "Where x̄A and x̄B are the sample means, s^2A and s^2B are the sample variances, and nA and nB are the sample sizes.\n",
    "\n",
    "Plugging in the values, we get:\n",
    "\n",
    "t = (85 - 82) / sqrt((6^2/30) + (5^2/30))\n",
    "\n",
    "t = 2.46\n",
    "\n",
    "Step 4: Calculate the degrees of freedom (df) using the formula:\n",
    "\n",
    "df = (s^2A/nA + s^2B/nB)^2 / [(s^2A/nA)^2/(nA - 1) + (s^2B/nB)^2/(nB - 1)]\n",
    "\n",
    "Plugging in the values, we get:\n",
    "\n",
    "df = (6^2/30 + 5^2/30)^2 / [(6^2/30)^2/29 + (5^2/30)^2/29]\n",
    "\n",
    "df = 56.86 (rounded to nearest integer: 57)\n",
    "\n",
    "Step 5: Determine the critical t-value using a t-table with df = 57 and a significance level of 0.01. The critical t-value for a two-tailed test is ±2.998.\n",
    "\n",
    "Step 6: Compare the calculated t-statistic with the critical t-value. Since 2.46 is less than 2.998 in absolute value, we fail to reject the null hypothesis. There is not enough evidence to conclude that there is a significant difference in student performance between the two teaching methods"
   ]
  },
  {
   "cell_type": "markdown",
   "id": "e6e3af0b-c8b4-4b26-bf74-80cbc3041490",
   "metadata": {},
   "source": [
    "### Q13. A population has a mean of 60 and a standard deviation of 8.  A sample of 50 observations has a mean of 65. Calculate the 90% confidence interval for the true population mean."
   ]
  },
  {
   "cell_type": "markdown",
   "id": "49664883-c204-46c3-a27d-f4ad431e27f1",
   "metadata": {},
   "source": [
    "Given that the population mean is μ = 60, the sample mean is x̄ = 65, the sample size is n = 50, and the population standard deviation is σ = 8.\n",
    "\n",
    "The formula to calculate the confidence interval is:\n",
    "\n",
    "CI = x̄ ± Zα/2 * (σ/√n)\n",
    "\n",
    "where Zα/2 is the Z-score corresponding to the desired level of confidence. For a 90% confidence interval, Zα/2 = 1.645.\n",
    "\n",
    "Plugging in the values, we get:\n",
    "\n",
    "CI = 65 ± 1.645 * (8/√50) = 65 ± 2.302 = (62.698, 67.302)\n",
    "\n",
    "Therefore, we can be 90% confident that the true population mean falls within the interval (62.698, 67.302)."
   ]
  },
  {
   "cell_type": "markdown",
   "id": "b1e82381-2d03-400f-a7ed-353c30c1f40a",
   "metadata": {},
   "source": [
    "### Q14. In a study of the effects of caffeine on reaction time, a sample of 30 participants had an average reaction time of 0.25 seconds with a standard deviation of 0.05 seconds. Conduct a hypothesis test to determine if the caffeine has a significant effect on reaction time at a 90% confidence level using a t-test."
   ]
  },
  {
   "cell_type": "markdown",
   "id": "f9325de0-0e90-48c6-8c39-964b61ba54a4",
   "metadata": {},
   "source": [
    "We are given a sample of size n = 30, with a sample mean of x̄ = 0.25 and a sample standard deviation of s = 0.05. We want to test the null hypothesis that the caffeine does not have a significant effect on reaction time against the alternative hypothesis that the caffeine does have a significant effect on reaction time.\n",
    "\n",
    "H0: µ = 0 (there is no significant effect of caffeine on reaction time)\n",
    "Ha: µ ≠ 0 (there is a significant effect of caffeine on reaction time)\n",
    "\n",
    "We will use a two-tailed t-test with a significance level of α = 0.1 (90% confidence level).\n",
    "\n",
    "The formula to calculate the t-statistic is:\n",
    "\n",
    "t = (x̄ - µ) / (s / √n)\n",
    "\n",
    "where x̄ is the sample mean, µ is the hypothesized population mean, s is the sample standard deviation, and n is the sample size.\n",
    "\n",
    "Plugging in the values, we get:\n",
    "\n",
    "t = (0.25 - 0) / (0.05 / √30) = 13.416\n",
    "\n",
    "The degrees of freedom for the t-distribution are df = n - 1 = 29.\n",
    "\n",
    "Using a t-table or calculator, the critical t-value for a two-tailed test with α = 0.1 and df = 29 is ±1.699.\n",
    "\n",
    "Since our calculated t-value of 13.416 is greater than the critical t-value of 1.699, we reject the null hypothesis.\n",
    "\n",
    "Therefore, we can conclude that there is a significant effect of caffeine on reaction time at a 90% confidence level."
   ]
  },
  {
   "cell_type": "code",
   "execution_count": null,
   "id": "1ac05676-2d4f-489f-bc8b-8f2e2a04d08d",
   "metadata": {},
   "outputs": [],
   "source": []
  },
  {
   "cell_type": "code",
   "execution_count": null,
   "id": "c20bf426-5a42-437d-84a1-bae92158bf5a",
   "metadata": {},
   "outputs": [],
   "source": []
  }
 ],
 "metadata": {
  "kernelspec": {
   "display_name": "Python 3 (ipykernel)",
   "language": "python",
   "name": "python3"
  },
  "language_info": {
   "codemirror_mode": {
    "name": "ipython",
    "version": 3
   },
   "file_extension": ".py",
   "mimetype": "text/x-python",
   "name": "python",
   "nbconvert_exporter": "python",
   "pygments_lexer": "ipython3",
   "version": "3.10.8"
  }
 },
 "nbformat": 4,
 "nbformat_minor": 5
}
