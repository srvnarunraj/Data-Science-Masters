{
 "cells": [
  {
   "cell_type": "markdown",
   "id": "b4723b2c-5694-419a-a4ee-af352f30cfba",
   "metadata": {},
   "source": [
    "### Q1. What is the difference between Ordinal Encoding and Label Encoding? Provide an example of when you might choose one over the other."
   ]
  },
  {
   "cell_type": "markdown",
   "id": "85ed0958-dae0-4008-91e9-339d34856068",
   "metadata": {},
   "source": [
    "The main difference between Ordinal Encoding and Label Encoding is that\n",
    "* Ordinal Encoding assigns numerical values to categorical variables based on the order or rank of the categories\n",
    "* Label Encoding assigns numerical values to categorical variables arbitrarily.\n",
    "\n",
    "* Ordinal Encoding is useful when there is a natural ordering or ranking to the categories\n",
    "* Label Encoding is useful when there is no natural ordering or ranking.\n",
    "    \n",
    "    For example, in a dataset of t-shirt sizes (small, medium, large),\n",
    "    \n",
    "    * **Ordinal Encoding** could be used to assign the values (1, 2, 3) to represent the size categories\n",
    "    * **Label Encoding** could be used to assign thevalues (0, 1, 2)."
   ]
  },
  {
   "cell_type": "markdown",
   "id": "f20fbb4e-e9ea-4af6-ad06-2e3b5a50a139",
   "metadata": {},
   "source": [
    "### Q2. Explain how Target Guided Ordinal Encoding works and provide an example of when you might use it in a machine learning project."
   ]
  },
  {
   "cell_type": "markdown",
   "id": "a1a32898-9518-4305-94a6-440a3e3f3af7",
   "metadata": {},
   "source": [
    "* Target Guided Ordinal Encoding is a technique that assigns numerical values to categorical variables based on the target variable's mean value for each category.\n",
    "* This method can be used to encode categorical variables when there is a relationship between the categorical variable and the target variable. \n",
    "\n",
    "For example, in a dataset with a target variable of \"customer churn\", the \"customer tenure\" variable could be encoded using Target Guided Ordinal Encoding to assign higher values to longer-tenured customers who are less likely to churn."
   ]
  },
  {
   "cell_type": "markdown",
   "id": "0a6eef11-84a4-4b3a-b6c6-c23f6e929309",
   "metadata": {},
   "source": [
    "### Q3. Define covariance and explain why it is important in statistical analysis. How is covariance calculated?"
   ]
  },
  {
   "cell_type": "markdown",
   "id": "6a46971e-934d-4f50-960c-1c9a4f6d969c",
   "metadata": {},
   "source": [
    "* Covariance is a measure of the relationship between two variables, indicating how much they vary together.\n",
    "\n",
    "* It is important in statistical analysis because it provides information about the direction and strength of the relationship between two variables. Covariance is calculated by multiplying the deviation of each observation from the mean of its respective variable and summing the results."
   ]
  },
  {
   "cell_type": "markdown",
   "id": "668fabc8-19a9-46ad-a04b-54542a6cf248",
   "metadata": {},
   "source": [
    "### Q4. For a dataset with the following categorical variables: Color (red, green, blue), Size (small, medium,large), and Material (wood, metal, plastic), perform label encoding using Python's scikit-learn library.\n",
    "Show your code and explain the output."
   ]
  },
  {
   "cell_type": "code",
   "execution_count": 1,
   "id": "3918ac0d-02e6-4435-b477-82f91606a261",
   "metadata": {},
   "outputs": [
    {
     "name": "stdout",
     "output_type": "stream",
     "text": [
      "   Color  Size  Material\n",
      "0      2     2         2\n",
      "1      1     1         0\n",
      "2      0     0         1\n",
      "3      2     1         0\n",
      "4      1     2         2\n"
     ]
    }
   ],
   "source": [
    "from sklearn.preprocessing import LabelEncoder\n",
    "import pandas as pd\n",
    "\n",
    "# create a sample dataset\n",
    "data = {'Color': ['red', 'green', 'blue', 'red', 'green'],\n",
    "        'Size': ['small', 'medium', 'large', 'medium', 'small'],\n",
    "        'Material': ['wood', 'metal', 'plastic', 'metal', 'wood']}\n",
    "df = pd.DataFrame(data)\n",
    "\n",
    "# create a LabelEncoder object\n",
    "le = LabelEncoder()\n",
    "\n",
    "# encode the categorical variables\n",
    "df['Color'] = le.fit_transform(df['Color'])\n",
    "df['Size'] = le.fit_transform(df['Size'])\n",
    "df['Material'] = le.fit_transform(df['Material'])\n",
    "\n",
    "print(df)"
   ]
  },
  {
   "cell_type": "markdown",
   "id": "136c9403-a6b8-40c3-8a67-54cc6d335c4f",
   "metadata": {},
   "source": [
    "### Q5. Calculate the covariance matrix for the following variables in a dataset: Age, Income, and Education level. Interpret the results."
   ]
  },
  {
   "cell_type": "code",
   "execution_count": 3,
   "id": "21ad9218-615f-4ce2-839d-602a1bca3ddf",
   "metadata": {},
   "outputs": [
    {
     "name": "stdout",
     "output_type": "stream",
     "text": [
      "[[6.25e+01 1.25e+04 3.00e+01]\n",
      " [1.25e+04 2.50e+06 6.00e+03]\n",
      " [3.00e+01 6.00e+03 1.48e+01]]\n"
     ]
    }
   ],
   "source": [
    "import numpy as np\n",
    "import pandas as pd\n",
    "\n",
    "# create a sample dataset\n",
    "data = {'Age': [25, 30, 35, 40, 45],\n",
    "        'Income': [4000, 5000, 6000, 7000, 8000],\n",
    "        'Education': [12, 16, 18, 20, 22]}\n",
    "df = pd.DataFrame(data)\n",
    "\n",
    "# calculate the covariance matrix\n",
    "covariance_matrix = np.cov(df.T)\n",
    "\n",
    "print(covariance_matrix)"
   ]
  },
  {
   "cell_type": "markdown",
   "id": "b57fadae-0dca-481e-ac33-4323b66ea804",
   "metadata": {},
   "source": [
    "### Q6. You are working on a machine learning project with a dataset containing several categorical variables, including \"Gender\" (Male/Female), \"Education Level\" (High School/Bachelor's/Master's/PhD), and \"Employment Status\" (Unemployed/Part-Time/Full-Time). Which encoding method would you use for each variable, and why?"
   ]
  },
  {
   "cell_type": "markdown",
   "id": "c392dd30-f6ff-4e1f-afa5-0f0cbccd32ff",
   "metadata": {},
   "source": [
    " For the \"Gender\" variable, I would use binary encoding, as there are only two possible values. For \"Education Level,\" I would use ordinal encoding, as there is a clear order to the categories. For \"Employment Status,\" I would use one-hot encoding, as there is no inherent order to the categories and they are not mutually exclusive."
   ]
  },
  {
   "cell_type": "markdown",
   "id": "62b71c1f-5350-4493-b76e-c63415c1cd02",
   "metadata": {},
   "source": [
    "### Q7. You are analyzing a dataset with two continuous variables, \"Temperature\" and \"Humidity\", and two  categorical variables, \"Weather Condition\" (Sunny/Cloudy/Rainy) and \"Wind Direction\" (North/South/East/West). Calculate the covariance between each pair of variables and interpret the results."
   ]
  },
  {
   "cell_type": "markdown",
   "id": "237e1b68-814f-4021-99fb-835e8db9cebc",
   "metadata": {},
   "source": [
    "The covariance between Temperature and Humidity can be calculated using the formula:\n",
    "\n",
    "cov(Temperature, Humidity) = E[(Temperature - E[Temperature])(Humidity - E[Humidity])]\n",
    "\n",
    "Interpreting the covariance depends on the scale of the variables. If the covariance is positive, it means that as Temperature increases, so does Humidity, on average. If the covariance is negative, it means that as Temperature increases, Humidity tends to decrease. A covariance of 0 means there is no linear relationship between the variables.\n",
    "\n",
    "The covariance between Weather Condition and Wind Direction, as categorical variables, cannot be calculated directly using the covariance formula. A better measure of association between categorical variables is the chi-squared test, which can be used to determine whether there is a statistically significant association between two categorical variables.\n"
   ]
  },
  {
   "cell_type": "code",
   "execution_count": null,
   "id": "9904eefa-a492-4250-9ee4-5651317efe0b",
   "metadata": {},
   "outputs": [],
   "source": []
  }
 ],
 "metadata": {
  "kernelspec": {
   "display_name": "Python 3 (ipykernel)",
   "language": "python",
   "name": "python3"
  },
  "language_info": {
   "codemirror_mode": {
    "name": "ipython",
    "version": 3
   },
   "file_extension": ".py",
   "mimetype": "text/x-python",
   "name": "python",
   "nbconvert_exporter": "python",
   "pygments_lexer": "ipython3",
   "version": "3.10.8"
  }
 },
 "nbformat": 4,
 "nbformat_minor": 5
}
