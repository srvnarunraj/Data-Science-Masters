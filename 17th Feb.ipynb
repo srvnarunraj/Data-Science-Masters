{
 "cells": [
  {
   "cell_type": "markdown",
   "id": "d16a413b-e295-4c44-b1d0-3453d8408f1a",
   "metadata": {},
   "source": [
    "# Q1. What is MongoDB? Explain non-relational databases in short. In which scenarios it is preferred to use MongoDB over SQL databases?"
   ]
  },
  {
   "cell_type": "markdown",
   "id": "e051e874-068f-4d78-aec0-9dfb153879b5",
   "metadata": {},
   "source": [
    ">* MongoDB is a  NoSQL document-oriented database that stores data in a Document Model, which allows for easier scalability, better performance, and easier management of data. \n",
    "\n",
    ">* MongoDB is designed to handle unstructured and semi-structured data and offers a dynamic schema, which means that it can store data without having to pre-define its structure.\n",
    "\n",
    ">* Non-relational databases, also known as NoSQL databases, are databases that store data in a non-tabular format, unlike relational databases that store data in tables with pre-defined relationships between them. NoSQL databases are designed to handle big data, unstructured data, and data that changes frequently.\n",
    "\n",
    ">* In general, NoSQL databases are used  when  data is unstructured, changed frequently, and needs to be scaled quickly. \n",
    "\n",
    ">* MongoDB is preferred over SQL databases in scenarios where the data is complex, unstructured, or semi-structured, and where scalability and flexibility are of utmost importance."
   ]
  },
  {
   "cell_type": "markdown",
   "id": "ed1a200a-d751-47b9-b69c-7fdb9fa3f2c3",
   "metadata": {},
   "source": [
    "# Q2. State and Explain the features of MongoDB."
   ]
  },
  {
   "cell_type": "markdown",
   "id": "eccb5727-ff0a-49a7-ae1c-223094b93fa0",
   "metadata": {},
   "source": [
    "* **Document-oriented:** MongoDB is a document-oriented database, it stores data in documents.\n",
    "\n",
    "* **Dynamic schema:** In MongoDB you can add or remove fields in the document without affecting other documents in the collection. This allows for greater flexibility and scalability.\n",
    "\n",
    "* **High availability:** MongoDB is designed to be highly available, with built-in replication and automatic failover. This ensures that your data is always accessible, even in the event of hardware or network failures.\n",
    "\n",
    "* **Scalability:** MongoDB is designed to scale horizontally, which means that you can add more servers to handle increasing amounts of data and traffic. This makes it easy to handle large amounts of data and high traffic loads.\n",
    "\n",
    "* **Rich query language:** MongoDB supports a rich query language that allows you to perform complex queries on your data, including ad-hoc queries, indexing, and aggregation.\n",
    "\n",
    "* **JSON/BSON format:** MongoDB uses JSON (JavaScript Object Notation) and BSON (Binary JSON) formats to represent data, which makes it easy to integrate with web applications and APIs."
   ]
  },
  {
   "cell_type": "markdown",
   "id": "566ead62-948d-4a28-8353-181a8f8ac08b",
   "metadata": {},
   "source": [
    "# Q3. Write a code to connect MongoDB to Python. Also, create a database and a collection in MongoDB."
   ]
  },
  {
   "cell_type": "code",
   "execution_count": 4,
   "id": "75d410f2-b0bd-42d2-858d-51b308479625",
   "metadata": {},
   "outputs": [
    {
     "ename": "ModuleNotFoundError",
     "evalue": "No module named 'pymongo'",
     "output_type": "error",
     "traceback": [
      "\u001b[0;31m---------------------------------------------------------------------------\u001b[0m",
      "\u001b[0;31mModuleNotFoundError\u001b[0m                       Traceback (most recent call last)",
      "Cell \u001b[0;32mIn[4], line 1\u001b[0m\n\u001b[0;32m----> 1\u001b[0m \u001b[38;5;28;01mimport\u001b[39;00m \u001b[38;5;21;01mpymongo\u001b[39;00m\n\u001b[1;32m      2\u001b[0m client \u001b[38;5;241m=\u001b[39m pymongo\u001b[38;5;241m.\u001b[39mMongoClient(\u001b[38;5;124m\"\u001b[39m\u001b[38;5;124mmongodb://localhost:27017/\u001b[39m\u001b[38;5;124m\"\u001b[39m)\n\u001b[1;32m      3\u001b[0m db \u001b[38;5;241m=\u001b[39m client[\u001b[38;5;124m\"\u001b[39m\u001b[38;5;124mmydatabase\u001b[39m\u001b[38;5;124m\"\u001b[39m]\n",
      "\u001b[0;31mModuleNotFoundError\u001b[0m: No module named 'pymongo'"
     ]
    }
   ],
   "source": [
    "import pymongo\n",
    "client = pymongo.MongoClient(\"mongodb://localhost:27017/\")\n",
    "db = client[\"mydatabase\"]\n",
    "col = db[\"customers\"]"
   ]
  },
  {
   "cell_type": "markdown",
   "id": "464dbb16-43e3-4234-8575-fe70de328302",
   "metadata": {},
   "source": [
    "# Q4. Using the database and the collection created in question number 3, write a code to insert one record, and insert many records. Use the find() and find_one() methods to print the inserted record."
   ]
  },
  {
   "cell_type": "code",
   "execution_count": null,
   "id": "877ce5b1-0a08-4df1-acf6-b34f601b1581",
   "metadata": {},
   "outputs": [],
   "source": [
    "import pymongo\n",
    "client = pymongo.MongoClient(\"mongodb://localhost:27017/\")\n",
    "db = client[\"mydatabase\"]\n",
    "mycol = db[\"customers\"]"
   ]
  },
  {
   "cell_type": "code",
   "execution_count": null,
   "id": "dc02fbf2-4961-47b8-ab70-6f87fe096ead",
   "metadata": {},
   "outputs": [],
   "source": [
    "mydict = { \"name\": \"Arun\", \"Score\": 98 }\n",
    "x = mycol.insert_one(mydict)"
   ]
  },
  {
   "cell_type": "code",
   "execution_count": null,
   "id": "2219ddf1-1d2b-400f-b0bb-abc098eead41",
   "metadata": {},
   "outputs": [],
   "source": [
    "mylist = [\n",
    "  { \"name\": \"Amy\", \"address\": \"Apple st 652\" },\n",
    "  { \"name\": \"Hannah\", \"address\": \"Mountain 21\" },\n",
    "  { \"name\": \"Michael\", \"address\": \"Valley 345\" },\n",
    "  { \"name\": \"Sandy\", \"address\": \"Ocean blvd 2\" },\n",
    "  { \"name\": \"Betty\", \"address\": \"Green Grass 1\" },\n",
    "  { \"name\": \"Richard\", \"address\": \"Sky st 331\" },\n",
    "  { \"name\": \"Susan\", \"address\": \"One way 98\" },\n",
    "  { \"name\": \"Vicky\", \"address\": \"Yellow Garden 2\" },\n",
    "  { \"name\": \"Ben\", \"address\": \"Park Lane 38\" },\n",
    "  { \"name\": \"William\", \"address\": \"Central st 954\" },\n",
    "  { \"name\": \"Chuck\", \"address\": \"Main Road 989\" },\n",
    "  { \"name\": \"Viola\", \"address\": \"Sideway 1633\" }\n",
    "]\n",
    "\n",
    "x = mycol.insert_many(mylist)"
   ]
  },
  {
   "cell_type": "code",
   "execution_count": null,
   "id": "4da9db17-ce21-4da0-b2e0-d1d285e2a73b",
   "metadata": {},
   "outputs": [],
   "source": [
    "print(mycol.find_one())"
   ]
  },
  {
   "cell_type": "markdown",
   "id": "e139e44e-7a8a-4396-96d9-4c53430ed129",
   "metadata": {},
   "source": [
    "# Q5. Explain how you can use the find() method to query the MongoDB database. Write a simple code to demonstrate this."
   ]
  },
  {
   "cell_type": "code",
   "execution_count": null,
   "id": "b7e33fb9-d61e-4b81-982d-43f0023e23ed",
   "metadata": {},
   "outputs": [],
   "source": [
    "import pymongo\n",
    "client = pymongo.MongoClient(\"mongodb://localhost:27017/\")\n",
    "db = client[\"mydatabase\"]\n",
    "col = db[\"customers\"]\n",
    "mydict = { \"name\": \"Arun\", \"Score\": 98 }\n",
    "x = col.insert_one(mydict)\n",
    "results = col.find()\n",
    "for document in results:\n",
    "    print(document)"
   ]
  },
  {
   "cell_type": "markdown",
   "id": "cb7aa517-cc00-49f3-a43c-eb8dc936ffb9",
   "metadata": {},
   "source": [
    "# Q6. Explain the sort() method. Give an example to demonstrate sorting in MongoDB."
   ]
  },
  {
   "cell_type": "code",
   "execution_count": null,
   "id": "f03d090b-9948-4aa9-bac3-df0500fc249f",
   "metadata": {},
   "outputs": [],
   "source": [
    "import pymongo\n",
    "client = pymongo.MongoClient(\"mongodb://localhost:27017/\")\n",
    "db = client[\"mydatabase\"]\n",
    "col = db[\"customers\"]\n",
    "mydict = [\n",
    "    { \"name\": \"Arun\", \"Score\": 98 },\n",
    "    { \"name\": \"Arun\", \"Score\": 48 },\n",
    "    { \"name\": \"Arun\", \"Score\": 58 },\n",
    "    { \"name\": \"Arun\", \"Score\": 68 },\n",
    "    { \"name\": \"Arun\", \"Score\": 78 },\n",
    "    { \"name\": \"Arun\", \"Score\": 88 }\n",
    "]\n",
    "x = col.insert_many(mydict)\n",
    "results = col.find().sort('Score', 1)\n",
    "for document in results:\n",
    "    print(document)"
   ]
  },
  {
   "cell_type": "markdown",
   "id": "ca5a0b71-058d-4231-8cc6-f8f374751c78",
   "metadata": {},
   "source": [
    "# Q7. Explain why delete_one(), delete_many(), and drop() is used."
   ]
  },
  {
   "cell_type": "markdown",
   "id": "887860b5-72bf-484c-9454-8b1c97f3790c",
   "metadata": {},
   "source": [
    "* **delete_one() :** removes a single document that matches the specified criteria\n",
    "* **delete_many() :** removes all documents that match the criteria."
   ]
  },
  {
   "cell_type": "code",
   "execution_count": null,
   "id": "401505ad-f9b9-4bb4-ac2c-4eb1fcbc0d7a",
   "metadata": {},
   "outputs": [],
   "source": [
    "client = MongoClient('mongodb://localhost:27017/')\n",
    "\n",
    "db = client['mydatabase']\n",
    "collection = db['customers']\n",
    "\n",
    "result = collection.delete_one({'name': 'Arun'})"
   ]
  },
  {
   "cell_type": "markdown",
   "id": "42bfaf34-9c2e-477c-b85a-5abc562f31cd",
   "metadata": {},
   "source": [
    "* **drop() :** method is used to drop an entire collection from a database "
   ]
  },
  {
   "cell_type": "code",
   "execution_count": null,
   "id": "dcfb787f-5cd8-4fe4-890d-e6dc95e8ce91",
   "metadata": {},
   "outputs": [],
   "source": [
    "db = client['mydatabase']\n",
    "collection = db['customers']\n",
    "\n",
    "collection.drop()"
   ]
  }
 ],
 "metadata": {
  "kernelspec": {
   "display_name": "Python 3 (ipykernel)",
   "language": "python",
   "name": "python3"
  },
  "language_info": {
   "codemirror_mode": {
    "name": "ipython",
    "version": 3
   },
   "file_extension": ".py",
   "mimetype": "text/x-python",
   "name": "python",
   "nbconvert_exporter": "python",
   "pygments_lexer": "ipython3",
   "version": "3.10.8"
  }
 },
 "nbformat": 4,
 "nbformat_minor": 5
}
