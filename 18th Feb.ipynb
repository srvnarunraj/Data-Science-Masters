{
 "cells": [
  {
   "cell_type": "markdown",
   "id": "83629cfa-c60c-4a42-8990-e90d00126dff",
   "metadata": {},
   "source": [
    "# Q1. What is an API? Give an example, where an API is used in real life."
   ]
  },
  {
   "cell_type": "markdown",
   "id": "589d67b6-b0f9-4efe-9ea0-c7e3f8c3ee62",
   "metadata": {},
   "source": [
    ">* API stands for Application Programming Interface. It is a set of guidelines and protocols that developers use to interact with a software application. APIs allow different software applications to communicate with each other\n",
    "\n",
    ">* **Eg:** Api used by gpay for transactions in bank"
   ]
  },
  {
   "cell_type": "markdown",
   "id": "a004a880-3a1a-4077-a1e1-05d0fab76876",
   "metadata": {},
   "source": [
    "# Q2. Give advantages and disadvantages of using API."
   ]
  },
  {
   "cell_type": "markdown",
   "id": "619c8870-d05e-44ac-9f65-a94431d0797e",
   "metadata": {},
   "source": [
    ">Advantages of using API include:\n",
    "\t>*Enabling different applications to interact with each other\n",
    "\t>* Simplifying the development process by allowing developers to use pre-built functionality\n",
    "\t>* Reducing development time and cost\n",
    "\t>* Enhancing scalability and flexibility by enabling third-party integrations\n",
    "    \n",
    "    \n",
    ">Disadvantages of using API include :\n",
    "\t>* Exposing sensitive data and functionality to third parties, which can increase the risk of security breaches\n",
    "\t>* Making it difficult to maintain compatibility and consistency across different versions of the API\n",
    "\t>* Requiring proper documentation and support to ensure proper use of the API"
   ]
  },
  {
   "cell_type": "markdown",
   "id": "4a14e5eb-dc72-4bc9-b013-a3bcbb88000d",
   "metadata": {},
   "source": [
    "# Q3. What is a Web API? Differentiate between API and Web API."
   ]
  },
  {
   "cell_type": "markdown",
   "id": "62b6c23c-3956-4e9a-9590-121eb46ff2a4",
   "metadata": {},
   "source": [
    "* A web API is an API that is accessed over the internet via HTTP or HTTPS protocols.\n",
    "* It enables different applications to communicate with each other over the web. A web API can be RESTful, SOAP, or any other type of API.\n",
    "\n",
    "* The main difference between API and web API is that an API is a general term for a set of guidelines and protocols used for building software applications, while a web API is a specific type of API that is accessed over the internet."
   ]
  },
  {
   "cell_type": "markdown",
   "id": "ccc02375-a89c-4841-a7f0-c311288d5260",
   "metadata": {},
   "source": [
    "# Q4. Explain REST and SOAP Architecture. Mention shortcomings of SOAP."
   ]
  },
  {
   "cell_type": "markdown",
   "id": "e79a52a7-06f8-4901-9f06-3639d67d5e25",
   "metadata": {},
   "source": [
    "* **Rest API :** \n",
    "\t>* REST (Representational State Transfer) is a software architecture style that is used for building web services. \n",
    "    >* It is based on the HTTP protocol, and it uses standard HTTP methods such as GET, POST, PUT, and DELETE to perform operations on resources. \n",
    "    >* REST is known for its simplicity and scalability, and it is widely used for building web APIs."
   ]
  },
  {
   "cell_type": "markdown",
   "id": "7e0d5efb-4775-4117-a6b9-ba828f46be6c",
   "metadata": {},
   "source": [
    "* **SOAP (Simple Object Access Protocol) :** \n",
    "\t>* XML-based messaging protocol that is used for exchanging structured information between web services. \n",
    "    >* It uses standard XML schemas to define the structure of the messages and it supports advanced features such as transactions, security, and reliability.\n",
    "    >* SOAP is known for its complexity and overhead, and it is less commonly used for building web APIs compared to REST."
   ]
  },
  {
   "cell_type": "markdown",
   "id": "203bf6a1-6c9f-42cd-a604-9935450a6f43",
   "metadata": {},
   "source": [
    "# Q5. Differentiate between REST and SOAP."
   ]
  },
  {
   "cell_type": "markdown",
   "id": "6112ae99-a69b-4f5b-a660-9d556f93c50c",
   "metadata": {},
   "source": [
    "* REST and SOAP are both used for building web services, but there are some key differences between them, including:\n",
    "\n",
    ">* **Architecture:** REST is a simple, lightweight architecture style that is based on the HTTP protocol, while SOAP is a complex, heavyweight messaging protocol that uses XML for messaging.\n",
    "\n",
    ">* **Data Format:** REST uses standard data formats such as JSON or XML for data transmission, while SOAP uses XML exclusively.\n",
    "\n",
    ">* **Messaging Style:** REST uses standard HTTP methods such as GET, POST, PUT, and DELETE to perform operations on resources, while SOAP uses a message-based approach that requires an envelope, headers, and body for each message.\n",
    "\n",
    ">* **Performance:** REST is generally faster and more efficient than SOAP due to its lightweight architecture, while SOAP is slower and more complex due to its heavy messaging protocol.\n",
    "\n",
    "\n",
    "\n"
   ]
  },
  {
   "cell_type": "code",
   "execution_count": null,
   "id": "bfc48894-f9e0-495b-a6a2-b93907c28cd4",
   "metadata": {},
   "outputs": [],
   "source": []
  }
 ],
 "metadata": {
  "kernelspec": {
   "display_name": "Python 3 (ipykernel)",
   "language": "python",
   "name": "python3"
  },
  "language_info": {
   "codemirror_mode": {
    "name": "ipython",
    "version": 3
   },
   "file_extension": ".py",
   "mimetype": "text/x-python",
   "name": "python",
   "nbconvert_exporter": "python",
   "pygments_lexer": "ipython3",
   "version": "3.10.8"
  }
 },
 "nbformat": 4,
 "nbformat_minor": 5
}
