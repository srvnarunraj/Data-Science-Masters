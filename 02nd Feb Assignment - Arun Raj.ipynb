{
 "cells": [
  {
   "cell_type": "markdown",
   "id": "59576218-8e95-4947-a173-9587e74ea82a",
   "metadata": {},
   "source": [
    "## Q1. What are the characteristics of the tuples? Is tuple immutable?"
   ]
  },
  {
   "cell_type": "code",
   "execution_count": 2,
   "id": "90fab88b-59c7-459f-a283-733369027184",
   "metadata": {},
   "outputs": [
    {
     "name": "stdout",
     "output_type": "stream",
     "text": [
      " They are ordered and immutable\n",
      " They can contain elements of different data types, including other tuples. \n"
     ]
    }
   ],
   "source": [
    "print(\" They are ordered and immutable\")\n",
    "print(\" They can contain elements of different data types, including other tuples. \")"
   ]
  },
  {
   "cell_type": "markdown",
   "id": "9cf276b5-dd98-4bf0-ab40-43a18fc87f0f",
   "metadata": {},
   "source": [
    "## Q2. What are the two tuple methods in python? Give an example of each method. Give a reason why"
   ]
  },
  {
   "cell_type": "code",
   "execution_count": 11,
   "id": "e59ca361-b34f-4c2b-85a1-4c1aecb5b43c",
   "metadata": {},
   "outputs": [
    {
     "name": "stdout",
     "output_type": "stream",
     "text": [
      " count(): Returns the number of times a specific element appears in a tuple \n",
      " t.count(True) : 2\n",
      " index(): Returns the index of the first occurrence of a specific element in a tuple \n",
      " t.index(7) : 3\n"
     ]
    }
   ],
   "source": [
    "t= ('Arun',True,5,7,1,7,4)\n",
    "print(\" count(): Returns the number of times a specific element appears in a tuple \")\n",
    "print('\\r',f\"t.count(True) : {t.count(True)}\")  # Takes even 1 as a boolean\n",
    "print(\" index(): Returns the index of the first occurrence of a specific element in a tuple \")\n",
    "print('\\r',f\"t.index(7) : {t.index(7)}\")"
   ]
  },
  {
   "cell_type": "markdown",
   "id": "fd8ff562-2363-4587-93e1-40b334077d69",
   "metadata": {},
   "source": [
    "## Q3. Which collection datatypes in python do not allow duplicate items? Write a code using a set to remove duplicates from the given list.\n",
    "List = [1, 1, 1, 2, 1, 3, 1, 4, 2, 1, 2, 2, 2, 3, 2, 4, 3, 1, 3, 2, 3, 3, 3, 4, 4, 1, 4, 2, 4, 3, 4, 4]"
   ]
  },
  {
   "cell_type": "code",
   "execution_count": 12,
   "id": "4b713877-a627-4f4d-aa0a-08c3548cebdf",
   "metadata": {},
   "outputs": [],
   "source": [
    "List = [1, 1, 1, 2, 1, 3, 1, 4, 2, 1, 2, 2, 2, 3, 2, 4, 3, 1, 3, 2, 3, 3, 3, 4, 4, 1, 4, 2, 4, 3, 4, 4]"
   ]
  },
  {
   "cell_type": "code",
   "execution_count": 18,
   "id": "4d221265-32e8-4bd5-ad25-afa7be8ba15a",
   "metadata": {},
   "outputs": [
    {
     "name": "stdout",
     "output_type": "stream",
     "text": [
      "[1, 2, 3, 4]\n"
     ]
    }
   ],
   "source": [
    "mylist = list(set(List))\n",
    "print(mylist)"
   ]
  },
  {
   "cell_type": "markdown",
   "id": "757df2a1-58e4-48a6-b028-6b150f108193",
   "metadata": {},
   "source": [
    "## Q4 . Explain the difference between the union() and update() methods for a set. Give an example of each method."
   ]
  },
  {
   "cell_type": "markdown",
   "id": "ac35a80e-1d77-40b3-a804-00f537e7d6ba",
   "metadata": {},
   "source": [
    "#### The difference between union and update is - union combines 2 sets and returns a new set while update  "
   ]
  },
  {
   "cell_type": "code",
   "execution_count": 24,
   "id": "ac2bc37d-e73e-41b9-8a3a-3f922de72775",
   "metadata": {},
   "outputs": [],
   "source": [
    "set1 = {1, 2, 3, 4}\n",
    "set2 = {4, 5, 6,7}"
   ]
  },
  {
   "cell_type": "markdown",
   "id": "f30c7754-b568-4e9e-95c5-6dc90a4091a9",
   "metadata": {},
   "source": [
    "#### Union - returns the union of sets as a new set"
   ]
  },
  {
   "cell_type": "code",
   "execution_count": 25,
   "id": "13d5a770-cac3-406f-99ee-dfe56c88b197",
   "metadata": {},
   "outputs": [
    {
     "name": "stdout",
     "output_type": "stream",
     "text": [
      "{1, 2, 3, 4, 5, 6, 7}\n"
     ]
    }
   ],
   "source": [
    "set3 = set1.union(set2)\n",
    "print(set3)"
   ]
  },
  {
   "cell_type": "markdown",
   "id": "f8b44ab9-1d0e-454f-8e0e-4b15a0a9a910",
   "metadata": {},
   "source": [
    "#### Update - Updates the other sets value with the existing set "
   ]
  },
  {
   "cell_type": "code",
   "execution_count": 27,
   "id": "3361e89a-9165-4a3c-9e86-2c57d1af25ce",
   "metadata": {},
   "outputs": [
    {
     "name": "stdout",
     "output_type": "stream",
     "text": [
      "{1, 2, 3, 4, 5, 6, 7}\n"
     ]
    }
   ],
   "source": [
    "set1.update(set2)\n",
    "print(set1)"
   ]
  },
  {
   "cell_type": "markdown",
   "id": "97bfef46-3a7d-4da0-a0ad-a3b15ced2be6",
   "metadata": {},
   "source": [
    "## Q5. What is a dictionary? Give an example. Also, state whether a dictionary is ordered or unordered."
   ]
  },
  {
   "cell_type": "code",
   "execution_count": 36,
   "id": "7e06186f-a4f1-4029-bf1f-7d12fe39ee2b",
   "metadata": {},
   "outputs": [
    {
     "name": "stdout",
     "output_type": "stream",
     "text": [
      "A dictionary in Python is a collection of key-value pairs, where key is unique and has a specific value\n"
     ]
    }
   ],
   "source": [
    "print(\"A dictionary in Python is a collection of key-value pairs, where key is unique and has a specific value\")"
   ]
  },
  {
   "cell_type": "code",
   "execution_count": 37,
   "id": "8d8b188f-ea92-4edf-a4eb-ad13cf5c0fe0",
   "metadata": {},
   "outputs": [
    {
     "name": "stdout",
     "output_type": "stream",
     "text": [
      "{'name': 'Arun Raj', 'age': 20, 'country': 'India'}\n"
     ]
    }
   ],
   "source": [
    "dict1 = {'name': 'Arun Raj', 'age': 20, 'country': 'India'}\n",
    "print(dict1)"
   ]
  },
  {
   "cell_type": "markdown",
   "id": "c9acf5ed-bf88-4d2a-8a55-a573d83c0870",
   "metadata": {},
   "source": [
    "## Q6. Can we create a nested dictionary? If so, please give an example by creating a simple one-level nested dictionary."
   ]
  },
  {
   "cell_type": "code",
   "execution_count": 44,
   "id": "4ba6e399-2e94-4e3b-b378-192abc394216",
   "metadata": {},
   "outputs": [
    {
     "name": "stdout",
     "output_type": "stream",
     "text": [
      " Yes we can create a nested Dictionary\n",
      "{'Name': 'Arun', 'Contact': {'city': 'Bangalore', 'state': 'KN'}}\n"
     ]
    }
   ],
   "source": [
    "print(' Yes we can create a nested Dictionary')\n",
    "nested_dictionary = {\n",
    "    'Name' : 'Arun',\n",
    "    'Contact' : {'city':'Bangalore','state':'KN'}\n",
    "}\n",
    "print(nested_dictionary)"
   ]
  },
  {
   "cell_type": "markdown",
   "id": "55cff5ed-cbb2-48d2-a9f3-c28308aabbe9",
   "metadata": {},
   "source": [
    "## Q7. Using setdefault() method, create key named topics in the given dictionary and also add the value of the key as this list ['Python', 'Machine Learning’, 'Deep Learning']\n",
    "dict1 = {'language' : 'Python', 'course': 'Data Science Masters'}"
   ]
  },
  {
   "cell_type": "code",
   "execution_count": 47,
   "id": "2e79d6db-1ce1-4537-abd3-d362f50bcf47",
   "metadata": {},
   "outputs": [
    {
     "name": "stdout",
     "output_type": "stream",
     "text": [
      "{'language': 'Python', 'course': 'Data Science Masters', 'topics': ['Python', 'Machine Learning', 'Deep Learning']}\n"
     ]
    }
   ],
   "source": [
    "dict1 = {'language' : 'Python', 'course': 'Data Science Masters'}\n",
    "dict1.setdefault('topics', ['Python', 'Machine Learning', 'Deep Learning'])\n",
    "print(dict1)"
   ]
  },
  {
   "cell_type": "markdown",
   "id": "0bb4390c-1145-47df-b4e4-8c498f2d844b",
   "metadata": {},
   "source": [
    "## Q8 . What are the three view objects in dictionaries? Use the three in-built methods in python to display these three view objects for the given dictionary.\n",
    "dict1 = {'Sport': 'Cricket' , 'Teams': ['India', 'Australia', 'England', 'South Africa', 'Sri Lanka', 'New Zealand']}"
   ]
  },
  {
   "cell_type": "code",
   "execution_count": 50,
   "id": "58b410a5-bb62-4e25-9602-eeb19d779387",
   "metadata": {},
   "outputs": [
    {
     "name": "stdout",
     "output_type": "stream",
     "text": [
      "dict_keys(['language', 'course', 'topics'])\n",
      "dict_values(['Python', 'Data Science Masters', ['Python', 'Machine Learning', 'Deep Learning']])\n",
      "dict_items([('language', 'Python'), ('course', 'Data Science Masters'), ('topics', ['Python', 'Machine Learning', 'Deep Learning'])])\n"
     ]
    }
   ],
   "source": [
    "print(dict1.keys())\n",
    "print(dict1.values())\n",
    "print(dict1.items())"
   ]
  }
 ],
 "metadata": {
  "kernelspec": {
   "display_name": "Python 3 (ipykernel)",
   "language": "python",
   "name": "python3"
  },
  "language_info": {
   "codemirror_mode": {
    "name": "ipython",
    "version": 3
   },
   "file_extension": ".py",
   "mimetype": "text/x-python",
   "name": "python",
   "nbconvert_exporter": "python",
   "pygments_lexer": "ipython3",
   "version": "3.10.8"
  }
 },
 "nbformat": 4,
 "nbformat_minor": 5
}
