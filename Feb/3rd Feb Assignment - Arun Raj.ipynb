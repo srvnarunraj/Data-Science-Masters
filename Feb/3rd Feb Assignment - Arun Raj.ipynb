{
 "cells": [
  {
   "cell_type": "markdown",
   "id": "ceaf7c75-e7cd-4156-89b2-2276f3a7fa17",
   "metadata": {},
   "source": [
    "## Q1. Which keyword is used to create a function? Create a function to return a list of odd numbers in the range of 1 to 25."
   ]
  },
  {
   "cell_type": "code",
   "execution_count": 16,
   "id": "0f0b1c58-c016-447e-8c96-9641b8a7892a",
   "metadata": {},
   "outputs": [
    {
     "name": "stdout",
     "output_type": "stream",
     "text": [
      "[1, 3, 5, 7, 9, 11, 13, 15, 17, 19, 21, 23, 25]\n"
     ]
    }
   ],
   "source": [
    "# def is the keyword used to create function\n",
    "def odd():\n",
    "    mylist = []\n",
    "    for i in range(1, 26):\n",
    "        if i % 2 != 0:\n",
    "            mylist.append(i)\n",
    "    return mylist\n",
    "\n",
    "print(odd())"
   ]
  },
  {
   "cell_type": "markdown",
   "id": "b9cb3e1b-6292-421e-9dc8-1f5d418387dd",
   "metadata": {},
   "source": [
    "## Q2. Why *args and **kwargs is used in some functions? Create a function each for *args and **kwargs to demonstrate their use."
   ]
  },
  {
   "cell_type": "code",
   "execution_count": 17,
   "id": "b2da3957-2dff-4dac-92e5-4aa6d0a6d4e8",
   "metadata": {},
   "outputs": [],
   "source": [
    "#  *args is used to pass multiple arguments in to the function   **kwargs is used to send multiple arguments into the function "
   ]
  },
  {
   "cell_type": "code",
   "execution_count": 18,
   "id": "09cf57ca-5571-4922-9d90-711a40454297",
   "metadata": {},
   "outputs": [
    {
     "name": "stdout",
     "output_type": "stream",
     "text": [
      "12345"
     ]
    }
   ],
   "source": [
    "# *args\n",
    "def a(*args):\n",
    "    for i in args:\n",
    "        print(i,end=\"\")\n",
    "\n",
    "a(1, 2, 3, 4, 5)"
   ]
  },
  {
   "cell_type": "code",
   "execution_count": 19,
   "id": "e5111146-cc7e-4505-bba7-0bdecba4326c",
   "metadata": {},
   "outputs": [
    {
     "name": "stdout",
     "output_type": "stream",
     "text": [
      "{'a': 25, 'b': 45, 'c': 55}\n"
     ]
    }
   ],
   "source": [
    "# **kwargs\n",
    "def b(**mydict):\n",
    "    print(mydict)\n",
    "    \n",
    "b(a=25,b=45,c=55)"
   ]
  },
  {
   "cell_type": "markdown",
   "id": "089dbe5d-7486-46f0-8b50-622d26dfd9af",
   "metadata": {},
   "source": [
    "## Q3. What is an iterator in python? Name the method used to initialise the iterator object and the method used for iteration. Use these methods to print the first five elements of the given list [2, 4, 6, 8, 10, 12, 14, 16,18, 20]."
   ]
  },
  {
   "cell_type": "code",
   "execution_count": 20,
   "id": "41925c68-6265-46e0-b995-92c31ffbdd34",
   "metadata": {},
   "outputs": [],
   "source": [
    "# The iter() method is used to initialize the iterator object and the next() method is used for iteration"
   ]
  },
  {
   "cell_type": "code",
   "execution_count": 21,
   "id": "b14f5c97-9301-4f6e-90ef-fb529f164424",
   "metadata": {},
   "outputs": [
    {
     "name": "stdout",
     "output_type": "stream",
     "text": [
      "246810"
     ]
    }
   ],
   "source": [
    "n = [2, 4, 6, 8, 10, 12, 14, 16, 18, 20]\n",
    "obj = iter(n)\n",
    "for i in range(5):\n",
    "    print(next(obj),end=\"\")"
   ]
  },
  {
   "cell_type": "markdown",
   "id": "4376ce4a-b4bd-4ca1-b7ae-424a53227092",
   "metadata": {},
   "source": [
    "## Q4. What is a generator function in python? Why yield keyword is used? Give an example of a generator function."
   ]
  },
  {
   "cell_type": "code",
   "execution_count": 32,
   "id": "1b71a9c1-5707-4770-ae76-604fb66620b0",
   "metadata": {},
   "outputs": [
    {
     "name": "stdout",
     "output_type": "stream",
     "text": [
      "\n"
     ]
    }
   ],
   "source": [
    "'''\n",
    "The yield keyword in generator functions allows us to generate values on the fly and iterate over them without \n",
    "need to  create an explicit  data structure to store the entire sequence.\n",
    "'''\n",
    "print('')"
   ]
  },
  {
   "cell_type": "code",
   "execution_count": 33,
   "id": "28db7b00-d184-4bb1-a01b-379fc1f02221",
   "metadata": {},
   "outputs": [
    {
     "name": "stdout",
     "output_type": "stream",
     "text": [
      "1\n",
      "2\n",
      "3\n",
      "4\n"
     ]
    }
   ],
   "source": [
    "def a():\n",
    "    for i in range(1,5):\n",
    "        yield i\n",
    "a()\n",
    "for i in a():\n",
    "    print(i)"
   ]
  },
  {
   "cell_type": "markdown",
   "id": "8cfa7194-7eb5-444c-9985-a4eb88a2d79f",
   "metadata": {},
   "source": [
    "## Q5. Create a generator function for prime numbers less than 1000. Use the next() method to print the first 20 prime numbers."
   ]
  },
  {
   "cell_type": "code",
   "execution_count": 45,
   "id": "46d9c866-887a-4d12-bc89-fb5d610b3927",
   "metadata": {},
   "outputs": [
    {
     "name": "stdout",
     "output_type": "stream",
     "text": [
      "2 3 5 7 11 13 17 19 23 29 31 37 41 43 47 53 59 61 67 71 73 79 83 89 97 101 103 107 109 113 127 131 137 139 149 151 157 163 167 173 179 181 191 193 197 199 211 223 227 229 233 239 241 251 257 263 269 271 277 281 283 293 307 311 313 317 331 337 347 349 353 359 367 373 379 383 389 397 401 409 419 421 431 433 439 443 449 457 461 463 467 479 487 491 499 503 509 521 523 541 547 557 563 569 571 577 587 593 599 601 607 613 617 619 631 641 643 647 653 659 661 673 677 683 691 701 709 719 727 733 739 743 751 757 761 769 773 787 797 809 811 821 823 827 829 839 853 857 859 863 877 881 883 887 907 911 919 929 937 941 947 953 967 971 977 983 991 997 "
     ]
    }
   ],
   "source": [
    "def primes():\n",
    "    for num in range(2, 1000):\n",
    "        for i in range(2, num):\n",
    "            if (num % i) == 0:\n",
    "                break\n",
    "        else:\n",
    "            yield num\n",
    "\n",
    "for i in primes():\n",
    "    print(i,end=\" \")\n"
   ]
  },
  {
   "cell_type": "code",
   "execution_count": null,
   "id": "f3e9efe8-4fb4-4af9-b5da-7c09ed4fd7d1",
   "metadata": {},
   "outputs": [],
   "source": []
  }
 ],
 "metadata": {
  "kernelspec": {
   "display_name": "Python 3 (ipykernel)",
   "language": "python",
   "name": "python3"
  },
  "language_info": {
   "codemirror_mode": {
    "name": "ipython",
    "version": 3
   },
   "file_extension": ".py",
   "mimetype": "text/x-python",
   "name": "python",
   "nbconvert_exporter": "python",
   "pygments_lexer": "ipython3",
   "version": "3.10.8"
  }
 },
 "nbformat": 4,
 "nbformat_minor": 5
}
