{
 "cells": [
  {
   "cell_type": "markdown",
   "id": "bc70b29d-1408-4e8d-8e56-12edfb0fdd8a",
   "metadata": {},
   "source": [
    "# Q1. What is a database? Differentiate between SQL and NoSQL databases."
   ]
  },
  {
   "cell_type": "markdown",
   "id": "7133d753-65a8-4a60-b827-a6c0d129211e",
   "metadata": {},
   "source": [
    ">* A database is an organized collection of data stored in a computer system. It is used to store, retrieve, and manage data efficiently. There are two types of databases: SQL (Structured Query Language) and NoSQL (Not only SQL).\n",
    "\n",
    ">* SQL databases are relational databases that use tables to store data, and they use SQL to communicate with the database. \n",
    "\t* **Eg:** MySQL, Oracle\n",
    ">* NoSQL databases are non-relational and do not use tables to store data. They are more flexible and can store large amounts of unstructured or semi-structured data. \n",
    "\t* **Eg:**  MongoDB,Cassandra"
   ]
  },
  {
   "cell_type": "markdown",
   "id": "d21efc02-2f39-4371-945d-7b3de1ec326d",
   "metadata": {},
   "source": [
    "# Q2. What is DDL? Explain why CREATE, DROP, ALTER, and TRUNCATE are used with an example."
   ]
  },
  {
   "cell_type": "markdown",
   "id": "cdcbadf5-8031-4d47-a20c-03ea60487ba1",
   "metadata": {},
   "source": [
    "* DDL (Data Definition Language) is a set of SQL commands used to create, modify, and delete database objects such as tables, indexes, and views.\n",
    "\n",
    ">* CREATE is used to create a new database object. For example,"
   ]
  },
  {
   "cell_type": "markdown",
   "id": "419c0848-602a-4a29-be50-a24574046acb",
   "metadata": {},
   "source": [
    "CREATE TABLE students (\n",
    "  id INT PRIMARY KEY,\n",
    "  name VARCHAR(50),\n",
    "  age INT\n",
    ");"
   ]
  },
  {
   "cell_type": "markdown",
   "id": "39fe2866-abe8-430a-85b5-da3b0020f5cd",
   "metadata": {},
   "source": [
    ">* Drop is used to delete a table "
   ]
  },
  {
   "cell_type": "markdown",
   "id": "32998fd4-e73d-4920-9c6a-a93a4db9bb10",
   "metadata": {},
   "source": [
    "DROP TABLE students;"
   ]
  },
  {
   "cell_type": "markdown",
   "id": "0e237b35-621b-452c-adf6-c51750ab1d44",
   "metadata": {},
   "source": [
    ">* ALTER is used to modify the structure of a database object. "
   ]
  },
  {
   "cell_type": "markdown",
   "id": "5c29f1a5-5ac8-4d08-82dc-8314b5518523",
   "metadata": {},
   "source": [
    "ALTER TABLE students ADD COLUMN address VARCHAR(100);"
   ]
  },
  {
   "cell_type": "markdown",
   "id": "eafc6c6b-5ed1-453b-a14d-2888b53edc43",
   "metadata": {},
   "source": [
    ">* TRUNCATE is used to remove all the data from a table"
   ]
  },
  {
   "cell_type": "markdown",
   "id": "ef88111f-07b9-49c4-90cc-fe084be03c9d",
   "metadata": {},
   "source": [
    "TRUNCATE TABLE students;"
   ]
  },
  {
   "cell_type": "markdown",
   "id": "75e4a9d3-752a-45ee-a8fb-64357f91fea0",
   "metadata": {},
   "source": [
    "# Q3. What is DML? Explain INSERT, UPDATE, and DELETE with an example."
   ]
  },
  {
   "cell_type": "markdown",
   "id": "499e9f6a-311f-426c-aa13-baa529570efa",
   "metadata": {},
   "source": [
    "* DML (Data Manipulation Language) is a set of SQL commands used to manipulate data within a database.\n",
    "\n",
    ">* INSERT is used to add new data to a table."
   ]
  },
  {
   "cell_type": "markdown",
   "id": "9ad5f812-cca8-478e-9395-9030f5ce0380",
   "metadata": {},
   "source": [
    "INSERT INTO students (id, name, age) VALUES (1, 'Arun', 20);"
   ]
  },
  {
   "cell_type": "markdown",
   "id": "dc1f9ea4-cfe5-4c1f-8f59-6d4accc13a9c",
   "metadata": {},
   "source": [
    ">* UPDATE is used to modify existing data in a table"
   ]
  },
  {
   "cell_type": "markdown",
   "id": "7a355c05-29b4-4f96-a5dc-61fb38316fb7",
   "metadata": {},
   "source": [
    "UPDATE students SET age = 21 WHERE id = 1;"
   ]
  },
  {
   "cell_type": "markdown",
   "id": "d0f2fd5e-1161-4bd1-9fae-6d97c91ffa08",
   "metadata": {},
   "source": [
    ">* DELETE is used to remove data from a table."
   ]
  },
  {
   "cell_type": "markdown",
   "id": "19f4c7d7-63e2-40a1-a81b-98af1a293d77",
   "metadata": {},
   "source": [
    "DELETE is used to remove data from a table."
   ]
  },
  {
   "cell_type": "markdown",
   "id": "b1ef35fc-229a-4fee-b5ea-e50180e5b7e1",
   "metadata": {},
   "source": [
    "# Q4. What is DQL? Explain SELECT with an example."
   ]
  },
  {
   "cell_type": "markdown",
   "id": "7b742097-bb74-41f4-949c-47bcf4dd2c48",
   "metadata": {},
   "source": [
    "* DQL (Data Query Language) is a set of SQL commands used to query data from a database"
   ]
  },
  {
   "cell_type": "markdown",
   "id": "38a2ae63-9bb6-4653-97aa-441c728b60fd",
   "metadata": {},
   "source": [
    ">* SELECT is used to retrieve data from a table. "
   ]
  },
  {
   "cell_type": "markdown",
   "id": "cc7b38c3-dffa-41ec-ac00-ff712ba10fd8",
   "metadata": {},
   "source": [
    "SELECT * FROM students;"
   ]
  },
  {
   "cell_type": "markdown",
   "id": "b211e87c-4a8f-4c1a-a3ee-ea4d05542c19",
   "metadata": {},
   "source": [
    "# Q5. Explain Primary Key and Foreign Key."
   ]
  },
  {
   "cell_type": "markdown",
   "id": "44bc125a-540e-4b0b-9d66-23e02706b8d6",
   "metadata": {},
   "source": [
    "* **Primary Key :** A primary key is a column or a set of columns in a table that uniquely identifies each row in the table. A primary key cannot contain null values, and its values must be unique across all rows in the table"
   ]
  },
  {
   "cell_type": "markdown",
   "id": "374a3242-b3a6-4a7a-af35-ab00cc240a0b",
   "metadata": {},
   "source": [
    "* **Eg** : For example, in the students table, the ID column can be used as the primary key. Each student has a unique ID, and the ID column cannot contain null values"
   ]
  },
  {
   "cell_type": "markdown",
   "id": "da3c36c9-6d62-4c73-9b4a-a6f330aabb51",
   "metadata": {},
   "source": [
    "* **Foreign key :** A foreign key is a column or a set of columns in a table that refers to the primary key of another table. A foreign key is used to establish relationships between tables, "
   ]
  },
  {
   "cell_type": "markdown",
   "id": "59efeeb0-fe00-4f02-86e0-cb6291ea2ab2",
   "metadata": {},
   "source": [
    "* **Eg :** grades table that has a foreign key column that references the ID column in the students table. This allows the grades table to associate each grade with a specific student. "
   ]
  },
  {
   "cell_type": "markdown",
   "id": "d2b85ed7-5336-4cc4-8683-ecd8aa9fb20a",
   "metadata": {},
   "source": [
    "# Q6. Write a python code to connect MySQL to python. Explain the cursor() and execute() method."
   ]
  },
  {
   "cell_type": "markdown",
   "id": "0f4646d4-1233-4caf-bc44-54c11420d55b",
   "metadata": {},
   "source": [
    "import mysql.connector\n",
    "\n",
    "mydb = mysql.connector.connect(\n",
    "  host=\"localhost\",\n",
    "  user=\"yourusername\",\n",
    "  password=\"yourpassword\",\n",
    "  database=\"mydatabase\"\n",
    ")\n",
    "\n",
    "mycursor = mydb.cursor()\n",
    "\n",
    "mycursor.execute(\"SELECT * FROM customers\")\n",
    "\n",
    "for x in mycursor:\n",
    "  print(x)\n"
   ]
  },
  {
   "cell_type": "markdown",
   "id": "5278f302-f52a-4ac0-b0e5-45ae5df533ed",
   "metadata": {},
   "source": [
    "# Q7. Give the order of execution of SQL clauses in an SQL query."
   ]
  },
  {
   "cell_type": "markdown",
   "id": "d174bb42-f15f-4362-bc81-ed67edc7e740",
   "metadata": {},
   "source": [
    "* The order of execution of SQL clauses in a SQL query is as follows:\n",
    "\n",
    "1. FROM: specifies the table or tables to query\n",
    "2. WHERE: filters the data based on a specific condition\n",
    "3. GROUP BY: groups the data based on one or more columns\n",
    "4. HAVING: filters the groups based on a specific condition\n",
    "5. SELECT: selects the columns to retrieve\n",
    "6. DISTINCT: removes duplicate rows from the result set\n",
    "7. ORDER BY: sorts the result set based on one or more columns\n",
    "8. LIMIT: limits the number of rows returned by the query"
   ]
  },
  {
   "cell_type": "code",
   "execution_count": null,
   "id": "1aa88b54-3b68-41ef-840e-8c70307caf80",
   "metadata": {},
   "outputs": [],
   "source": []
  }
 ],
 "metadata": {
  "kernelspec": {
   "display_name": "Python 3 (ipykernel)",
   "language": "python",
   "name": "python3"
  },
  "language_info": {
   "codemirror_mode": {
    "name": "ipython",
    "version": 3
   },
   "file_extension": ".py",
   "mimetype": "text/x-python",
   "name": "python",
   "nbconvert_exporter": "python",
   "pygments_lexer": "ipython3",
   "version": "3.10.8"
  }
 },
 "nbformat": 4,
 "nbformat_minor": 5
}
