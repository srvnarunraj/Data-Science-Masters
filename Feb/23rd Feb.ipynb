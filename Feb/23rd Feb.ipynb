{
 "cells": [
  {
   "cell_type": "markdown",
   "id": "492fd587-1abc-4eb3-82c8-7a4d189fee3c",
   "metadata": {},
   "source": [
    "# Q1. Create a Pandas Series that contains the following data: 4, 8, 15, 16, 23, and 42. Then, print the series."
   ]
  },
  {
   "cell_type": "code",
   "execution_count": 1,
   "id": "1959765d-4277-401f-9268-2b94252328e1",
   "metadata": {},
   "outputs": [
    {
     "name": "stdout",
     "output_type": "stream",
     "text": [
      "0     4\n",
      "1     8\n",
      "2    15\n",
      "3    16\n",
      "4    23\n",
      "5    42\n",
      "dtype: int64\n"
     ]
    }
   ],
   "source": [
    "import pandas as pd\n",
    "\n",
    "data = [4, 8, 15, 16, 23, 42]\n",
    "series = pd.Series(data)\n",
    "print(series)"
   ]
  },
  {
   "cell_type": "markdown",
   "id": "af3bec1a-c34e-4fd3-87f9-ebee815efd2e",
   "metadata": {},
   "source": [
    "\n",
    "# Q2. Create a variable of list type containing 10 elements in it, and apply pandas.Series function on the variable print it."
   ]
  },
  {
   "cell_type": "code",
   "execution_count": 2,
   "id": "be8eb919-3162-4bfb-b081-d474356960c3",
   "metadata": {},
   "outputs": [
    {
     "name": "stdout",
     "output_type": "stream",
     "text": [
      "0    1\n",
      "1    2\n",
      "2    3\n",
      "3    4\n",
      "4    5\n",
      "5    6\n",
      "6    7\n",
      "7    8\n",
      "8    9\n",
      "dtype: int64\n"
     ]
    }
   ],
   "source": [
    "mylist = [i for i in range(1,10)]\n",
    "myseries = pd.Series(mylist)\n",
    "print(myseries)\n"
   ]
  },
  {
   "attachments": {
    "51ed81cf-06ed-46fb-83a4-deddb1a46d75.png": {
     "image/png": "[encoded data removed]"
    }
   },
   "cell_type": "markdown",
   "id": "6c335b61-8fa8-4bed-a746-9abd658367c5",
   "metadata": {},
   "source": [
    "\n",
    "# Q3. Create a Pandas DataFrame that contains the following data:\n",
    "![image.png](attachment:51ed81cf-06ed-46fb-83a4-deddb1a46d75.png)\n",
    "# Then, print the DataFrame."
   ]
  },
  {
   "cell_type": "code",
   "execution_count": 3,
   "id": "e7db7a35-f70a-45aa-9f8a-ab7fae4117b6",
   "metadata": {},
   "outputs": [
    {
     "name": "stdout",
     "output_type": "stream",
     "text": [
      "     Name  Age  Gender\n",
      "0   Alice   25  female\n",
      "1     Bob   30    Male\n",
      "2  Claire   27  Female\n"
     ]
    }
   ],
   "source": [
    "import pandas as pd\n",
    "\n",
    "data = {'Name': ['Alice', 'Bob', 'Claire'],\n",
    "        'Age': [25, 30, 27],\n",
    "        'Gender': ['female', 'Male', 'Female']}\n",
    "\n",
    "df = pd.DataFrame(data)\n",
    "print(df)"
   ]
  },
  {
   "cell_type": "markdown",
   "id": "bd90f8ee-9af7-4acf-86e6-fff58bcf47c6",
   "metadata": {},
   "source": [
    "\n",
    "# Q4. What is ‘DataFrame’ in pandas and how is it different from pandas.series? Explain with an example."
   ]
  },
  {
   "cell_type": "markdown",
   "id": "51419e77-1956-4bc0-b816-8c9ec798ab77",
   "metadata": {},
   "source": [
    "> **Series :**\n",
    "\t- Series, is a one-dimensional labeled array that can hold any data type.\n",
    "    \n",
    "> **DataFrame :**\n",
    "\t- DataFrame is a two-dimensional labeled data structure in Pandas, consisting of rows and columns\n",
    "    - DataFrame is a collection of multiple Series objects, where each Series represents a column of the DataFrame"
   ]
  },
  {
   "cell_type": "markdown",
   "id": "a66c1be8-41fe-4398-ae42-4e84341ce59c",
   "metadata": {},
   "source": [
    "\n",
    "# Q5. What are some common functions you can use to manipulate data in a Pandas DataFrame? Can you give an example of when you might use one of these functions?\n"
   ]
  },
  {
   "cell_type": "markdown",
   "id": "0cfb14a9-0672-4a7a-896c-e0230a5aca47",
   "metadata": {},
   "source": [
    "* ***head()*** and ***tail()*** to show the first or last rows of the DataFrame, respectively.\n",
    "* ***describe()*** to get descriptive statistics of the DataFrame.\n",
    "* ***sort_values()*** to sort the DataFrame by a specific column.\n",
    "* ***groupby()*** to group the DataFrame by a specific column and apply an aggregation function.\n",
    "* ***merge()*** to merge multiple DataFrames based on common columns."
   ]
  },
  {
   "cell_type": "code",
   "execution_count": 4,
   "id": "0b21f767-2f6e-434d-a0c7-f0961f3bec38",
   "metadata": {},
   "outputs": [
    {
     "name": "stdout",
     "output_type": "stream",
     "text": [
      "gender\n",
      "F    90.0\n",
      "M    84.5\n",
      "Name: score, dtype: float64\n"
     ]
    }
   ],
   "source": [
    "import pandas as pd\n",
    "\n",
    "data = {'name': ['Alice', 'Bob', 'Charlie', 'David', 'Eva', 'Frank'],\n",
    "        'age': [25, 32, 18, 47, 28, 35],\n",
    "        'gender': ['F', 'M', 'M', 'M', 'F', 'M'],\n",
    "        'score': [85, 92, 78, 80, 95, 88]}\n",
    "\n",
    "df = pd.DataFrame(data)\n",
    "grouped = df.groupby('gender')['score'].mean()\n",
    "print(grouped)"
   ]
  },
  {
   "cell_type": "markdown",
   "id": "3eba2a5c-94e2-4d9c-a451-8aa0224071cd",
   "metadata": {},
   "source": [
    "# Q6. Which of the following is mutable in nature Series, DataFrame, Panel?"
   ]
  },
  {
   "cell_type": "markdown",
   "id": "0fbbacba-72d5-4326-add8-bdc753314fbc",
   "metadata": {},
   "source": [
    "### Series Mutability"
   ]
  },
  {
   "cell_type": "code",
   "execution_count": 5,
   "id": "89ca46f9-a768-4376-ab87-6c8f462881d7",
   "metadata": {},
   "outputs": [
    {
     "name": "stdout",
     "output_type": "stream",
     "text": [
      "0     1\n",
      "1     2\n",
      "2    10\n",
      "3     4\n",
      "dtype: int64\n"
     ]
    }
   ],
   "source": [
    "\n",
    "import pandas as pd\n",
    "s = pd.Series([1, 2, 3, 4])\n",
    "s[2] = 10\n",
    "print(s)\n"
   ]
  },
  {
   "cell_type": "markdown",
   "id": "8a62c2fa-d726-41c9-ae35-0a25bc9ebd57",
   "metadata": {},
   "source": [
    "## DataFrame Mutability"
   ]
  },
  {
   "cell_type": "code",
   "execution_count": 6,
   "id": "8351c209-abc6-4d79-953a-6014836402e8",
   "metadata": {},
   "outputs": [
    {
     "name": "stdout",
     "output_type": "stream",
     "text": [
      "      name  age gender\n",
      "0    Alice   25      F\n",
      "1      Bob   35      M\n",
      "2  Charlie   18      M\n"
     ]
    }
   ],
   "source": [
    "import pandas as pd\n",
    "df = pd.DataFrame({'name': ['Alice', 'Bob', 'Charlie'],\n",
    "                   'age': [25, 32, 18],\n",
    "                   'gender': ['F', 'M', 'M']})\n",
    "df.loc[1, 'age'] = 35\n",
    "print(df)"
   ]
  },
  {
   "cell_type": "markdown",
   "id": "40d6cead-4ef4-4a8f-8560-19af8fa8b301",
   "metadata": {},
   "source": [
    "\n",
    "# Q7. Create a DataFrame using multiple Series. Explain with an example."
   ]
  },
  {
   "cell_type": "code",
   "execution_count": 7,
   "id": "948c6191-55c2-4686-9943-c0c961651f40",
   "metadata": {},
   "outputs": [
    {
     "name": "stdout",
     "output_type": "stream",
     "text": [
      "      name  age gender\n",
      "0    Alice   25      F\n",
      "1      Bob   32      M\n",
      "2  Charlie   18      M\n",
      "3    David   47      M\n"
     ]
    }
   ],
   "source": [
    "import pandas as pd\n",
    "\n",
    "names = pd.Series(['Alice', 'Bob', 'Charlie', 'David'])\n",
    "ages = pd.Series([25, 32, 18, 47])\n",
    "genders = pd.Series(['F', 'M', 'M', 'M'])\n",
    "\n",
    "df = pd.DataFrame({'name': names, 'age': ages, 'gender': genders})\n",
    "print(df)"
   ]
  },
  {
   "cell_type": "code",
   "execution_count": null,
   "id": "e9121cdf-0c1f-44f2-8686-4fc3b056b4e5",
   "metadata": {},
   "outputs": [],
   "source": []
  }
 ],
 "metadata": {
  "kernelspec": {
   "display_name": "Python 3 (ipykernel)",
   "language": "python",
   "name": "python3"
  },
  "language_info": {
   "codemirror_mode": {
    "name": "ipython",
    "version": 3
   },
   "file_extension": ".py",
   "mimetype": "text/x-python",
   "name": "python",
   "nbconvert_exporter": "python",
   "pygments_lexer": "ipython3",
   "version": "3.10.8"
  }
 },
 "nbformat": 4,
 "nbformat_minor": 5
}
