{
 "cells": [
  {
   "cell_type": "markdown",
   "id": "978a0e79-7649-4474-a60b-afcf68fb856e",
   "metadata": {},
   "source": [
    "## Q1. Create a function which will take a list as an argument and return the product of all the numbers after creating a flat list.\n",
    "Use the below-given list as an argument for your function.\n",
    "list1 = [1,2,3,4, [44,55,66, True], False, (34,56,78,89,34), {1,2,3,3,2,1}, {1:34, \"key2\": [55, 67, 78, 89], 4: (45,\n",
    "22, 61, 34)}, [56, 'data science'], 'Machine Learning']\n",
    "Note: you must extract numeric keys and values of the dictionary also.\n"
   ]
  },
  {
   "cell_type": "code",
   "execution_count": 60,
   "id": "155a8318-d18d-4731-9d67-a030e6cd65a8",
   "metadata": {},
   "outputs": [],
   "source": [
    "q = [1,2,3,4, [44,55,66, True], False, (34,56,78,89,34), {1,2,3,3,2,1}, {1:34, \"key2\": [55, 67, 78, 89], 4: (45, 22, 61, 34)}, [56, 'data science'], 'Machine Learning']"
   ]
  },
  {
   "cell_type": "code",
   "execution_count": 71,
   "id": "290f7dcd-6d3f-415f-be2c-46248bf2f92a",
   "metadata": {},
   "outputs": [
    {
     "name": "stdout",
     "output_type": "stream",
     "text": [
      "Product of all the numbers in the list is: 0\n"
     ]
    }
   ],
   "source": [
    "from  functools import reduce\n",
    " \n",
    "def product(lst):\n",
    "    res = []\n",
    "    for i in lst:\n",
    "        if isinstance(i, (int, float)):\n",
    "            res.append(i)\n",
    "        elif isinstance(i, list) or isinstance(i, tuple):\n",
    "            for j in i:\n",
    "                if isinstance(j, (int, float)):\n",
    "                    res.append(j)\n",
    "        elif isinstance(i, dict):\n",
    "            for key, value in i.items():\n",
    "                if isinstance(key, (int, float)) and key not in res:\n",
    "                    res.append(key)\n",
    "                if isinstance(value, (int, float)) and value not in res:\n",
    "                    res.append(value)\n",
    "    return reduce(lambda x,y : x*y,res)\n",
    "\n",
    "print(\"Product of all the numbers in the list is:\", product(q))\n"
   ]
  },
  {
   "cell_type": "markdown",
   "id": "4a354d9d-a2bd-4dc5-beaa-849dfea63065",
   "metadata": {},
   "source": [
    "## Q2. Write a python program for encrypting a message sent to you by your friend. \n",
    "The logic of encryption  should be such that, for a the output should be z. For b, the output should be y. For c, the output should be x respectively. Also, the whitespace should be replaced with a dollar sign. Keep the punctuation marks unchanged.\n",
    "Input Sentence: I want to become a Data Scientist.\n",
    "Encrypt the above input sentence using the program you just created.\n",
    "Note: Convert the given input sentence into lowercase before encrypting. The final output should be\n",
    "lowercase."
   ]
  },
  {
   "cell_type": "code",
   "execution_count": 15,
   "id": "86fbdc6a-7b50-4434-a32d-ac0ce29f6a90",
   "metadata": {},
   "outputs": [
    {
     "name": "stdout",
     "output_type": "stream",
     "text": [
      "Encrypted Message: r$dzmg$gl$yvxlnv$z$wzgz$hxrvmgrhg.\n"
     ]
    }
   ],
   "source": [
    "def encrypted(message):\n",
    "    secret_key = {'a': 'z', 'b': 'y', 'c': 'x', 'd': 'w', 'e': 'v', 'f': 'u', 'g': 't', 'h': 's', 'i': 'r', 'j': 'q', 'k': 'p', 'l': 'o', 'm': 'n', 'n': 'm', 'o': 'l', 'p': 'k', 'q': 'j', 'r': 'i', 's': 'h', 't': 'g', 'u': 'f', 'v': 'e', 'w': 'd', 'x': 'c', 'y': 'b', 'z': 'a', ' ': '$'}\n",
    "    secret_msg = \"\"\n",
    "    for i in message.lower():\n",
    "        if i in secret_key:\n",
    "            secret_msg += secret_key[i]\n",
    "        else:\n",
    "            secret_msg += i\n",
    "    return secret_msg\n",
    "\n",
    "msg = \"I want to become a Data Scientist.\"\n",
    "print(\"Encrypted Message:\", encrypted(msg))\n"
   ]
  },
  {
   "cell_type": "code",
   "execution_count": null,
   "id": "10adcda8-3b74-476b-9140-126c23488c61",
   "metadata": {},
   "outputs": [],
   "source": []
  }
 ],
 "metadata": {
  "kernelspec": {
   "display_name": "Python 3 (ipykernel)",
   "language": "python",
   "name": "python3"
  },
  "language_info": {
   "codemirror_mode": {
    "name": "ipython",
    "version": 3
   },
   "file_extension": ".py",
   "mimetype": "text/x-python",
   "name": "python",
   "nbconvert_exporter": "python",
   "pygments_lexer": "ipython3",
   "version": "3.10.8"
  }
 },
 "nbformat": 4,
 "nbformat_minor": 5
}
