{
 "cells": [
  {
   "cell_type": "markdown",
   "id": "09899b6c-4bab-4040-a6dd-df9233f3cbee",
   "metadata": {},
   "source": [
    "# Q1. What is multiprocessing in python? Why is it useful?"
   ]
  },
  {
   "cell_type": "markdown",
   "id": "5ee2e7dc-9d92-47d5-8f88-c96ffa5db922",
   "metadata": {},
   "source": [
    "> MultiProcessing : \n",
    ">* Multiprocessing  allows the execution of multiple processes at the same time, each running on a separate core.\n",
    ">* multiprocessing in Python is used for parallel processin\n",
    ">* It can be used for a variety of tasks such as parallelizing CPU-bound and I/O-bound tasks, improving performance by reducing execution time, and handling multiple tasks simultaneously."
   ]
  },
  {
   "cell_type": "markdown",
   "id": "8eaae435-7145-47b6-a2c5-41773c7e3f12",
   "metadata": {},
   "source": [
    "\n",
    "# Q2. What are the differences between multiprocessing and multithreading?"
   ]
  },
  {
   "cell_type": "markdown",
   "id": "38e99220-82d8-4afb-a528-5847a297388e",
   "metadata": {},
   "source": [
    "> Multiprocessing and multithreading are used for parallelism in Python. The main differences between them are as follows:\n",
    "\n",
    ">* **Execution Model:** \n",
    "\t- In multiprocessing, each process has its own memory space and runs independently.\n",
    "\t- In multithreading, all threads share the same memory space and execute concurrently.\n",
    "\n",
    ">* **CPU Utilization:** \n",
    "\t- Multiprocessing can utilize multiple CPU cores for parallel execution.\n",
    "\t- Multithreading runs on a single core and time-slices between threads.\n",
    "\n",
    ">* **Overhead:** \n",
    "\t- Multiprocessing has higher overhead because of interprocess communication and data serialization.\n",
    "\t- Multithreading has lower overhead because threads share the same memory space.\n",
    "\n",
    ">* **Stability:** \n",
    "\t- Multiprocessing is more stable because if one process crashes, it does not affect the others.\n",
    "\t- In multithreading, if one thread crashes, it can affect the entire process.\n"
   ]
  },
  {
   "cell_type": "markdown",
   "id": "3f11a47b-4f3f-4bcf-ab9b-ef4e06b7d2f1",
   "metadata": {},
   "source": [
    "\n",
    "# Q3. Write a python code to create a process using the multiprocessing module."
   ]
  },
  {
   "cell_type": "code",
   "execution_count": 3,
   "id": "c1bf787f-1321-41ce-91c4-d2961c8bae7a",
   "metadata": {},
   "outputs": [
    {
     "name": "stdout",
     "output_type": "stream",
     "text": [
      "1324\n",
      "\n",
      "\n",
      "\n"
     ]
    }
   ],
   "source": [
    "import multiprocessing\n",
    "\n",
    "def test(n):\n",
    "    print(n)\n",
    "\n",
    "if __name__ == '__main__':\n",
    "    with multiprocessing.Pool(processes=4) as pool:\n",
    "        pool.map(test, [1, 2, 3, 4])"
   ]
  },
  {
   "cell_type": "markdown",
   "id": "75fc0bc2-280b-4fd7-9e29-e49da5bb5c07",
   "metadata": {},
   "source": [
    "# Q4. What is a multiprocessing pool in python? Why is it used?"
   ]
  },
  {
   "cell_type": "markdown",
   "id": "7e8b4111-f4a0-4bb4-a811-6b66b59716a5",
   "metadata": {},
   "source": [
    ">* A multiprocessing pool is a collection of worker processes in Python that can be used to parallelize the execution of a function across multiple inputs. \n",
    ">* It provides a convenient way to **distribute a workload across multiple CPUs or cores**, making it useful for executing CPU-bound or I/O-bound tasks in parallel.\n"
   ]
  },
  {
   "cell_type": "markdown",
   "id": "20c12906-81e0-4e8d-82ae-3b022f8a5598",
   "metadata": {},
   "source": [
    "# Q5. How can we create a pool of worker processes in python using the multiprocessing module?"
   ]
  },
  {
   "cell_type": "code",
   "execution_count": 4,
   "id": "76b71575-06cf-44c9-840d-3e838a8211c3",
   "metadata": {},
   "outputs": [
    {
     "name": "stdout",
     "output_type": "stream",
     "text": [
      "[1, 4, 9, 16, 25]\n"
     ]
    }
   ],
   "source": [
    "import multiprocessing\n",
    "\n",
    "def test(x):\n",
    "    return x**2\n",
    "\n",
    "if __name__ == '__main__':\n",
    "    with multiprocessing.Pool(processes=4) as pool:\n",
    "        results = pool.map(test, [1, 2, 3, 4, 5])\n",
    "    print(results)\n"
   ]
  },
  {
   "cell_type": "markdown",
   "id": "1a5d0f10-d296-41d4-a0c5-f4e16e7a0c1d",
   "metadata": {},
   "source": [
    "\n",
    "# Q6. Write a python program to create 4 processes, each process should print a different number using the multiprocessing module in python."
   ]
  },
  {
   "cell_type": "code",
   "execution_count": 25,
   "id": "c6087f2a-ec98-4d05-a429-abaf40b2a44c",
   "metadata": {},
   "outputs": [
    {
     "name": "stdout",
     "output_type": "stream",
     "text": [
      "1\n",
      "2\n",
      "3\n",
      "4\n"
     ]
    }
   ],
   "source": [
    "import multiprocessing\n",
    "\n",
    "if __name__ == '__main__':\n",
    "    nums = [1, 2, 3, 4]\n",
    "    processes = []\n",
    "\n",
    "    for i in nums:\n",
    "        p = multiprocessing.Process(target=print_number, args=(i,))\n",
    "        processes.append(p)\n",
    "    for p in processes:\n",
    "        p.start()\t\n",
    "        p.join()\n"
   ]
  },
  {
   "cell_type": "code",
   "execution_count": null,
   "id": "48672f42-2464-4754-9ee8-bfadc0e5fb6e",
   "metadata": {},
   "outputs": [],
   "source": []
  },
  {
   "cell_type": "code",
   "execution_count": null,
   "id": "4d6b26b3-925b-49e9-878e-88a2d9b44134",
   "metadata": {},
   "outputs": [],
   "source": []
  }
 ],
 "metadata": {
  "kernelspec": {
   "display_name": "Python 3 (ipykernel)",
   "language": "python",
   "name": "python3"
  },
  "language_info": {
   "codemirror_mode": {
    "name": "ipython",
    "version": 3
   },
   "file_extension": ".py",
   "mimetype": "text/x-python",
   "name": "python",
   "nbconvert_exporter": "python",
   "pygments_lexer": "ipython3",
   "version": "3.10.8"
  }
 },
 "nbformat": 4,
 "nbformat_minor": 5
}
