{
 "cells": [
  {
   "cell_type": "markdown",
   "id": "111229e4-37a1-40ba-8f22-9d5dc2019953",
   "metadata": {},
   "source": [
    "## Q1. What is Web Scraping? Why is it Used? Give three areas where Web Scraping is used to get data."
   ]
  },
  {
   "cell_type": "markdown",
   "id": "44763e5c-8be0-4ecf-a5af-8df42db47e27",
   "metadata": {},
   "source": [
    "**Web scraping is the process of extracting data from websites by automatically crawling web pages and collecting information  in a structured format**\n",
    "* **Business intelligence:** Web scraping can be used to gather data on competitors, market trends, pricing, and customer behavior, providing businesses with valuable insights for informed decision-making.\n",
    "\n",
    "* **Research and analysis:** Researchers can use web scraping to collect data for various purposes, such as sentiment analysis, trend analysis, or tracking the spread of disease outbreaks.\n",
    "\n",
    "* **Content aggregation:** Web scraping can be used to gather content from multiple websites, such as news articles, blogs, or social media posts, and aggregate them in one place."
   ]
  },
  {
   "cell_type": "markdown",
   "id": "b02c2365-7a0f-4def-8971-c5edefdce280",
   "metadata": {},
   "source": [
    "\n",
    "## Q2. What are the different methods used for Web Scraping?"
   ]
  },
  {
   "cell_type": "markdown",
   "id": "7ba5d395-44e4-4830-8605-02b4fa1f9217",
   "metadata": {},
   "source": [
    "1. **Requests:** This Python library is used for making HTTP requests to web pages and retrieving the HTML content. It is often used in combination with other libraries like BeautifulSoup for web scraping.\n",
    "\n",
    "2. **BeautifulSoup:** This Python library is used for parsing HTML and XML documents and extracting data from them. It provides a simple and easy-to-use interface for web scraping tasks.\n",
    "\n",
    "3. **Urllib:** This Python library is used for making HTTP requests to web pages and retrieving the HTML content, similar to the Requests library. However, it is built into Python and does not require installation."
   ]
  },
  {
   "cell_type": "markdown",
   "id": "ba3aff9e-b988-46d6-b3e1-59bb2b9c5997",
   "metadata": {},
   "source": [
    "\n",
    "## Q3. What is Beautiful Soup? Why is it used?"
   ]
  },
  {
   "cell_type": "markdown",
   "id": "3530380a-ea94-4674-a51e-5a81504d1c35",
   "metadata": {},
   "source": [
    "* Beautiful Soup is a Python library that is used for web scraping purposes. It is designed to parse HTML and XML documents and extract data from them\n",
    "* It allows users to navigate through HTML and XML documents and extract specific data based on tags, attributes, and other elements. \n",
    "* Beautiful Soup also handles poorly formatted HTML, which can be a challenge for other web scraping methods."
   ]
  },
  {
   "cell_type": "markdown",
   "id": "5f582d67-5b1b-4d14-85e7-ba4c58b661c5",
   "metadata": {},
   "source": [
    "\n",
    "## Q4. Why is flask used in this Web Scraping project?"
   ]
  },
  {
   "cell_type": "markdown",
   "id": "a1142946-40f4-4c6c-866f-4fd81cea66a6",
   "metadata": {},
   "source": [
    "* Flask is used to create a RESTful API that exposes the scraped data to the client. Flask is used because it is lightweight and easy to set up"
   ]
  },
  {
   "cell_type": "markdown",
   "id": "f92258f9-102c-4cbf-9317-0671e281a982",
   "metadata": {},
   "source": [
    "\n",
    "## Q5. Write the names of AWS services used in this project. Also, explain the use of each service."
   ]
  },
  {
   "cell_type": "markdown",
   "id": "96ce82ef-3529-4e20-86f8-e31c7786ce84",
   "metadata": {},
   "source": [
    "1. CodePipeline\n",
    "2. Elastic BeanStalk"
   ]
  },
  {
   "cell_type": "code",
   "execution_count": null,
   "id": "2c2223b9-95ec-4144-b5f7-4ca6363d0bdb",
   "metadata": {},
   "outputs": [],
   "source": []
  }
 ],
 "metadata": {
  "kernelspec": {
   "display_name": "Python 3 (ipykernel)",
   "language": "python",
   "name": "python3"
  },
  "language_info": {
   "codemirror_mode": {
    "name": "ipython",
    "version": 3
   },
   "file_extension": ".py",
   "mimetype": "text/x-python",
   "name": "python",
   "nbconvert_exporter": "python",
   "pygments_lexer": "ipython3",
   "version": "3.10.8"
  }
 },
 "nbformat": 4,
 "nbformat_minor": 5
}
