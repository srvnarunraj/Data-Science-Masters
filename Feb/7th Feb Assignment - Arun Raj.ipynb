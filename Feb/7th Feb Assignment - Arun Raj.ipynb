{
 "cells": [
  {
   "cell_type": "markdown",
   "id": "2fde7a77-3e69-4128-ba7d-c4e3778d3d33",
   "metadata": {},
   "source": [
    "## Q1. You are writing code for a company. The requirement of the company is that you create a python function that will check whether the password entered by the user is correct or not. \n",
    "The function should take the password as input and return the string “Valid Password” if the entered password follows the\n",
    "below-given password guidelines else it should return “Invalid Password”.\n",
    "Note: \n",
    "1. The Password should contain at least two uppercase letters and at least two lowercase letters.\n",
    "2. The Password should contain at least a number and three special characters.\n",
    "3. The length of the password should be 10 characters long."
   ]
  },
  {
   "cell_type": "code",
   "execution_count": 7,
   "id": "01f0dbfd-cb3a-4dba-937e-ff40dbc48d6b",
   "metadata": {},
   "outputs": [],
   "source": [
    "def check_password(password):\n",
    "    uppercase_count = 0\n",
    "    lowercase_count = 0\n",
    "    digit_count = 0\n",
    "    special_count = 0\n",
    "    special_characters = \"!@#$%^&*\"\n",
    "    \n",
    "    if len(password) != 10:\n",
    "        return \"Invalid Password\"\n",
    "    \n",
    "    for char in password:\n",
    "        if char.isupper():\n",
    "            uppercase_count += 1\n",
    "        elif char.islower():\n",
    "            lowercase_count += 1\n",
    "        elif char.isdigit():\n",
    "            digit_count += 1\n",
    "        elif char in special_characters:\n",
    "            special_count += 1\n",
    "    \n",
    "    if uppercase_count >= 2 and lowercase_count >= 2 and digit_count >= 1 and special_count >= 3:\n",
    "        return \"Valid Password\"\n",
    "    else:\n",
    "        return \"Invalid Password\""
   ]
  },
  {
   "cell_type": "code",
   "execution_count": 8,
   "id": "e3503b5c-9156-497e-b462-3efe65b2caf4",
   "metadata": {},
   "outputs": [
    {
     "name": "stdin",
     "output_type": "stream",
     "text": [
      "Enter the password :  ARun@#!189\n"
     ]
    },
    {
     "data": {
      "text/plain": [
       "'Valid Password'"
      ]
     },
     "execution_count": 8,
     "metadata": {},
     "output_type": "execute_result"
    }
   ],
   "source": [
    "x = input('Enter the password : ')\n",
    "check_password(x)"
   ]
  },
  {
   "cell_type": "markdown",
   "id": "c35d2d22-2a63-42ee-851e-7d5d4212728b",
   "metadata": {},
   "source": [
    "## Q2. Solve the below-given questions using at least one of the following:\n",
    "1. Lambda function\n",
    "2. Filter function\n",
    "3. Zap function\n",
    "4. List Comprehension\n",
    ">* Check if the string starts with a particular letter\n",
    ">* Check if the string is numeric\n",
    ">* Sort a list of tuples having fruit names and their quantity. [(\"mango\",99),(\"orange\",80), (\"grapes\", 1000)-\n",
    ">* Find the squares of numbers from 1 to 10\n",
    ">* Find the cube root of numbers from 1 to 10\n",
    ">* Check if a given number is even\n",
    ">* Filter odd numbers from the given list.\n",
    "[1,2,3,4,5,6,7,8,9,10-\n",
    ">* Sort a list of integers into positive and negative integers lists.\n",
    "[1,2,3,4,5,6,-1,-2,-3,-4,-5,0]"
   ]
  },
  {
   "cell_type": "markdown",
   "id": "12ea3eb8-a373-469a-bb0d-cd4e5ed2cbae",
   "metadata": {},
   "source": [
    "#### Check if the string starts with a particular letter"
   ]
  },
  {
   "cell_type": "code",
   "execution_count": 10,
   "id": "12d610bb-a30d-4e3b-b0a7-2e402e0c067e",
   "metadata": {},
   "outputs": [
    {
     "name": "stdout",
     "output_type": "stream",
     "text": [
      "['apple']\n"
     ]
    }
   ],
   "source": [
    "text = [\"apple\", \"banana\", \"cherry\", \"date\", \"elderberry\"]\n",
    "result = filter(lambda i: i.startswith(\"a\"), text)\n",
    "print(list(result))"
   ]
  },
  {
   "cell_type": "markdown",
   "id": "e49cbf4b-c731-495c-b136-608f4c585957",
   "metadata": {},
   "source": [
    "####  Check if the string is numeric"
   ]
  },
  {
   "cell_type": "code",
   "execution_count": 27,
   "id": "a26dd368-f518-4e2c-ae27-89e608e73a3e",
   "metadata": {},
   "outputs": [
    {
     "name": "stdout",
     "output_type": "stream",
     "text": [
      "['123', '456', '789']\n"
     ]
    }
   ],
   "source": [
    "text = [\"123\", \"456\", \"abc\", \"def\", \"789\"]\n",
    "num = filter(lambda i: i.isdigit(), text)\n",
    "print(list(num))"
   ]
  },
  {
   "cell_type": "markdown",
   "id": "61930063-96b9-4ec9-b346-552fcd7bd279",
   "metadata": {},
   "source": [
    "#### Sort a list of tuples having fruit names and their quantity"
   ]
  },
  {
   "cell_type": "code",
   "execution_count": 28,
   "id": "9f2b51d0-d024-4742-8e57-17eaf00e2828",
   "metadata": {},
   "outputs": [
    {
     "name": "stdout",
     "output_type": "stream",
     "text": [
      "[('orange', 80), ('mango', 99), ('grapes', 1000)]\n"
     ]
    }
   ],
   "source": [
    "fruits = [(\"mango\", 99), (\"orange\", 80), (\"grapes\", 1000)]\n",
    "sort_ed = sorted(fruits, key=lambda fruit: fruit[1])\n",
    "print(sort_ed)"
   ]
  },
  {
   "cell_type": "markdown",
   "id": "27f22257-090d-4612-96d8-51418a4af0ad",
   "metadata": {},
   "source": [
    "#### Find the squares of numbers from 1 to 10"
   ]
  },
  {
   "cell_type": "code",
   "execution_count": 29,
   "id": "6d64bbf8-182c-49a5-9db0-d5df4d1b4bc5",
   "metadata": {},
   "outputs": [
    {
     "name": "stdout",
     "output_type": "stream",
     "text": [
      "[1, 4, 9, 16, 25, 36, 49, 64, 81, 100]\n"
     ]
    }
   ],
   "source": [
    "res = [i*i for i in range(1, 11)]\n",
    "print(res)\n"
   ]
  },
  {
   "cell_type": "markdown",
   "id": "ea5843c2-69c3-4f0d-b8b8-7fd39404861a",
   "metadata": {},
   "source": [
    "#### Find the cube root of numbers from 1 to 10"
   ]
  },
  {
   "cell_type": "code",
   "execution_count": 35,
   "id": "6016dbec-2db2-40d0-bc93-7f5392608472",
   "metadata": {},
   "outputs": [
    {
     "name": "stdout",
     "output_type": "stream",
     "text": [
      "[1.0, 1.2599210498948732, 1.4422495703074083, 1.5874010519681994, 1.7099759466766968, 1.8171205928321397, 1.912931182772389, 2.0, 2.080083823051904, 2.154434690031884]\n"
     ]
    }
   ],
   "source": [
    "import math\n",
    "cubrt = [math.pow(i, 1/3) for i in range(1, 11)]\n",
    "print(cubrt)\n"
   ]
  },
  {
   "cell_type": "markdown",
   "id": "be45ba16-ca17-4584-b93e-00ccdcf1f6be",
   "metadata": {},
   "source": [
    "#### Check if a given number is even"
   ]
  },
  {
   "cell_type": "code",
   "execution_count": 37,
   "id": "7c282905-1a77-4c36-8ef2-ec02d2ff56f2",
   "metadata": {},
   "outputs": [
    {
     "name": "stdout",
     "output_type": "stream",
     "text": [
      "[2, 4, 6, 8, 10]\n"
     ]
    }
   ],
   "source": [
    "numbers = [1, 2, 3, 4, 5, 6, 7, 8, 9, 10]\n",
    "even = filter(lambda i: i % 2 == 0, numbers)\n",
    "print(list(even))"
   ]
  },
  {
   "cell_type": "markdown",
   "id": "e835ea2b-4a13-4a92-b610-8d8cebceab75",
   "metadata": {},
   "source": [
    "#### Filter odd numbers from the given list"
   ]
  },
  {
   "cell_type": "code",
   "execution_count": 38,
   "id": "58294079-8f22-4219-95de-6bf6748c1410",
   "metadata": {},
   "outputs": [
    {
     "name": "stdout",
     "output_type": "stream",
     "text": [
      "[1, 3, 5, 7, 9]\n"
     ]
    }
   ],
   "source": [
    "odd = filter(lambda i: i % 2 != 0, numbers)\n",
    "print(list(odd))"
   ]
  },
  {
   "cell_type": "markdown",
   "id": "b0e93afb-76c4-4bd7-9aba-bf3cb48b10ba",
   "metadata": {},
   "source": [
    "#### Sort a list of integers into positive and negative integers lists"
   ]
  },
  {
   "cell_type": "code",
   "execution_count": 39,
   "id": "5bf226f4-5f9b-4fd1-b337-87a888b5085f",
   "metadata": {},
   "outputs": [
    {
     "name": "stdout",
     "output_type": "stream",
     "text": [
      "Positive numbers: [1, 2, 3, 4, 5, 6]\n",
      "Negative numbers: [-1, -2, -3, -4, -5]\n"
     ]
    }
   ],
   "source": [
    "numbers = [1, 2, 3, 4, 5, 6, -1, -2, -3, -4, -5, 0]\n",
    "p_numbers = filter(lambda i : i > 0, numbers)\n",
    "n_numbers = filter(lambda i : i < 0, numbers)\n",
    "print(\"Positive numbers:\", list(p_numbers))\n",
    "print(\"Negative numbers:\", list(n_numbers))"
   ]
  },
  {
   "cell_type": "code",
   "execution_count": null,
   "id": "3a4c249a-f6e8-49eb-9eff-27d8e6766ad3",
   "metadata": {},
   "outputs": [],
   "source": []
  }
 ],
 "metadata": {
  "kernelspec": {
   "display_name": "Python 3 (ipykernel)",
   "language": "python",
   "name": "python3"
  },
  "language_info": {
   "codemirror_mode": {
    "name": "ipython",
    "version": 3
   },
   "file_extension": ".py",
   "mimetype": "text/x-python",
   "name": "python",
   "nbconvert_exporter": "python",
   "pygments_lexer": "ipython3",
   "version": "3.10.8"
  }
 },
 "nbformat": 4,
 "nbformat_minor": 5
}
