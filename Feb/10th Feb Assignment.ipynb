{
 "cells": [
  {
   "cell_type": "markdown",
   "id": "f6238100-2c1b-4656-b2b1-933564b28858",
   "metadata": {},
   "source": [
    "### Q1. The function used to open a file in Python is the \"open()\" function. The different modes of opening a file are:"
   ]
  },
  {
   "cell_type": "markdown",
   "id": "e21750e1-c927-4d74-bddb-d5bfb2b2077b",
   "metadata": {},
   "source": [
    "\"r\" (Read Only): It opens the file for reading only. \n",
    "\n",
    "\"w\" (Write Only): It opens the file for writing only. If the file exists, the data in the file is truncated\n",
    "\n",
    "\"a\" (Append Only): It opens the file for writing only. If the file exists, the data is appended to the end of the file\n",
    "\n",
    "\"x\" (Exclusive Creation): It opens the file for writing only. If the file exists, the operation fails. \n",
    "\n",
    "\"b\" (Binary): This mode is used when working with binary files such as images, audio or video files. "
   ]
  },
  {
   "cell_type": "markdown",
   "id": "9b697b39-ca97-4abf-9543-ce71daf7bf5c",
   "metadata": {},
   "source": [
    "### Q2.  Why close() function is used? Why is it important to close a file?"
   ]
  },
  {
   "cell_type": "markdown",
   "id": "49542edb-59f7-4074-a848-dc4fa0d5e48c",
   "metadata": {},
   "source": [
    "The \"close()\" function is used to close an open file. It is important to close a file because it frees up resources and prevents data loss. When a file is opened, the operating system allocates memory for the file. If the file is not closed, the operating system will continue to hold onto the memory, even if the file is no longer needed. This can lead to memory leaks and performance issues"
   ]
  },
  {
   "cell_type": "markdown",
   "id": "e7cd4668-7baf-4600-986f-a9a0f0c86651",
   "metadata": {},
   "source": [
    "### Q3. Write a python program to create a text file. Write ‘I want to become a Data Scientist’ in that file. Then"
   ]
  },
  {
   "cell_type": "code",
   "execution_count": 4,
   "id": "c9f8c66c-04be-493d-bcdf-475652592bda",
   "metadata": {},
   "outputs": [],
   "source": [
    "with open(\"text_file.txt\", \"w\") as file:\n",
    "    file.write(\"I want to become a Data Scientist\")\n"
   ]
  },
  {
   "cell_type": "code",
   "execution_count": 2,
   "id": "dd23076f-3c60-41f7-850f-2a9e5ed1edec",
   "metadata": {},
   "outputs": [
    {
     "name": "stdout",
     "output_type": "stream",
     "text": [
      "I want to become a Data Scientist\n"
     ]
    }
   ],
   "source": [
    "with open(\"text_file.txt\", \"r\") as file:\n",
    "    print(file.read())\n"
   ]
  },
  {
   "cell_type": "markdown",
   "id": "753db48d-1689-4634-8e83-8235538ec846",
   "metadata": {},
   "source": [
    "### Q4. Explain the following with python code: read(), readline() and readlines()."
   ]
  },
  {
   "cell_type": "markdown",
   "id": "3f27a77c-be92-4611-9ca6-7034f10eb1f7",
   "metadata": {},
   "source": [
    "###### \"read()\": It reads the entire file and returns a string containing the contents of the file."
   ]
  },
  {
   "cell_type": "code",
   "execution_count": 5,
   "id": "bf032e77-d2a4-41f2-b50b-bda667ffafaf",
   "metadata": {},
   "outputs": [
    {
     "name": "stdout",
     "output_type": "stream",
     "text": [
      "I want to become a Data Scientist\n"
     ]
    }
   ],
   "source": [
    "with open(\"text_file.txt\", \"r\") as file:\n",
    "    print(file.read())"
   ]
  },
  {
   "cell_type": "markdown",
   "id": "04957b47-a39a-4290-b66a-7206197ee8ac",
   "metadata": {},
   "source": [
    "###### \"readline()\": It reads the next line in the file and returns it as a string."
   ]
  },
  {
   "cell_type": "code",
   "execution_count": 6,
   "id": "97397ae6-48e5-4ed0-afdd-28986a028c4d",
   "metadata": {},
   "outputs": [
    {
     "name": "stdout",
     "output_type": "stream",
     "text": [
      "I want to become a Data Scientist\n"
     ]
    }
   ],
   "source": [
    "with open(\"text_file.txt\", \"r\") as file:\n",
    "    print(file.readline())"
   ]
  },
  {
   "cell_type": "markdown",
   "id": "0dbbf90c-126a-4a39-ad99-06be501bf65c",
   "metadata": {},
   "source": [
    "###### \"readlines()\": It reads all the lines in the file and returns a list of strings, where each string represents a line in the file."
   ]
  },
  {
   "cell_type": "code",
   "execution_count": 7,
   "id": "d67e6928-244f-4738-8860-96e2a65fc5fa",
   "metadata": {},
   "outputs": [
    {
     "name": "stdout",
     "output_type": "stream",
     "text": [
      "['I want to become a Data Scientist']\n"
     ]
    }
   ],
   "source": [
    "with open(\"text_file.txt\", \"r\") as file:\n",
    "    print(file.readlines())"
   ]
  },
  {
   "cell_type": "markdown",
   "id": "a3e3db89-2049-4f3e-b6fb-286fdb775506",
   "metadata": {},
   "source": [
    "### Q5. Explain why with statement is used with open(). What is the advantage of using with statement and open() together?"
   ]
  },
  {
   "cell_type": "markdown",
   "id": "ff7b617f-1709-4905-8ae2-5fa5ac6ea78b",
   "metadata": {},
   "source": [
    "The \"with\" statement is used with \"open()\" in order to automatically close the file after the indented block of code is executed. This ensures that the file is closed even if an exception is raised within the block of code. The advantage of using \"with\" and \"open()\" together is that it eliminates the need to manually close the file, reducing the risk of forgetting to close the file or of encountering an error while closing the file."
   ]
  },
  {
   "cell_type": "markdown",
   "id": "699f9c81-bde7-4388-8756-e3b41dd65d2e",
   "metadata": {},
   "source": [
    "### Q6. Explain the write() and writelines() functions. Give a suitable example."
   ]
  },
  {
   "cell_type": "markdown",
   "id": "9f17488f-6f4f-4459-a31f-d2b7b35ef90a",
   "metadata": {},
   "source": [
    "The write() function is used to write a string to a file. It takes a string as argument and returns the number of characters written to the file. Here is an example:"
   ]
  },
  {
   "cell_type": "code",
   "execution_count": 8,
   "id": "8befea06-34d6-411b-bb7f-d8455443da5d",
   "metadata": {},
   "outputs": [],
   "source": [
    "file = open(\"example.txt\", \"w\")\n",
    "text = \"I want to become a Data Scientist.\"\n",
    "file.write(text)\n",
    "file.close()"
   ]
  },
  {
   "cell_type": "markdown",
   "id": "4a2a1ae5-184c-4403-b5b2-14dbe677472a",
   "metadata": {},
   "source": [
    "The writelines() function is used to write a list of strings to a file. It takes a list of strings as argument and returns the number of characters written to the file. Here is an example:"
   ]
  },
  {
   "cell_type": "code",
   "execution_count": 9,
   "id": "c5f04077-c338-45be-a7bf-c308ded743ac",
   "metadata": {},
   "outputs": [],
   "source": [
    "file = open(\"example.txt\", \"w\")\n",
    "text = [\"I want to become a Data Scientist.\", \"Data Science is an exciting field.\"]\n",
    "file.writelines(text)\n",
    "file.close()"
   ]
  },
  {
   "cell_type": "code",
   "execution_count": null,
   "id": "234a7a3c-4013-4b63-8b29-1fa3a6e95ec0",
   "metadata": {},
   "outputs": [],
   "source": []
  }
 ],
 "metadata": {
  "kernelspec": {
   "display_name": "Python 3 (ipykernel)",
   "language": "python",
   "name": "python3"
  },
  "language_info": {
   "codemirror_mode": {
    "name": "ipython",
    "version": 3
   },
   "file_extension": ".py",
   "mimetype": "text/x-python",
   "name": "python",
   "nbconvert_exporter": "python",
   "pygments_lexer": "ipython3",
   "version": "3.10.8"
  }
 },
 "nbformat": 4,
 "nbformat_minor": 5
}
