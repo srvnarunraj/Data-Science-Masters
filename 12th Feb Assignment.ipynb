{
 "cells": [
  {
   "cell_type": "markdown",
   "id": "0293d8cf-96f0-49a5-89f5-2eaeadd67219",
   "metadata": {},
   "source": [
    "### Q1. What is an Exception in Python? Write the difference between Exceptions and Syntax errors"
   ]
  },
  {
   "cell_type": "markdown",
   "id": "a48285ff-64ab-4cca-8d22-abbddd657c2d",
   "metadata": {},
   "source": [
    ">* Exception : \n",
    "\tAn exception in Python is run time error that occur at execution of a program, and that stops the execution of the program. Exceptions can be raised for many different reasons, such as division by zero, trying to access a list element that doesn't exist, or a file not being found. "
   ]
  },
  {
   "cell_type": "markdown",
   "id": "1fe68939-7292-4898-9cc7-0e70cb5de132",
   "metadata": {},
   "source": [
    ">* Syntax errors :  \n",
    "\tSyntax errors are often caused by typos or missing punctuation, Or not following the programming language rules of coding "
   ]
  },
  {
   "cell_type": "markdown",
   "id": "c0ac6742-bb06-4025-af51-eb454e705120",
   "metadata": {},
   "source": [
    "### Q2. What happens when an exception is not handled? Explain with an example"
   ]
  },
  {
   "cell_type": "markdown",
   "id": "8e845944-7a2a-464b-8b9c-f0d6abac9463",
   "metadata": {},
   "source": [
    "* When an exception is not handled, the program will terminate and an error message will be displayed.\n",
    "and all the code below it will not be executed and stops"
   ]
  },
  {
   "cell_type": "code",
   "execution_count": 1,
   "id": "5bf156a6-b952-4d54-ad93-2d6f265975e2",
   "metadata": {},
   "outputs": [
    {
     "ename": "ZeroDivisionError",
     "evalue": "division by zero",
     "output_type": "error",
     "traceback": [
      "\u001b[0;31m---------------------------------------------------------------------------\u001b[0m",
      "\u001b[0;31mZeroDivisionError\u001b[0m                         Traceback (most recent call last)",
      "Cell \u001b[0;32mIn[1], line 3\u001b[0m\n\u001b[1;32m      1\u001b[0m a \u001b[38;5;241m=\u001b[39m \u001b[38;5;241m10\u001b[39m\n\u001b[1;32m      2\u001b[0m b \u001b[38;5;241m=\u001b[39m \u001b[38;5;241m0\u001b[39m\n\u001b[0;32m----> 3\u001b[0m \u001b[38;5;28mprint\u001b[39m(\u001b[43ma\u001b[49m\u001b[38;5;241;43m/\u001b[39;49m\u001b[43mb\u001b[49m)\n\u001b[1;32m      4\u001b[0m \u001b[38;5;28mprint\u001b[39m(\u001b[38;5;124m'\u001b[39m\u001b[38;5;124mHi Raj\u001b[39m\u001b[38;5;124m'\u001b[39m)\n",
      "\u001b[0;31mZeroDivisionError\u001b[0m: division by zero"
     ]
    }
   ],
   "source": [
    "a = 10\n",
    "b = 0\n",
    "print(a/b)\n",
    "print('Hi Raj')"
   ]
  },
  {
   "cell_type": "markdown",
   "id": "cea2563d-db16-491f-beeb-cdc5a117567e",
   "metadata": {},
   "source": [
    "Because of the error in 3rd line ,4th line didnt execute"
   ]
  },
  {
   "cell_type": "markdown",
   "id": "d2e44041-2b9c-4e96-b92a-aebad7d380bc",
   "metadata": {},
   "source": [
    "### Q3. Which Python statements are used to catch and handle exceptions? Explain with an example"
   ]
  },
  {
   "cell_type": "markdown",
   "id": "6db0a6b8-fcec-4c34-9723-a92512da8471",
   "metadata": {},
   "source": [
    "The try and except statements are used to catch and handle exceptions in Python. The try block contains the code that might raise an exception, and the except block contains the code that should be executed if an exception occurs. Here's an example:"
   ]
  },
  {
   "cell_type": "code",
   "execution_count": 2,
   "id": "aa096d05-5bb5-4a2b-bda0-0ddaee03cdaa",
   "metadata": {},
   "outputs": [
    {
     "name": "stdout",
     "output_type": "stream",
     "text": [
      "Cannot divide by zero\n"
     ]
    }
   ],
   "source": [
    "try:\n",
    "   a = 10\n",
    "   b = 0\n",
    "   c = a/b\n",
    "except Exception as e:\n",
    "   print(\"Cannot divide by zero\")\n"
   ]
  },
  {
   "cell_type": "markdown",
   "id": "ae251d08-cfcf-418b-8118-b4e9b670f548",
   "metadata": {},
   "source": [
    "### Q4. Explain with an example: \n",
    "\ta) try and except else\n",
    "    b) finally\n",
    "    c) raise"
   ]
  },
  {
   "cell_type": "markdown",
   "id": "4a864266-d68d-4d51-9b79-9555750c2643",
   "metadata": {},
   "source": [
    "a) try and except else : The else in a try-except statement can be used to specify a block of code that should be executed if no exceptions are raised in the try block. "
   ]
  },
  {
   "cell_type": "code",
   "execution_count": 3,
   "id": "da4750f8-c8e8-4d58-87bc-1c0d9e95365a",
   "metadata": {},
   "outputs": [
    {
     "name": "stdout",
     "output_type": "stream",
     "text": [
      "The result is 0.5\n"
     ]
    }
   ],
   "source": [
    "try:\n",
    "   a = 10\n",
    "   b = 20\n",
    "   c = a/b\n",
    "except ZeroDivisionError:\n",
    "   print(\"Cannot divide by zero\")\n",
    "else:\n",
    "   print(\"The result is\", c)\n"
   ]
  },
  {
   "cell_type": "markdown",
   "id": "fc948aee-78ee-401c-87a7-60de17bea09e",
   "metadata": {},
   "source": [
    "b) finally"
   ]
  },
  {
   "cell_type": "markdown",
   "id": "ff03ddd7-e006-43b1-a54b-0b6160106183",
   "metadata": {},
   "source": [
    "The finally in a try-except is used to execute the code  no matter what, whether an exception is raised or not. "
   ]
  },
  {
   "cell_type": "code",
   "execution_count": 4,
   "id": "50cc4cb0-4558-461e-a6b7-6c8dae4b0aac",
   "metadata": {},
   "outputs": [
    {
     "name": "stdout",
     "output_type": "stream",
     "text": [
      "Cannot divide by zero\n",
      "This block of code will always be executed\n"
     ]
    }
   ],
   "source": [
    "try:\n",
    "   a = 10\n",
    "   b = 0\n",
    "   c = a/b\n",
    "except ZeroDivisionError:\n",
    "   print(\"Cannot divide by zero\")\n",
    "finally:\n",
    "   print(\"This block of code will always be executed\")\n"
   ]
  },
  {
   "cell_type": "markdown",
   "id": "7fecee1c-a69a-4606-9d00-19b087447efa",
   "metadata": {},
   "source": [
    "c) raise -The raise statement can be used to raise a custom exception in a Python program"
   ]
  },
  {
   "cell_type": "code",
   "execution_count": 6,
   "id": "ccebb777-d123-4c2a-825f-6ba5217da372",
   "metadata": {},
   "outputs": [
    {
     "name": "stdout",
     "output_type": "stream",
     "text": [
      "Age cannot be negative\n"
     ]
    }
   ],
   "source": [
    "class MyException(Exception):\n",
    "   def __init__(self, msg):\n",
    "      self.msg = msg\n",
    "\n",
    "try:\n",
    "   age = -10\n",
    "   if age < 0:\n",
    "      raise MyException(\"Age cannot be negative\")\n",
    "except MyException as e:\n",
    "   print(e)\n"
   ]
  },
  {
   "cell_type": "markdown",
   "id": "691b6fbb-e7dc-47b0-b7c1-53d41634c53a",
   "metadata": {},
   "source": [
    "### Q5. What are Custom Exceptions in Python? Why do we need Custom Exceptions? Explain with an example"
   ]
  },
  {
   "cell_type": "markdown",
   "id": "16d898d6-52cd-42bc-80a7-aa9684f3f7b4",
   "metadata": {},
   "source": [
    "Custom exceptions are user-defined exceptions that can be raised and caught in a Python program. They can be used to create our own exceptions and throw an error"
   ]
  },
  {
   "cell_type": "code",
   "execution_count": 7,
   "id": "77933dc0-153b-4302-8658-626adb2d72cf",
   "metadata": {},
   "outputs": [
    {
     "name": "stdout",
     "output_type": "stream",
     "text": [
      "Age cannot be negative\n"
     ]
    }
   ],
   "source": [
    "class MyException(Exception):\n",
    "   def __init__(self, msg):\n",
    "      self.msg = msg\n",
    "\n",
    "try:\n",
    "   age = -10\n",
    "   if age < 0:\n",
    "      raise MyException(\"Age cannot be negative\")\n",
    "except MyException as e:\n",
    "   print(e)\n"
   ]
  },
  {
   "cell_type": "markdown",
   "id": "cf9b044a-0201-4d84-9a9d-d09c1918e490",
   "metadata": {},
   "source": [
    "### Q6. Create a custom exception class. Use this class to handle an exception."
   ]
  },
  {
   "cell_type": "code",
   "execution_count": 8,
   "id": "5de745a2-3637-4358-897d-8ae4c0850e22",
   "metadata": {},
   "outputs": [
    {
     "name": "stdin",
     "output_type": "stream",
     "text": [
      "enter your age -56\n"
     ]
    },
    {
     "name": "stdout",
     "output_type": "stream",
     "text": [
      "age should not be lesser then zero \n"
     ]
    }
   ],
   "source": [
    "class ExceptionDept(Exception) : \n",
    "    def __init__(self, msg) :\n",
    "        self.msg = msg\n",
    "        \n",
    "def check_age(age) : \n",
    "    if age < 0 : \n",
    "        raise ExceptionDept(\"age should not be lesser then zero \" )\n",
    "    elif age > 200 : \n",
    "        raise ExceptionDept(\"age is too high \" )\n",
    "    else :\n",
    "        print(\"age is valid\" )\n",
    "\n",
    "## Main Function\n",
    "\n",
    "try : \n",
    "    age = int(input(\"enter your age\"))\n",
    "    check_age(age)\n",
    "except ExceptionDept as e : \n",
    "    print(e)"
   ]
  },
  {
   "cell_type": "code",
   "execution_count": null,
   "id": "f9a35027-e2be-44e7-a2c9-77957bc66867",
   "metadata": {},
   "outputs": [],
   "source": []
  }
 ],
 "metadata": {
  "kernelspec": {
   "display_name": "Python 3 (ipykernel)",
   "language": "python",
   "name": "python3"
  },
  "language_info": {
   "codemirror_mode": {
    "name": "ipython",
    "version": 3
   },
   "file_extension": ".py",
   "mimetype": "text/x-python",
   "name": "python",
   "nbconvert_exporter": "python",
   "pygments_lexer": "ipython3",
   "version": "3.10.8"
  }
 },
 "nbformat": 4,
 "nbformat_minor": 5
}
