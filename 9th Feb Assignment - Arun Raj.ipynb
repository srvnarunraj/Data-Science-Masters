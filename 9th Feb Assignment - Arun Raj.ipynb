{
 "cells": [
  {
   "cell_type": "markdown",
   "id": "3be6ca25-512f-42e8-b346-54e2bb7304a8",
   "metadata": {},
   "source": [
    "## Q1, Create a vehicle class with an init method having instance variables as name_of_vehicle, max_speed and average_of_vehicle."
   ]
  },
  {
   "cell_type": "code",
   "execution_count": 9,
   "id": "d3abcb8d-d5eb-4451-af64-4ea32ba234f7",
   "metadata": {},
   "outputs": [],
   "source": [
    "class Vehicle:\n",
    "    def init(self, name_of_vehicle, max_speed, average_of_vehicle):\n",
    "        self.name_of_vehicle = name_of_vehicle\n",
    "        self.max_speed = max_speed\n",
    "        self.average_of_vehicle = average_of_vehicle"
   ]
  },
  {
   "cell_type": "markdown",
   "id": "665d13f8-1247-400c-8206-c75373ec1fdc",
   "metadata": {},
   "source": [
    "## Q2. Create a child class car from the vehicle class created in Que 1, which will inherit the vehicle class.\n",
    "Create a method named seating_capacity which takes capacity as an argument and returns the name of\n",
    "the vehicle and its seating capacity."
   ]
  },
  {
   "cell_type": "code",
   "execution_count": 10,
   "id": "7ad1f17b-aab3-4d92-8a49-6251273afd3c",
   "metadata": {},
   "outputs": [],
   "source": [
    "class Car(Vehicle):\n",
    "    def seating_capacity(self, capacity):\n",
    "        return (f\"Name of the vehicle: {self.name_of_vehicle} and Seating Capacity: {capacity}\")"
   ]
  },
  {
   "cell_type": "markdown",
   "id": "bf5544d5-81e3-48c2-927b-72a2a31918b2",
   "metadata": {},
   "source": [
    "## Q3. What is multiple inheritance? Write a python code to demonstrate multiple inheritance."
   ]
  },
  {
   "cell_type": "markdown",
   "id": "051dcb39-46ea-4df2-ae2f-03053e51492a",
   "metadata": {},
   "source": [
    "* Multiple Inheritance : When a child class inherits from 2 or more parents is called Multiple inheritance"
   ]
  },
  {
   "cell_type": "code",
   "execution_count": 11,
   "id": "f0f97a95-6a1a-47a5-bcc4-1150fcbc2a80",
   "metadata": {},
   "outputs": [
    {
     "name": "stdout",
     "output_type": "stream",
     "text": [
      "Class A Method\n",
      "Class B Method\n"
     ]
    }
   ],
   "source": [
    "class A:\n",
    "    def methodA(self):\n",
    "        return \"Class A Method\"\n",
    "\n",
    "class B:\n",
    "    def methodB(self):\n",
    "        return \"Class B Method\"\n",
    "\n",
    "class C(A, B):\n",
    "    pass\n",
    "\n",
    "c = C()\n",
    "print(c.methodA())\n",
    "print(c.methodB())\n"
   ]
  },
  {
   "cell_type": "markdown",
   "id": "af411f49-7081-48fc-8f2e-22ad8074966f",
   "metadata": {},
   "source": [
    "## Q4. What are getter and setter in python? Create a class and create a getter and a setter method in this class."
   ]
  },
  {
   "cell_type": "markdown",
   "id": "ffcaac38-ab23-47d1-a6a4-360c4fac2102",
   "metadata": {},
   "source": [
    ">* Getter & Setter are used to control access to the attributes of an object\n",
    ">* getter : used to get the value \n",
    ">* setter : used to set the value"
   ]
  },
  {
   "cell_type": "code",
   "execution_count": 12,
   "id": "53ca8e28-a5b6-4fbd-9f89-048bdb768629",
   "metadata": {},
   "outputs": [],
   "source": [
    "class car:\n",
    "    \n",
    "    def __init__(self , year , make , model ,speed ) :\n",
    "        self.__year = year \n",
    "        self.__make = make\n",
    "        self.__model = model\n",
    "        self.__speed = speed\n",
    "    \n",
    "    def set_speed(self , speed) : \n",
    "        self.__speed = 0 if speed < 0 else speed \n",
    "    \n",
    "    def get_speed(self) : \n",
    "        return self.__speed"
   ]
  },
  {
   "cell_type": "markdown",
   "id": "a503c2e3-e571-4b67-931c-a92ad56fe137",
   "metadata": {},
   "source": [
    "## Q5.What is method overriding in python? Write a python code to demonstrate method overriding."
   ]
  },
  {
   "cell_type": "markdown",
   "id": "7d5c5f43-9e70-4d58-b11a-8d7112c40983",
   "metadata": {},
   "source": [
    ">* Method Ovveridding : When Parent class method is overriden by the child class method "
   ]
  },
  {
   "cell_type": "code",
   "execution_count": 13,
   "id": "7825d94c-a37f-489f-b6f4-317125632f3a",
   "metadata": {},
   "outputs": [
    {
     "name": "stdout",
     "output_type": "stream",
     "text": [
      "Method from Parent Class\n",
      "Method from Child Class\n"
     ]
    }
   ],
   "source": [
    "class Parent:\n",
    "    def method(self):\n",
    "        return \"Method from Parent Class\"\n",
    "\n",
    "class Child(Parent):\n",
    "    def method(self):\n",
    "        return \"Method from Child Class\"\n",
    "\n",
    "p = Parent()\n",
    "c = Child()\n",
    "print(p.method())\n",
    "print(c.method())"
   ]
  },
  {
   "cell_type": "code",
   "execution_count": null,
   "id": "997df861-9642-4982-af42-2431363a33cd",
   "metadata": {},
   "outputs": [],
   "source": []
  }
 ],
 "metadata": {
  "kernelspec": {
   "display_name": "Python 3 (ipykernel)",
   "language": "python",
   "name": "python3"
  },
  "language_info": {
   "codemirror_mode": {
    "name": "ipython",
    "version": 3
   },
   "file_extension": ".py",
   "mimetype": "text/x-python",
   "name": "python",
   "nbconvert_exporter": "python",
   "pygments_lexer": "ipython3",
   "version": "3.10.8"
  }
 },
 "nbformat": 4,
 "nbformat_minor": 5
}
