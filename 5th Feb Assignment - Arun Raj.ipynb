{
 "cells": [
  {
   "cell_type": "markdown",
   "id": "47c743c4-7799-4380-9533-bab9ff61f7c6",
   "metadata": {},
   "source": [
    "## Q1. Explain Class and Object with respect to Object-Oriented Programming. Give a suitable example."
   ]
  },
  {
   "cell_type": "code",
   "execution_count": 4,
   "id": "59868dfa-3e46-427e-bf98-0e03ed238321",
   "metadata": {},
   "outputs": [
    {
     "name": "stdout",
     "output_type": "stream",
     "text": [
      " A class is a blueprint and object is an instance of a class \n",
      " lets say an car class that can have attributes as car_color,seaters,model. The methods can be startEngine, stopEngine, AutoMode \n"
     ]
    }
   ],
   "source": [
    "print(\" A class is a blueprint and object is an instance of a class \" )\n",
    "print(\"\\r lets say an car class that can have attributes as car_color,seaters,model. The methods can be startEngine, stopEngine, AutoMode \")"
   ]
  },
  {
   "cell_type": "markdown",
   "id": "3c63c4b8-a671-454a-83b6-dd042c032af0",
   "metadata": {},
   "source": [
    "## Q2. Name the four pillars of OOPs."
   ]
  },
  {
   "cell_type": "markdown",
   "id": "5c3676b1-55ba-4999-89e2-65b67b0429e0",
   "metadata": {},
   "source": [
    ">1. Encapsulation: The idea of wrapping data and functions within an object to prevent unauthorized access to data.\n",
    ">2. Abstraction: Hiding the complexity of an object and exposing only the necessary information to the outside world.\n",
    ">3. Inheritance: The ability of one class to inherit attributes and methods from a parent class.\n",
    ">4. Polymorphism: The ability of an object to take on many forms."
   ]
  },
  {
   "cell_type": "markdown",
   "id": "4ec7bb92-f3a4-471a-88b6-feb4ade89e85",
   "metadata": {},
   "source": [
    "## Q3. Explain why the __init__() function is used. Give a suitable example."
   ]
  },
  {
   "cell_type": "code",
   "execution_count": 12,
   "id": "043282ae-ece4-43d6-af2e-e3fbbe02d40c",
   "metadata": {},
   "outputs": [
    {
     "name": "stdout",
     "output_type": "stream",
     "text": [
      "Name : arun\n",
      "Class : 12\n"
     ]
    }
   ],
   "source": [
    "# init()  function is like a constructor of the class \n",
    "\n",
    "class Student:\n",
    "    def __init__(obj, name, myclass):\n",
    "        obj.name = name\n",
    "        obj.myclass = myclass\n",
    "      \n",
    "    def getdata(obj):\n",
    "        print(f\"Name : {obj.name}\")\n",
    "        print(f\"Class : {obj.myclass}\")\n",
    "\n",
    "arun = Student('arun', 12)\n",
    "arun.getdata()\n"
   ]
  },
  {
   "cell_type": "markdown",
   "id": "34347e3c-ee1f-4f70-a51c-bd0691ec5a2a",
   "metadata": {},
   "source": [
    "## Q4. Why self is used in OOPs?"
   ]
  },
  {
   "cell_type": "markdown",
   "id": "0e5bb205-730e-4d19-bb56-d93b781444c5",
   "metadata": {},
   "source": [
    ">* Self is used to refer to the instance of an object within the class.  \n",
    ">* In the above example we used obj as a object reference and called the methods "
   ]
  },
  {
   "cell_type": "markdown",
   "id": "716cf494-9098-4bd8-9643-6ad0c08c0c43",
   "metadata": {},
   "source": [
    "## Q5. What is inheritance? Give an example for each type of inheritance."
   ]
  },
  {
   "cell_type": "markdown",
   "id": "7885fadb-e462-4ad4-89ba-a1c6a81f1aa3",
   "metadata": {},
   "source": [
    ">* Inheritance is used to inherit the parent class methods and properties"
   ]
  },
  {
   "cell_type": "code",
   "execution_count": 19,
   "id": "820588ec-c4fa-4d2b-9099-57d931fedb68",
   "metadata": {},
   "outputs": [],
   "source": [
    "class A():\n",
    "    def m1(self):\n",
    "        print('method 1')\n",
    "class B(A):\n",
    "    def m2(self):\n",
    "        print('method 2')"
   ]
  },
  {
   "cell_type": "code",
   "execution_count": 21,
   "id": "859a2a84-d0cd-4e0e-bcb3-bec97c0dd80e",
   "metadata": {},
   "outputs": [
    {
     "name": "stdout",
     "output_type": "stream",
     "text": [
      "method 1\n",
      "method 2\n"
     ]
    }
   ],
   "source": [
    "obj = B()\n",
    "obj.m1()\n",
    "obj.m2()"
   ]
  }
 ],
 "metadata": {
  "kernelspec": {
   "display_name": "Python 3 (ipykernel)",
   "language": "python",
   "name": "python3"
  },
  "language_info": {
   "codemirror_mode": {
    "name": "ipython",
    "version": 3
   },
   "file_extension": ".py",
   "mimetype": "text/x-python",
   "name": "python",
   "nbconvert_exporter": "python",
   "pygments_lexer": "ipython3",
   "version": "3.10.8"
  }
 },
 "nbformat": 4,
 "nbformat_minor": 5
}
