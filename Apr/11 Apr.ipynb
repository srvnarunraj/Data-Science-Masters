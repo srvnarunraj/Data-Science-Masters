{
 "cells": [
  {
   "cell_type": "markdown",
   "id": "efcd1024-5f92-4a44-9933-91cd0459ddb4",
   "metadata": {},
   "source": [
    "## Q1. What is an ensemble technique in machine learning?\n",
    "\n",
    "An ensemble technique in machine learning refers to the process of combining multiple models, which may use different algorithms, feature sets, or hyperparameters, to make more accurate predictions than a single model could achieve alone.\n",
    "\n",
    "## Q2. Why are ensemble techniques used in machine learning?\n",
    " Ensemble techniques are used in machine learning because they can improve the accuracy and robustness of a model, especially when the individual models have different strengths and weaknesses. Ensemble models can also reduce overfitting and increase generalization performance.\n",
    "\n",
    "## Q3. What is bagging?\n",
    "Bagging, which stands for bootstrap aggregating, is an ensemble technique in which multiple models are trained on different bootstrap samples of the training data, and their predictions are averaged to make a final prediction. Bagging is often used with decision tree models to reduce their variance and improve their accuracy.\n",
    "\n",
    "## Q4. What is boosting?\n",
    "\n",
    " Boosting is another ensemble technique that works by iteratively training weak models on the misclassified samples from previous iterations, in order to create a strong model that can make accurate predictions. Boosting algorithms such as AdaBoost and Gradient Boosting are often used in machine learning.\n",
    "\n",
    "## Q5. What are the benefits of using ensemble techniques?\n",
    "\n",
    " The benefits of using ensemble techniques include improved accuracy, robustness, and generalization performance of models, as well as the ability to reduce overfitting and handle noisy or incomplete data. Ensemble techniques can also combine the strengths of different models and algorithms, and provide more insights into the underlying data and patterns.\n",
    "\n",
    "## Q6. Are ensemble techniques always better than individual models?\n",
    "\n",
    " Ensemble techniques are not always better than individual models, as their effectiveness depends on various factors such as the quality and diversity of the base models, the nature and complexity of the problem, and the amount and quality of the data. In some cases, a single well-tuned model may perform better than an ensemble of models.\n",
    "\n",
    "## Q7. How is the confidence interval calculated using bootstrap?\n",
    "\n",
    " The confidence interval using bootstrap is calculated by repeatedly resampling the original data with replacement to create multiple bootstrap samples, and then calculating the statistic of interest (e.g., mean, standard deviation) on each of these samples. The distribution of these statistics is used to estimate the sampling distribution and calculate the confidence interval using the percentile method or the bias-corrected and accelerated (BCa) method.\n",
    "\n",
    "## Q8. How does bootstrap work and What are the steps involved in bootstrap?\n",
    "\n",
    " Bootstrap is a resampling technique that involves creating multiple bootstrap samples from the original data by randomly sampling with replacement. The steps involved in bootstrap are:\n",
    " \n",
    "1. Obtain a random sample of size n from the original dataset.\n",
    "2. Generate multiple bootstrap samples by randomly selecting n observations with replacement from the original dataset.\n",
    "3. Calculate the statistic of interest (e.g., mean, standard deviation) on each bootstrap sample.\n",
    "4. Calculate the sampling distribution of the statistic by aggregating the bootstrap sample statistics.\n",
    "5. Estimate the confidence interval of the statistic by calculating the percentiles of the sampling distribution or using the BCa method"
   ]
  },
  {
   "cell_type": "markdown",
   "id": "1c25ac3b-a4de-4a70-89c2-863a4c1f03c5",
   "metadata": {},
   "source": [
    "## Q9. A researcher wants to estimate the mean height of a population of trees. They measure the height of a sample of 50 trees and obtain a mean height of 15 meters and a standard deviation of 2 meters. Use bootstrap to estimate the 95% confidence interval for the population mean height.\n",
    "\n",
    "To estimate the 95% confidence interval for the population mean height using bootstrap, we can follow these steps:\n",
    "\n",
    "1. Generate multiple bootstrap samples of size 50 from the original sample of 50 tree heights, by randomly selecting 50 heights with replacement.\n",
    "2. Calculate the mean height on each bootstrap sample.\n",
    "3. Calculate the sampling distribution of the mean height by aggregating the bootstrap sample means.\n",
    "4. Calculate the 2.5th and 97.5th percentiles of the sampling distribution to obtain the 95% confidence interval.\n",
    "5. Using the given sample data, the bootstrap mean height can be calculated by generating multiple bootstrap samples, calculating the mean on each sample, and then taking the average of the means. For example, generating 1000 bootstrap samples, the bootstrap mean height can be calculated as:"
   ]
  },
  {
   "cell_type": "code",
   "execution_count": 1,
   "id": "e662b1c0-6b5f-4673-8849-3bde170fb6ae",
   "metadata": {},
   "outputs": [
    {
     "name": "stdout",
     "output_type": "stream",
     "text": [
      "The bootstrap mean height is 15.00 meters.\n",
      "The 95% confidence interval for the population mean height is (15.00, 15.00) meters.\n"
     ]
    }
   ],
   "source": [
    "import numpy as np\n",
    "\n",
    "sample_heights = np.array([15] * 50)  # create an array of the sample heights\n",
    "n_bootstrap = 1000  # number of bootstrap samples to generate\n",
    "\n",
    "bootstrap_means = []\n",
    "for i in range(n_bootstrap):\n",
    "    bootstrap_sample = np.random.choice(sample_heights, size=50, replace=True)\n",
    "    bootstrap_means.append(np.mean(bootstrap_sample))\n",
    "\n",
    "bootstrap_mean_height = np.mean(bootstrap_means)\n",
    "print(f\"The bootstrap mean height is {bootstrap_mean_height:.2f} meters.\")\n",
    "lower_ci, upper_ci = np.percentile(bootstrap_means, [2.5, 97.5])\n",
    "print(f\"The 95% confidence interval for the population mean height is ({lower_ci:.2f}, {upper_ci:.2f}) meters.\")\n"
   ]
  },
  {
   "cell_type": "code",
   "execution_count": null,
   "id": "2b64eabb-fae3-47f8-b130-ae1b7e029b67",
   "metadata": {},
   "outputs": [],
   "source": []
  }
 ],
 "metadata": {
  "kernelspec": {
   "display_name": "Python 3 (ipykernel)",
   "language": "python",
   "name": "python3"
  },
  "language_info": {
   "codemirror_mode": {
    "name": "ipython",
    "version": 3
   },
   "file_extension": ".py",
   "mimetype": "text/x-python",
   "name": "python",
   "nbconvert_exporter": "python",
   "pygments_lexer": "ipython3",
   "version": "3.10.8"
  }
 },
 "nbformat": 4,
 "nbformat_minor": 5
}
