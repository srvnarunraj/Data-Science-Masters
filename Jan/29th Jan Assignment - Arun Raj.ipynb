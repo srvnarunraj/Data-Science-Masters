{
 "cells": [
  {
   "cell_type": "markdown",
   "id": "dbe55ff5-74cc-4613-9f8c-dbe7c3c8a1aa",
   "metadata": {},
   "source": [
    "## 1. Who Devleoped python programming Language"
   ]
  },
  {
   "cell_type": "code",
   "execution_count": 88,
   "id": "178f76cc-cf12-425d-937c-08bc6f088ad4",
   "metadata": {},
   "outputs": [
    {
     "name": "stdout",
     "output_type": "stream",
     "text": [
      " Python is developed by Guido van Rossum  in 1991 \n"
     ]
    }
   ],
   "source": [
    "print(\" Python is developed by Guido van Rossum  in 1991 \")"
   ]
  },
  {
   "cell_type": "markdown",
   "id": "a6eba0b6-5496-48cf-a867-97a581be0975",
   "metadata": {},
   "source": [
    "## 2. Which type of programming does python Support"
   ]
  },
  {
   "cell_type": "code",
   "execution_count": 89,
   "id": "7a449ebd-c9f0-4d9a-93a0-88e686e9080d",
   "metadata": {},
   "outputs": [
    {
     "name": "stdout",
     "output_type": "stream",
     "text": [
      " Python is an- interpreted, object-oriented, high-level programming language with dynamic semantics. \n"
     ]
    }
   ],
   "source": [
    "print(\" Python is an- interpreted, object-oriented, high-level programming language with dynamic semantics. \")"
   ]
  },
  {
   "cell_type": "markdown",
   "id": "b83fbb85-cffd-41f0-a7f4-4e2dc77c33d5",
   "metadata": {},
   "source": [
    "## 3. Is python case sensitive when dealing with identifiers"
   ]
  },
  {
   "cell_type": "code",
   "execution_count": 90,
   "id": "f0339fea-8cee-448f-89b2-7ca1a9f9749b",
   "metadata": {},
   "outputs": [
    {
     "name": "stdout",
     "output_type": "stream",
     "text": [
      "Yes, Python is case sensitive with indentifiers \n"
     ]
    }
   ],
   "source": [
    "print(\"Yes, Python is case sensitive with indentifiers \")"
   ]
  },
  {
   "cell_type": "markdown",
   "id": "b025fa7d-690b-4563-b9b9-0323e22812fa",
   "metadata": {},
   "source": [
    "## 4. Correct extension of python file"
   ]
  },
  {
   "cell_type": "code",
   "execution_count": 91,
   "id": "9aa7205f-02e6-4f35-b491-8cc26c938954",
   "metadata": {},
   "outputs": [
    {
     "name": "stdout",
     "output_type": "stream",
     "text": [
      " Correct extension of python file is '.py' \n"
     ]
    }
   ],
   "source": [
    "print(\" Correct extension of python file is '.py' \")"
   ]
  },
  {
   "cell_type": "markdown",
   "id": "dcc3d9ce-e59d-42f0-891d-0aef2b80ac90",
   "metadata": {},
   "source": [
    "## 5. Is python code compiled or interpreted"
   ]
  },
  {
   "cell_type": "code",
   "execution_count": 92,
   "id": "21f90ae1-9f74-4ca3-a01e-1ac345ba7c01",
   "metadata": {},
   "outputs": [
    {
     "name": "stdout",
     "output_type": "stream",
     "text": [
      " python is interpreted language\n"
     ]
    }
   ],
   "source": [
    "print(\" python is interpreted language\")"
   ]
  },
  {
   "cell_type": "markdown",
   "id": "399fe59d-c4a2-471d-9da2-785254f39135",
   "metadata": {},
   "source": [
    "## 6. Name a few blocks of code used to define in python language"
   ]
  },
  {
   "cell_type": "code",
   "execution_count": 104,
   "id": "4ea623bb-7724-4252-aba5-c24239e04705",
   "metadata": {},
   "outputs": [
    {
     "name": "stdout",
     "output_type": "stream",
     "text": [
      "9\n",
      "8\n",
      "7\n",
      "6\n",
      "4\n"
     ]
    }
   ],
   "source": [
    "a=10\n",
    "while a > 4:     # While loop\n",
    "    a -=1\n",
    "    if a ==5:    # if Block\n",
    "        pass\n",
    "    else:\n",
    "        print(a)"
   ]
  },
  {
   "cell_type": "markdown",
   "id": "67176806-529c-4ee5-b138-0bb603837e67",
   "metadata": {},
   "source": [
    "## 7. State a character used to give single - line comments in python"
   ]
  },
  {
   "cell_type": "code",
   "execution_count": 105,
   "id": "4a5283b4-e0c8-4f73-aff6-435c5084d541",
   "metadata": {},
   "outputs": [
    {
     "name": "stdout",
     "output_type": "stream",
     "text": [
      " ' # ' For single line comment \n"
     ]
    }
   ],
   "source": [
    "print(\" ' # ' For single line comment \")"
   ]
  },
  {
   "cell_type": "markdown",
   "id": "7d1f1f0a-4dfa-45da-94ca-c8de5b2c1ecd",
   "metadata": {},
   "source": [
    "## 8. Mention funcitons which can help us the find the version of python that we are currently working on"
   ]
  },
  {
   "cell_type": "code",
   "execution_count": 106,
   "id": "15eb74d4-2e27-42fd-9794-30c123ba730a",
   "metadata": {},
   "outputs": [
    {
     "name": "stdout",
     "output_type": "stream",
     "text": [
      " The Function sys.version & platform.python_version() is used to identify version python version \n"
     ]
    }
   ],
   "source": [
    "print(\" The Function sys.version & platform.python_version() is used to identify version python version \")"
   ]
  },
  {
   "cell_type": "markdown",
   "id": "0459ea5f-ee68-4476-b74e-b69bdbb49456",
   "metadata": {},
   "source": [
    "## 9. python supports the creation of anonmous functions at runtime using a constructor called"
   ]
  },
  {
   "cell_type": "code",
   "execution_count": 107,
   "id": "434db87d-bcf7-4f05-b49f-891dbceed20b",
   "metadata": {},
   "outputs": [
    {
     "name": "stdout",
     "output_type": "stream",
     "text": [
      "9\n"
     ]
    }
   ],
   "source": [
    "addition = lambda a, b: a + b\n",
    "print(addition(4,5))"
   ]
  },
  {
   "cell_type": "markdown",
   "id": "eccab7b5-c304-49f7-bbd0-d97f4b843649",
   "metadata": {},
   "source": [
    "## 10. PIP Stand for python"
   ]
  },
  {
   "cell_type": "code",
   "execution_count": 108,
   "id": "2c7f44da-4e36-4c92-ac4d-900f875350c2",
   "metadata": {},
   "outputs": [
    {
     "name": "stdout",
     "output_type": "stream",
     "text": [
      " pip stands for preferred installer program \n"
     ]
    }
   ],
   "source": [
    "print(\" pip stands for preferred installer program \")"
   ]
  },
  {
   "cell_type": "markdown",
   "id": "caac4ee2-f495-4789-a378-9bb7e32b11c3",
   "metadata": {},
   "source": [
    "## 11. Mention a few built in functions in python"
   ]
  },
  {
   "cell_type": "code",
   "execution_count": 109,
   "id": "bf0abed9-cf4b-43c1-89c2-f507d1b10760",
   "metadata": {},
   "outputs": [
    {
     "name": "stdout",
     "output_type": "stream",
     "text": [
      "print(), type(), input(), id() , len() , sum() \n"
     ]
    }
   ],
   "source": [
    "print(\"print(), type(), input(), id() , len() , sum() \")"
   ]
  },
  {
   "cell_type": "markdown",
   "id": "d972df94-a7fb-4fdd-ad24-03803dbb1e0f",
   "metadata": {},
   "source": [
    "## 12. Max possible Length of an identifier in python"
   ]
  },
  {
   "cell_type": "code",
   "execution_count": 110,
   "id": "4f687003-5c38-486f-b188-d0da31658d9c",
   "metadata": {},
   "outputs": [
    {
     "name": "stdout",
     "output_type": "stream",
     "text": [
      " Maximum length possible is 79 characters \n"
     ]
    }
   ],
   "source": [
    "print(\" Maximum length possible is 79 characters \")"
   ]
  },
  {
   "cell_type": "markdown",
   "id": "3e70b325-7de6-4fcb-9bee-3c839fc3c4c7",
   "metadata": {},
   "source": [
    "## 13. benefits using python"
   ]
  },
  {
   "cell_type": "code",
   "execution_count": 111,
   "id": "524b9fef-9835-406b-ad11-61b2290ba108",
   "metadata": {},
   "outputs": [
    {
     "name": "stdout",
     "output_type": "stream",
     "text": [
      " Quality of software : Python was meant for readability. \n",
      " Productivity of Developers : debugging can be easy and it will be less prone to error \n",
      " Portability : Mostly it’s platform-independent \n",
      " Supporting Libraries : Python already has a lot of inbuilt libraries that come with the standard python package \n",
      " Fun to use : simplicity and availability of lots of supporting libraries \n"
     ]
    }
   ],
   "source": [
    "answers = [\" Quality of software : Python was meant for readability. \",\n",
    "           \" Productivity of Developers : debugging can be easy and it will be less prone to error \",\n",
    "           \" Portability : Mostly it’s platform-independent \",\n",
    "           \" Supporting Libraries : Python already has a lot of inbuilt libraries that come with the standard python package \",\n",
    "           \" Fun to use : simplicity and availability of lots of supporting libraries \"]\n",
    "for i in answers:\n",
    "    print(i)"
   ]
  },
  {
   "cell_type": "markdown",
   "id": "e6df4121-0e15-41cb-a367-53d7455d9cb2",
   "metadata": {},
   "source": [
    "## 14. Memory Management in python"
   ]
  },
  {
   "cell_type": "code",
   "execution_count": 112,
   "id": "2a7a7a69-b0e7-414b-8518-cdac15192090",
   "metadata": {},
   "outputs": [
    {
     "name": "stdout",
     "output_type": "stream",
     "text": [
      "memory management is automatic and handled by the Python interpreter\n",
      "Python interpreter uses a garbage collector to automatically manage the memory used by your program\n"
     ]
    }
   ],
   "source": [
    "print('memory management is automatic and handled by the Python interpreter')\n",
    "print('Python interpreter uses a garbage collector to automatically manage the memory used by your program')"
   ]
  },
  {
   "cell_type": "markdown",
   "id": "cef61106-002f-45e3-8daa-1b98810e170d",
   "metadata": {},
   "source": [
    "## 15. how to install python on windows and set path variables  "
   ]
  },
  {
   "cell_type": "code",
   "execution_count": 113,
   "id": "c6b32df6-1c3e-4fd2-ae5c-85799e4aa5e4",
   "metadata": {},
   "outputs": [
    {
     "name": "stdout",
     "output_type": "stream",
     "text": [
      "\n",
      " In the Environment Variables dialog, scroll down to the System variables section, find the Path variable, and click  Edit \n",
      "\n",
      " Download the Python from the official Python website\n",
      "\n",
      " Add the path to your Python installation to the end of the existing path\n"
     ]
    }
   ],
   "source": [
    "answers=[\"In the Environment Variables dialog, scroll down to the System variables section, find the Path variable, and click  Edit \",\n",
    "       \"Download the Python from the official Python website\",\"Add the path to your Python installation to the end of the existing path\"]\n",
    "for i in answers:\n",
    "    print(\"\\n\",i)"
   ]
  },
  {
   "cell_type": "markdown",
   "id": "18b037d1-a875-477a-bbbc-143767ecde6b",
   "metadata": {},
   "source": [
    "## 16. Is indentation required in python"
   ]
  },
  {
   "cell_type": "code",
   "execution_count": 114,
   "id": "44df11ff-333a-44c6-9ac0-2777d6a33ddb",
   "metadata": {},
   "outputs": [
    {
     "name": "stdout",
     "output_type": "stream",
     "text": [
      " Python requires indentation \n"
     ]
    }
   ],
   "source": [
    "print(' Python requires indentation ')"
   ]
  }
 ],
 "metadata": {
  "kernelspec": {
   "display_name": "Python 3 (ipykernel)",
   "language": "python",
   "name": "python3"
  },
  "language_info": {
   "codemirror_mode": {
    "name": "ipython",
    "version": 3
   },
   "file_extension": ".py",
   "mimetype": "text/x-python",
   "name": "python",
   "nbconvert_exporter": "python",
   "pygments_lexer": "ipython3",
   "version": "3.10.8"
  }
 },
 "nbformat": 4,
 "nbformat_minor": 5
}
