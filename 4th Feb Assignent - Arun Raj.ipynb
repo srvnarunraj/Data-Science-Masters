{
 "cells": [
  {
   "cell_type": "markdown",
   "id": "a3a3b5db-986b-44ee-89d8-a65ea4296644",
   "metadata": {},
   "source": [
    "## Q1. Create a python program to sort the given list of tuples based on integer value using a lambda function.\n",
    "[('Sachin Tendulkar', 34357), ('Ricky Ponting', 27483), ('Jack Kallis', 25534), ('Virat Kohli', 24936)]"
   ]
  },
  {
   "cell_type": "code",
   "execution_count": 82,
   "id": "233ae2f7-8051-452a-aeef-75f3dad3f172",
   "metadata": {},
   "outputs": [],
   "source": [
    "a = [('Sachin Tendulkar', 34357), ('Ricky Ponting', 27483), ('Jack Kallis', 25534), ('Virat Kohli', 24936)]"
   ]
  },
  {
   "cell_type": "code",
   "execution_count": 83,
   "id": "a1bd0302-ec86-4491-9423-b654e1c9ec25",
   "metadata": {},
   "outputs": [
    {
     "name": "stdout",
     "output_type": "stream",
     "text": [
      "[('Virat Kohli', 24936), ('Jack Kallis', 25534), ('Ricky Ponting', 27483), ('Sachin Tendulkar', 34357)]\n"
     ]
    }
   ],
   "source": [
    "a.sort(key=lambda i: i[1])\n",
    "print(a)"
   ]
  },
  {
   "cell_type": "markdown",
   "id": "0e03e22a-6f45-4eac-aba0-e15d931b2c8b",
   "metadata": {},
   "source": [
    "## Q2. Write a Python Program to find the squares of all the numbers in the given list of integers using lambda and map functions.\n",
    "[1, 2, 3, 4, 5, 6, 7, 8, 9, 10]\n"
   ]
  },
  {
   "cell_type": "code",
   "execution_count": 84,
   "id": "5ddff5bb-ba25-4ae0-b0de-4b585996a567",
   "metadata": {},
   "outputs": [
    {
     "data": {
      "text/plain": [
       "[1, 4, 9, 16, 25, 36, 49, 64, 81, 100]"
      ]
     },
     "execution_count": 84,
     "metadata": {},
     "output_type": "execute_result"
    }
   ],
   "source": [
    "x = [1, 2, 3, 4, 5, 6, 7, 8, 9, 10]\n",
    "list(map(lambda i : i*i,x))"
   ]
  },
  {
   "cell_type": "markdown",
   "id": "ea0e5cf8-c1a2-40cb-aca2-914820cd0ea3",
   "metadata": {},
   "source": [
    "## Q3. Write a python program to convert the given list of integers into a tuple of strings. Use map and lambda functions\n",
    "Given String: [1, 2, 3, 4, 5, 6, 7, 8, 9, 10]\n",
    "Expected output: ('1', '2', '3', '4', '5', '6', '7', '8', '9', '10')\n"
   ]
  },
  {
   "cell_type": "code",
   "execution_count": 85,
   "id": "9efce0df-008e-4ae2-9fad-2bba05d70435",
   "metadata": {},
   "outputs": [
    {
     "data": {
      "text/plain": [
       "('1', '2', '3', '4', '5', '6', '7', '8', '9', '10')"
      ]
     },
     "execution_count": 85,
     "metadata": {},
     "output_type": "execute_result"
    }
   ],
   "source": [
    "x : [1, 2, 3, 4, 5, 6, 7, 8, 9, 10]\n",
    "tuple(map(lambda i : str(i),x)) "
   ]
  },
  {
   "cell_type": "markdown",
   "id": "8f1130fb-0028-444c-b297-1014ccd66df1",
   "metadata": {},
   "source": [
    "## Q4. Write a python program using reduce function to compute the product of a list containing numbers from 1 to 25.\n"
   ]
  },
  {
   "cell_type": "code",
   "execution_count": 86,
   "id": "61dbcc95-755e-4e77-bca8-b6ca4eeb8604",
   "metadata": {},
   "outputs": [
    {
     "name": "stdout",
     "output_type": "stream",
     "text": [
      "15511210043330985984000000\n"
     ]
    }
   ],
   "source": [
    "from functools import  reduce\n",
    "n = [i for i in range(1,26)]\n",
    "result = reduce(lambda x,y : x*y,n)\n",
    "print(result)"
   ]
  },
  {
   "cell_type": "markdown",
   "id": "d48197fd-1115-4e0f-960d-7d07a871ff6b",
   "metadata": {},
   "source": [
    "## Q5. Write a python program to filter the numbers in a given list that are divisible by 2 and 3 using the filter function.\n",
    "[2, 3, 6, 9, 27, 60, 90, 120, 55, 46]\n"
   ]
  },
  {
   "cell_type": "code",
   "execution_count": 87,
   "id": "73c82965-1f9c-48d0-96a0-7681842e394e",
   "metadata": {},
   "outputs": [
    {
     "data": {
      "text/plain": [
       "[6, 60, 90, 120]"
      ]
     },
     "execution_count": 87,
     "metadata": {},
     "output_type": "execute_result"
    }
   ],
   "source": [
    "l = [2, 3, 6, 9, 27, 60, 90, 120, 55, 46]\n",
    "list(filter(lambda x : x%2 == 0 and x%3 ==0,l))"
   ]
  },
  {
   "cell_type": "markdown",
   "id": "19336f53-8921-4e06-a74c-e85c0fff4046",
   "metadata": {},
   "source": [
    "## Q6. Write a python program to find palindromes in the given list of strings using lambda and filter function.\n",
    "['python', 'php', 'aba', 'radar', 'level']"
   ]
  },
  {
   "cell_type": "code",
   "execution_count": 88,
   "id": "92f91528-1d58-4dea-8b3f-fd5487210f0f",
   "metadata": {},
   "outputs": [],
   "source": [
    "l = ['python', 'php', 'aba', 'radar', 'level']"
   ]
  },
  {
   "cell_type": "code",
   "execution_count": 89,
   "id": "c76b3419-0b89-42e1-86ec-f4a3abd6ea46",
   "metadata": {},
   "outputs": [
    {
     "data": {
      "text/plain": [
       "['php', 'aba', 'radar', 'level']"
      ]
     },
     "execution_count": 89,
     "metadata": {},
     "output_type": "execute_result"
    }
   ],
   "source": [
    "list(filter(lambda x : x == x[::-1],l) )"
   ]
  },
  {
   "cell_type": "code",
   "execution_count": null,
   "id": "14c65c0e-26a7-4016-a1f4-56fc78690952",
   "metadata": {},
   "outputs": [],
   "source": []
  }
 ],
 "metadata": {
  "kernelspec": {
   "display_name": "Python 3 (ipykernel)",
   "language": "python",
   "name": "python3"
  },
  "language_info": {
   "codemirror_mode": {
    "name": "ipython",
    "version": 3
   },
   "file_extension": ".py",
   "mimetype": "text/x-python",
   "name": "python",
   "nbconvert_exporter": "python",
   "pygments_lexer": "ipython3",
   "version": "3.10.8"
  }
 },
 "nbformat": 4,
 "nbformat_minor": 5
}
