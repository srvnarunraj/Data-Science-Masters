{
 "cells": [
  {
   "cell_type": "markdown",
   "id": "d8cacf33-aaef-4036-9b51-c67648928307",
   "metadata": {},
   "source": [
    "### Q1. What is multithreading in python? hy is it used? Name the module used to handle threads in python"
   ]
  },
  {
   "cell_type": "markdown",
   "id": "85ee4a57-8f46-45c3-b41c-fb781b0a9d9b",
   "metadata": {},
   "source": [
    "* Multithreading in Python refers to the ability to run multiple threads  within a single process.\n",
    "* It allows multiple threads to execute concurrently within the same program and can be used to improve performance by taking advantage "
   ]
  },
  {
   "cell_type": "markdown",
   "id": "5dba0a53-acb2-45dd-ae4c-96d41783e875",
   "metadata": {
    "tags": []
   },
   "source": [
    "### Q2. Why threading module used? rite the use of the following functions\n",
    " 1. (activeCount)\n",
    " 2. (currentThread)\n",
    " 3. (enumerate)"
   ]
  },
  {
   "cell_type": "markdown",
   "id": "fb459255-c98a-4671-a069-77145ce0096b",
   "metadata": {},
   "source": [
    "The threading module is used to working with threads The functions are:\n",
    "* **activeCount**: \n",
    "\treturns the number of active threads in the current process.\n",
    "* **currentThread**:\n",
    "\treturns a reference to the current thread.\n",
    "* **enumerate**: \n",
    "\treturns a list of all active Thread objects in the current process."
   ]
  },
  {
   "cell_type": "markdown",
   "id": "25eb48f6-e884-4e53-bf21-fda6d50c5f15",
   "metadata": {},
   "source": [
    "### Q3. Explain the following functions\n",
    "1. run()\n",
    "2. start()\n",
    "3. join()\n",
    "4. isAlive()"
   ]
  },
  {
   "cell_type": "markdown",
   "id": "81f4c2b7-9382-4f1b-80db-5f741ff4e679",
   "metadata": {},
   "source": [
    "1. **run**: the entry point for a thread, which is called when the start() method is called on a thread object.\n",
    "2. **start**: starts the thread’s activity, which calls the run() method.\n",
    "3. **join**: waits for the thread to terminate. It blocks the calling thread until the thread whose join() method is called terminates.\n",
    "4. **isAlive**: returns a boolean indicating whether the thread is alive."
   ]
  },
  {
   "cell_type": "markdown",
   "id": "faa60187-af05-4858-8970-6e02043f3d52",
   "metadata": {},
   "source": [
    "### Q4. Write a python program to create two threads. Thread one must print the list of squares and thread two must print the list of cubes"
   ]
  },
  {
   "cell_type": "code",
   "execution_count": 7,
   "id": "68b5c805-9881-4a3f-b841-4e13cd932a82",
   "metadata": {},
   "outputs": [
    {
     "name": "stdout",
     "output_type": "stream",
     "text": [
      "0\n",
      "0\n",
      "1\n",
      "1\n",
      "4\n",
      "8\n",
      "9\n",
      "27\n",
      "16\n",
      "64\n",
      "25\n",
      "125\n",
      "36\n",
      "216\n",
      "49\n",
      "343\n",
      "64\n",
      "512\n",
      "81\n",
      "729\n"
     ]
    }
   ],
   "source": [
    "import threading\n",
    "\n",
    "def print_squares(i):\n",
    "    print(i**2)\n",
    "\n",
    "def print_cubes(i):\n",
    "    print(i**3)\n",
    "\n",
    "t1 = [threading.Thread(target=print_squares , args = (i,)) for i in range(10)]\n",
    "t2 = [threading.Thread(target=print_cubes , args = (i,)) for i in range(10)]\n",
    "\n",
    "for (i,j) in zip(t1,t2):\n",
    "    i.start()\n",
    "    j.start()\n",
    "    i.join()\n",
    "    j.join()\n"
   ]
  },
  {
   "cell_type": "markdown",
   "id": "bb70c9ae-c4de-481a-8188-a8016d06e3d3",
   "metadata": {
    "tags": []
   },
   "source": [
    "### Q5. State advantages and disadvantages of multithreading"
   ]
  },
  {
   "cell_type": "markdown",
   "id": "adda4505-5c68-4bf9-8f30-6b228fc522d7",
   "metadata": {},
   "source": [
    "* **Advantages of multithreading** : improved performance, responsiveness, and resource utilization. \n",
    "\tIt can also simplify program design by allowing for more natural expression of concurrency"
   ]
  },
  {
   "cell_type": "markdown",
   "id": "c348d761-dff4-48cf-a303-c23e106f17ed",
   "metadata": {},
   "source": [
    " * **Disadvantages of multithreading** :   increased complexity, potential for race conditions and deadlocks, and the need for synchronization mechanisms."
   ]
  },
  {
   "cell_type": "markdown",
   "id": "7fc2b0ee-ee07-4a03-a03e-8a375168a44c",
   "metadata": {},
   "source": [
    "### Q6. Explain deadlocks and race conditions."
   ]
  },
  {
   "cell_type": "markdown",
   "id": "241d3e61-73b8-4edd-936e-9d815e1293c7",
   "metadata": {},
   "source": [
    "* **DeadLocks** : A deadlock occurs when two or more threads are blocked, waiting for each other to release resources they need to proceed."
   ]
  },
  {
   "cell_type": "markdown",
   "id": "51e01162-dcea-4eaa-8682-8aa34472653f",
   "metadata": {},
   "source": [
    "* **race condition** :  when the behavior of a program depends on the relative timing of events or processes, and the outcome depends on which one occurs first. Race conditions can lead to unpredictable behavior and bugs."
   ]
  },
  {
   "cell_type": "code",
   "execution_count": null,
   "id": "f07b1cc2-f87c-497e-a51a-f518c2b052c1",
   "metadata": {},
   "outputs": [],
   "source": []
  }
 ],
 "metadata": {
  "kernelspec": {
   "display_name": "Python 3 (ipykernel)",
   "language": "python",
   "name": "python3"
  },
  "language_info": {
   "codemirror_mode": {
    "name": "ipython",
    "version": 3
   },
   "file_extension": ".py",
   "mimetype": "text/x-python",
   "name": "python",
   "nbconvert_exporter": "python",
   "pygments_lexer": "ipython3",
   "version": "3.10.8"
  }
 },
 "nbformat": 4,
 "nbformat_minor": 5
}
